{
 "cells": [
  {
   "cell_type": "code",
   "execution_count": 1,
   "metadata": {},
   "outputs": [
    {
     "name": "stdout",
     "output_type": "stream",
     "text": [
      "c:\\Users\\HP\\Documents\\GitHub\\ANALISIS-REPORTES-ESG-CHIRIMBOLO-HACKITBA\n"
     ]
    }
   ],
   "source": [
    "# autoreload imports\n",
    "%load_ext autoreload\n",
    "%autoreload 2\n",
    "%cd ../"
   ]
  },
  {
   "cell_type": "code",
   "execution_count": 7,
   "metadata": {},
   "outputs": [
    {
     "name": "stdout",
     "output_type": "stream",
     "text": [
      "\n",
      "[+] Extracting text from Grupo MR 2022-2023.pdf\n",
      "[*] Started job with ID: f00fac475ecfcc265cea9bc9c925249d75a793d1988dd158abff2ffcce12d747...\n",
      "[*] In progress, waiting...\n",
      "[+] Text extraction succeeded.\n",
      "\n",
      "[+] Extracting text from Pampa-2022-Reporte-Sustentabilidad.pdf\n",
      "[*] Started job with ID: 3a17d56ca1444364a4dae5c8c199b6187eb5f79f929282488eddc2ae94747f5a...\n",
      "[*] In progress, waiting...\n",
      "[*] In progress, waiting...\n",
      "[*] In progress, waiting...\n",
      "[+] Text extraction succeeded.\n",
      "\n",
      "[+] Extracting text from Telecom Argentina - Infografia_Memoria Anual Integrada 2022.pdf\n",
      "[*] Started job with ID: bdff1b222131df925eb4659d1c70b9e68f7879d1a7f837610946979041abba1e...\n",
      "[*] In progress, waiting...\n",
      "[+] Text extraction succeeded.\n",
      "\n",
      "[+] Extracting text from Central Puerto-Reporte-de-Sustentabilidad-2023-VF.pdf\n",
      "[*] Started job with ID: 1ac56f76d9e4388817fac557545b35d1ec23dcbe4da1aae09ab93037580f90f3...\n",
      "[*] In progress, waiting...\n",
      "[*] In progress, waiting...\n",
      "[+] Text extraction succeeded.\n"
     ]
    }
   ],
   "source": [
    "# Parse all esg reports to text using aws textract\n",
    "\n",
    "import os\n",
    "import random\n",
    "from generateDataset.textract import extract_text_from_pdf\n",
    "\n",
    "path = os.path.join('data', 'reports')\n",
    "\n",
    "# files = os.listdir(path)\n",
    "files5 = [\n",
    "    'AuSol_Memoria_y_Estados_Financieros_2023.pdf',\n",
    "    'Grupo MR 2022-2023.pdf',\n",
    "    'Pampa-2022-Reporte-Sustentabilidad.pdf',\n",
    "    'Telecom Argentina - Infografia_Memoria Anual Integrada 2022.pdf',\n",
    "    'Central Puerto-Reporte-de-Sustentabilidad-2023-VF.pdf'\n",
    "]\n",
    "\n",
    "\n",
    "for file in files5:\n",
    "    outputFile = os.path.join('data', 'texts', file.replace('.pdf', '.txt'))\n",
    "\n",
    "    if file.endswith('.pdf') and not os.path.exists(outputFile):\n",
    "        \n",
    "        # extract text from pdf\n",
    "        print(f'\\n[+] Extracting text from {file}')\n",
    "        text = extract_text_from_pdf(os.path.join(path, file))\n",
    "        \n",
    "        # save text to file in data/texts\n",
    "        with open(outputFile, 'w') as f:\n",
    "            f.write(text)"
   ]
  }
 ],
 "metadata": {
  "kernelspec": {
   "display_name": "hackitba2025",
   "language": "python",
   "name": "python3"
  },
  "language_info": {
   "codemirror_mode": {
    "name": "ipython",
    "version": 3
   },
   "file_extension": ".py",
   "mimetype": "text/x-python",
   "name": "python",
   "nbconvert_exporter": "python",
   "pygments_lexer": "ipython3",
   "version": "3.13.2"
  }
 },
 "nbformat": 4,
 "nbformat_minor": 2
}
