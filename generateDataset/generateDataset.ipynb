{
 "cells": [
  {
   "cell_type": "code",
   "execution_count": 1,
   "metadata": {},
   "outputs": [
    {
     "name": "stdout",
     "output_type": "stream",
     "text": [
      "c:\\Users\\HP\\Documents\\GitHub\\ANALISIS-REPORTES-ESG-CHIRIMBOLO-HACKITBA\n"
     ]
    }
   ],
   "source": [
    "# autoreload imports\n",
    "%load_ext autoreload\n",
    "%autoreload 2\n",
    "%cd ../"
   ]
  },
  {
   "cell_type": "code",
   "execution_count": 3,
   "metadata": {},
   "outputs": [
    {
     "name": "stdout",
     "output_type": "stream",
     "text": [
      "AuSol_Memoria_y_Estados_Financieros_2023.pdf\n",
      "[*] Started job with ID: 8880cb11900076687a664d83edd5d6200ce291a8985bca8079bc9a1d2d94cd2e...\n",
      "[*] In progress, waiting...\n",
      "[*] In progress, waiting...\n",
      "[*] In progress, waiting...\n",
      "[x] Text extraction succeeded.\n",
      "Extracted text from AuSol_Memoria_y_Estados_Financieros_2023.pdf\n",
      "Grupo MR 2022-2023.pdf\n",
      "[*] Started job with ID: 5e9e90e6623d0c4f4f9791f3a8f7a8da19c907d75e71d1b70423b9f286598412...\n",
      "[*] In progress, waiting...\n",
      "[*] In progress, waiting...\n",
      "[*] In progress, waiting...\n",
      "[x] Text extraction succeeded.\n",
      "Extracted text from Grupo MR 2022-2023.pdf\n",
      "Pampa-2022-Reporte-Sustentabilidad.pdf\n",
      "[*] Started job with ID: 9a034e84831ef843bdb1be524f713400a5aa21137c969114dc69c1ab70728430...\n",
      "[*] In progress, waiting...\n",
      "[*] In progress, waiting...\n",
      "[*] In progress, waiting...\n",
      "[*] In progress, waiting...\n",
      "[*] In progress, waiting...\n",
      "[x] Text extraction succeeded.\n",
      "Extracted text from Pampa-2022-Reporte-Sustentabilidad.pdf\n",
      "Telecom Argentina - Infografia_Memoria Anual Integrada 2022.pdf\n",
      "[*] Started job with ID: 7b6715936d325a19bcd002e404306bfcabf72f9db1979529a352bd7d3a72835a...\n",
      "[*] In progress, waiting...\n",
      "[*] In progress, waiting...\n",
      "[x] Text extraction succeeded.\n",
      "Extracted text from Telecom Argentina - Infografia_Memoria Anual Integrada 2022.pdf\n",
      "Central Puerto-Reporte-de-Sustentabilidad-2023-VF.pdf\n",
      "[*] Started job with ID: f221dd755b1078c33ac3a8c03c0266988745f790166aedc37ac2576bf28bdfa1...\n",
      "[*] In progress, waiting...\n",
      "[*] In progress, waiting...\n",
      "[*] In progress, waiting...\n",
      "[x] Text extraction succeeded.\n",
      "Extracted text from Central Puerto-Reporte-de-Sustentabilidad-2023-VF.pdf\n"
     ]
    }
   ],
   "source": [
    "# Parse all esg reports to text using aws textract\n",
    "\n",
    "import os\n",
    "import random\n",
    "from generateDataset.textract import extract_text_from_pdf\n",
    "\n",
    "path = os.path.join('data', 'reports')\n",
    "\n",
    "# files = os.listdir(path)\n",
    "files5 = [\n",
    "    'AuSol_Memoria_y_Estados_Financieros_2023.pdf',\n",
    "    'Grupo MR 2022-2023.pdf',\n",
    "    'Pampa-2022-Reporte-Sustentabilidad.pdf',\n",
    "    'Telecom Argentina - Infografia_Memoria Anual Integrada 2022.pdf',\n",
    "    'Central Puerto-Reporte-de-Sustentabilidad-2023-VF.pdf'\n",
    "]\n",
    "\n",
    "\n",
    "for file in files5:\n",
    "    outputFile = os.path.join('data', 'texts', file.replace('.pdf', '.txt'))\n",
    "\n",
    "    if file.endswith('.pdf') and not os.path.exists(outputFile):\n",
    "        \n",
    "        # extract text from pdf\n",
    "        print(f'\\n[+] Extracting text from {file}')\n",
    "        text = extract_text_from_pdf(os.path.join(path, file))\n",
    "        \n",
    "        # save text to file in data/texts\n",
    "        with open(outputFile, 'w') as f:\n",
    "            f.write(text)"
   ]
  }
 ],
 "metadata": {
  "kernelspec": {
   "display_name": "hackitba2025",
   "language": "python",
   "name": "python3"
  },
  "language_info": {
   "codemirror_mode": {
    "name": "ipython",
    "version": 3
   },
   "file_extension": ".py",
   "mimetype": "text/x-python",
   "name": "python",
   "nbconvert_exporter": "python",
   "pygments_lexer": "ipython3",
   "version": "3.13.2"
  }
 },
 "nbformat": 4,
 "nbformat_minor": 2
}
