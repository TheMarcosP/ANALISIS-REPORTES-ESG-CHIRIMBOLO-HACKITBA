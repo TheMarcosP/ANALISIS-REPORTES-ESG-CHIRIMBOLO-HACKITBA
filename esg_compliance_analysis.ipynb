{
 "cells": [
  {
   "cell_type": "markdown",
   "metadata": {},
   "source": [
    "# ESG Compliance Analysis with Argentine Laws and UNFCCC\n",
    "\n",
    "This notebook analyzes ESG documents against Argentine environmental laws, policies, and UNFCCC commitments to assess compliance levels. The analysis uses Natural Language Processing (NLP) techniques to compare document contents and generate compliance metrics.\n",
    "\n",
    "## Objectives\n",
    "1. Load and preprocess ESG documents and Argentine laws/policies\n",
    "2. Create embeddings for both document sets\n",
    "3. Compare documents using semantic similarity\n",
    "4. Generate compliance metrics and visualizations\n",
    "5. Identify gaps in compliance and areas for improvement"
   ]
  },
  {
   "cell_type": "code",
   "execution_count": null,
   "metadata": {},
   "outputs": [],
   "source": [
    "# Install required packages\n",
    "# !pip install sentence-transformers pandas numpy plotly scikit-learn"
   ]
  },
  {
   "cell_type": "code",
   "execution_count": 1,
   "metadata": {},
   "outputs": [
    {
     "name": "stderr",
     "output_type": "stream",
     "text": [
      "/home/san/miniconda3/envs/hackitba/lib/python3.13/site-packages/tqdm/auto.py:21: TqdmWarning: IProgress not found. Please update jupyter and ipywidgets. See https://ipywidgets.readthedocs.io/en/stable/user_install.html\n",
      "  from .autonotebook import tqdm as notebook_tqdm\n"
     ]
    }
   ],
   "source": [
    "import pandas as pd\n",
    "import numpy as np\n",
    "from sentence_transformers import SentenceTransformer\n",
    "import plotly.graph_objects as go\n",
    "from sklearn.metrics.pairwise import cosine_similarity\n",
    "import os"
   ]
  },
  {
   "cell_type": "markdown",
   "metadata": {},
   "source": [
    "## 1. Loading and Preprocessing Data"
   ]
  },
  {
   "cell_type": "code",
   "execution_count": 7,
   "metadata": {},
   "outputs": [
    {
     "name": "stdout",
     "output_type": "stream",
     "text": [
      "  Collection Name  Collection Summary  \\\n",
      "0             NaN                 NaN   \n",
      "1             NaN                 NaN   \n",
      "2             NaN                 NaN   \n",
      "3             NaN                 NaN   \n",
      "4             NaN                 NaN   \n",
      "\n",
      "                                         Family Name  \\\n",
      "0  National Action Plan for Energy and Climate Ch...   \n",
      "1  Law 26473 Prohibiting commercialisation of inc...   \n",
      "2  Decree 140/2007: Presidential decree declaring...   \n",
      "3  Law 26.093 (2006) Regimen of Regulation and Pr...   \n",
      "4     Law 26.123 (2006) Promotion of Hydrogen Energy   \n",
      "\n",
      "                                      Family Summary  \\\n",
      "0  <p>The objective of this document is to plan t...   \n",
      "1  Prohibits the importation and commercialisatio...   \n",
      "2  This decree has far-reaching and ambitious goa...   \n",
      "3  The object of the law is to provide a regulato...   \n",
      "4  The law declares the technological development...   \n",
      "\n",
      "                                          Family URL  \\\n",
      "0  https://app.climatepolicyradar.org/documents/n...   \n",
      "1  https://app.climatepolicyradar.org/documents/l...   \n",
      "2  https://app.climatepolicyradar.org/documents/d...   \n",
      "3  https://app.climatepolicyradar.org/documents/l...   \n",
      "4  https://app.climatepolicyradar.org/documents/l...   \n",
      "\n",
      "     Family Publication Date Geographies  \\\n",
      "0  2017-01-01T00:00:00+00:00         ARG   \n",
      "1  2010-12-31T00:00:00+00:00         ARG   \n",
      "2  2007-12-21T00:00:00+00:00         ARG   \n",
      "3  2006-05-12T00:00:00+00:00         ARG   \n",
      "4  2006-08-25T00:00:00+00:00         ARG   \n",
      "\n",
      "                                      Document Title  \\\n",
      "0  National Action Plan for Energy and Climate Ch...   \n",
      "1  Law 26473 Prohibiting commercialisation of inc...   \n",
      "2  Decree 140/2007: Presidential decree declaring...   \n",
      "3  Law 26.093 (2006) Regimen of Regulation and Pr...   \n",
      "4     Law 26.123 (2006) Promotion of Hydrogen Energy   \n",
      "\n",
      "                                        Document URL  \\\n",
      "0  https://app.climatepolicyradar.org/documents/n...   \n",
      "1  https://app.climatepolicyradar.org/documents/l...   \n",
      "2  https://app.climatepolicyradar.org/documents/d...   \n",
      "3  https://app.climatepolicyradar.org/documents/l...   \n",
      "4  https://app.climatepolicyradar.org/documents/l...   \n",
      "\n",
      "                                Document Content URL  ... Framework  \\\n",
      "0  https://cdn.climatepolicyradar.org/navigator/A...  ...       NaN   \n",
      "1                                                NaN  ...       NaN   \n",
      "2                                                NaN  ...       NaN   \n",
      "3                                                NaN  ...       NaN   \n",
      "4                                                NaN  ...       NaN   \n",
      "\n",
      "                                          Instrument                Topic.1  \\\n",
      "0         Processes, plans and strategies|Governance  Adaptation;Mitigation   \n",
      "1        Standards, obligations and norms|Regulation             Mitigation   \n",
      "2  Standards, obligations and norms|Regulation;Ca...             Mitigation   \n",
      "3                                                NaN             Mitigation   \n",
      "4                                                NaN             Mitigation   \n",
      "\n",
      "  Hazard.1                                   Sector.1  \\\n",
      "0      NaN                                     Energy   \n",
      "1      NaN                                  Buildings   \n",
      "2      NaN  Buildings;Energy;Industry;Transport;Water   \n",
      "3      NaN                                        NaN   \n",
      "4      NaN                            Energy;Industry   \n",
      "\n",
      "                                           Keyword.1  Framework.1  \\\n",
      "0                                                NaN          NaN   \n",
      "1                                      Energy Demand          NaN   \n",
      "2  Institutions / Administrative Arrangements;Ene...          NaN   \n",
      "3  Research And Development;Energy Supply;Energy ...          NaN   \n",
      "4  Institutions / Administrative Arrangements;Res...          NaN   \n",
      "\n",
      "                                        Instrument.1 Author Author_Type  \n",
      "0         Processes, plans and strategies|Governance    NaN         NaN  \n",
      "1        Standards, obligations and norms|Regulation    NaN         NaN  \n",
      "2  Standards, obligations and norms|Regulation;Ca...    NaN         NaN  \n",
      "3                                                NaN    NaN         NaN  \n",
      "4                                                NaN    NaN         NaN  \n",
      "\n",
      "[5 rows x 29 columns]\n"
     ]
    }
   ],
   "source": [
    "# Load ESG documents\n",
    "# esg_df = pd.read_csv('data/esg_documents.csv')\n",
    "\n",
    "# Load Argentine laws and policies\n",
    "laws_df = pd.read_csv('data/Argentina_laws_policies_UNFCCC.csv')\n",
    "\n",
    "# Display basic information about the datasets\n",
    "# print(\"ESG Documents Shape:\", esg_df.shape)\n",
    "print(laws_df.head())"
   ]
  },
  {
   "cell_type": "code",
   "execution_count": null,
   "metadata": {},
   "outputs": [],
   "source": [
    "# Initialize the sentence transformer model\n",
    "model = SentenceTransformer('all-MiniLM-L6-v2')\n",
    "\n",
    "# Create embeddings for ESG documents\n",
    "esg_embeddings = model.encode(esg_df['content'].tolist(), show_progress_bar=True)\n",
    "\n",
    "# Create embeddings for laws and policies\n",
    "laws_embeddings = model.encode(laws_df['Document Content'].tolist(), show_progress_bar=True)"
   ]
  },
  {
   "cell_type": "markdown",
   "metadata": {},
   "source": [
    "## 2. Compliance Analysis"
   ]
  },
  {
   "cell_type": "code",
   "execution_count": null,
   "metadata": {},
   "outputs": [],
   "source": [
    "# Calculate similarity matrix between ESG documents and laws\n",
    "similarity_matrix = cosine_similarity(esg_embeddings, laws_embeddings)\n",
    "\n",
    "# Create a DataFrame with similarity scores\n",
    "compliance_df = pd.DataFrame(\n",
    "    similarity_matrix,\n",
    "    index=esg_df['company'],\n",
    "    columns=laws_df['Document Title']\n",
    ")"
   ]
  },
  {
   "cell_type": "code",
   "execution_count": null,
   "metadata": {},
   "outputs": [],
   "source": [
    "# Calculate overall compliance score for each company\n",
    "compliance_scores = compliance_df.mean(axis=1)\n",
    "\n",
    "# Create a bar plot of compliance scores\n",
    "fig = go.Figure(data=[\n",
    "    go.Bar(x=compliance_scores.index, y=compliance_scores.values)\n",
    "])\n",
    "\n",
    "fig.update_layout(\n",
    "    title='ESG Compliance Scores by Company',\n",
    "    xaxis_title='Company',\n",
    "    yaxis_title='Compliance Score',\n",
    "    yaxis_range=[0, 1]\n",
    ")\n",
    "\n",
    "fig.show()"
   ]
  },
  {
   "cell_type": "markdown",
   "metadata": {},
   "source": [
    "## 3. Detailed Analysis"
   ]
  },
  {
   "cell_type": "code",
   "execution_count": null,
   "metadata": {},
   "outputs": [],
   "source": [
    "# Function to identify top matching laws for each company\n",
    "def get_top_matches(company, n=5):\n",
    "    company_scores = compliance_df.loc[company].sort_values(ascending=False)\n",
    "    return company_scores.head(n)\n",
    "\n",
    "# Display top matches for each company\n",
    "for company in compliance_df.index:\n",
    "    print(f\"\\nTop matches for {company}:\")\n",
    "    print(get_top_matches(company))"
   ]
  },
  {
   "cell_type": "code",
   "execution_count": null,
   "metadata": {},
   "outputs": [],
   "source": [
    "# Analyze compliance by topic\n",
    "topic_compliance = pd.DataFrame()\n",
    "\n",
    "for topic in laws_df['Topic'].unique():\n",
    "    topic_laws = laws_df[laws_df['Topic'] == topic]\n",
    "    topic_indices = topic_laws.index\n",
    "    \n",
    "    # Calculate average compliance for each topic\n",
    "    topic_scores = compliance_df.iloc[:, topic_indices].mean(axis=1)\n",
    "    topic_compliance[topic] = topic_scores\n",
    "\n",
    "# Create a heatmap of compliance by topic\n",
    "fig = go.Figure(data=go.Heatmap(\n",
    "    z=topic_compliance.values,\n",
    "    x=topic_compliance.columns,\n",
    "    y=topic_compliance.index\n",
    "))\n",
    "\n",
    "fig.update_layout(\n",
    "    title='Compliance Heatmap by Topic',\n",
    "    xaxis_title='Topic',\n",
    "    yaxis_title='Company'\n",
    ")\n",
    "\n",
    "fig.show()"
   ]
  },
  {
   "cell_type": "markdown",
   "metadata": {},
   "source": [
    "## 4. Recommendations and Insights"
   ]
  },
  {
   "cell_type": "code",
   "execution_count": null,
   "metadata": {},
   "outputs": [],
   "source": [
    "# Generate recommendations based on compliance analysis\n",
    "def generate_recommendations(company):\n",
    "    # Get lowest compliance areas\n",
    "    low_compliance_topics = topic_compliance.loc[company].sort_values().head(3)\n",
    "    \n",
    "    recommendations = []\n",
    "    for topic, score in low_compliance_topics.items():\n",
    "        if score < 0.5:\n",
    "            recommendations.append(f\"Improve compliance with {topic} policies (current score: {score:.2f})\")\n",
    "    \n",
    "    return recommendations\n",
    "\n",
    "# Display recommendations for each company\n",
    "for company in compliance_df.index:\n",
    "    print(f\"\\nRecommendations for {company}:\")\n",
    "    for rec in generate_recommendations(company):\n",
    "        print(f\"- {rec}\")"
   ]
  }
 ],
 "metadata": {
  "kernelspec": {
   "display_name": "hackitba",
   "language": "python",
   "name": "python3"
  },
  "language_info": {
   "codemirror_mode": {
    "name": "ipython",
    "version": 3
   },
   "file_extension": ".py",
   "mimetype": "text/x-python",
   "name": "python",
   "nbconvert_exporter": "python",
   "pygments_lexer": "ipython3",
   "version": "3.13.2"
  }
 },
 "nbformat": 4,
 "nbformat_minor": 4
}
