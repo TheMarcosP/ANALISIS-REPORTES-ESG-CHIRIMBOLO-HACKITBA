{
 "cells": [
  {
   "cell_type": "markdown",
   "id": "c2955f0d",
   "metadata": {
    "id": "NuHMiwgKzoRT",
    "papermill": {
     "duration": 0.01473,
     "end_time": "2024-04-30T22:40:03.295915",
     "exception": false,
     "start_time": "2024-04-30T22:40:03.281185",
     "status": "completed"
    },
    "tags": []
   },
   "source": [
    "This study addresses the prevalent issue of greenwashing within the Environmental, Social, and Governance (ESG) reports of German DAX companies. Greenwashing—defined as the practice of misrepresenting sustainability efforts to appear more environmentally friendly than reality—poses significant challenges for stakeholders, including investors, regulators, and the public. These misrepresented reports lead to misinformed decisions that can have widespread economic and environmental consequences. This project utilizes Natural Language Processing (NLP) techniques to analyze approximately 11,000 English-language ESG documents and auxiliary third-party media content. By employing advanced methods such as sentiment analysis, text embeddings, and large language models (LLMs), the study aims to detect inconsistencies and exaggerated sustainability claims effectively. The objective is to enhance transparency in corporate sustainability reports and provide stakeholders with a tool to assess the authenticity of corporate environmental claims. This initiative is crucial for ensuring that ESG data accurately reflect companies' actual sustainability practices, thereby supporting informed decision-making and promoting genuine corporate responsibility. The expected outcomes include a deeper understanding of greenwashing practices and improved methodologies for evaluating corporate sustainability reports. "
   ]
  },
  {
   "cell_type": "code",
   "execution_count": 1,
   "id": "7b1bea3b",
   "metadata": {
    "execution": {
     "iopub.execute_input": "2024-04-30T22:40:03.325133Z",
     "iopub.status.busy": "2024-04-30T22:40:03.324749Z",
     "iopub.status.idle": "2024-04-30T22:40:03.329853Z",
     "shell.execute_reply": "2024-04-30T22:40:03.328873Z"
    },
    "papermill": {
     "duration": 0.021832,
     "end_time": "2024-04-30T22:40:03.331804",
     "exception": false,
     "start_time": "2024-04-30T22:40:03.309972",
     "status": "completed"
    },
    "tags": []
   },
   "outputs": [],
   "source": [
    "#!pip install sentence_transformers"
   ]
  },
  {
   "cell_type": "code",
   "execution_count": 2,
   "id": "d89862f3",
   "metadata": {
    "execution": {
     "iopub.execute_input": "2024-04-30T22:40:03.358852Z",
     "iopub.status.busy": "2024-04-30T22:40:03.358563Z",
     "iopub.status.idle": "2024-04-30T22:40:04.976227Z",
     "shell.execute_reply": "2024-04-30T22:40:04.974919Z"
    },
    "id": "5tPCv7_7ioJD",
    "papermill": {
     "duration": 1.633109,
     "end_time": "2024-04-30T22:40:04.977838",
     "exception": true,
     "start_time": "2024-04-30T22:40:03.344729",
     "status": "failed"
    },
    "tags": []
   },
   "outputs": [
    {
     "ename": "ModuleNotFoundError",
     "evalue": "No module named 'sentence_transformers'",
     "output_type": "error",
     "traceback": [
      "\u001b[0;31m---------------------------------------------------------------------------\u001b[0m",
      "\u001b[0;31mModuleNotFoundError\u001b[0m                       Traceback (most recent call last)",
      "Cell \u001b[0;32mIn[2], line 5\u001b[0m\n\u001b[1;32m      3\u001b[0m \u001b[38;5;28;01mimport\u001b[39;00m \u001b[38;5;21;01mos\u001b[39;00m\n\u001b[1;32m      4\u001b[0m \u001b[38;5;28;01mimport\u001b[39;00m \u001b[38;5;21;01mnumpy\u001b[39;00m \u001b[38;5;28;01mas\u001b[39;00m \u001b[38;5;21;01mnp\u001b[39;00m\n\u001b[0;32m----> 5\u001b[0m \u001b[38;5;28;01mimport\u001b[39;00m \u001b[38;5;21;01msentence_transformers\u001b[39;00m\n\u001b[1;32m      6\u001b[0m \u001b[38;5;28;01mimport\u001b[39;00m \u001b[38;5;21;01mtorch\u001b[39;00m\n\u001b[1;32m      7\u001b[0m \u001b[38;5;28;01mimport\u001b[39;00m \u001b[38;5;21;01mplotly\u001b[39;00m\u001b[38;5;21;01m.\u001b[39;00m\u001b[38;5;21;01mgraph_objects\u001b[39;00m \u001b[38;5;28;01mas\u001b[39;00m \u001b[38;5;21;01mgo\u001b[39;00m\n",
      "\u001b[0;31mModuleNotFoundError\u001b[0m: No module named 'sentence_transformers'"
     ]
    }
   ],
   "source": [
    "# Make sure that all dependencies are installed.\n",
    "import pandas as pd\n",
    "import os\n",
    "import numpy as np\n",
    "import sentence_transformers\n",
    "import torch\n",
    "import plotly.graph_objects as go"
   ]
  },
  {
   "cell_type": "markdown",
   "id": "4ef01510",
   "metadata": {
    "id": "Tzb0RfPKig8k",
    "papermill": {
     "duration": null,
     "end_time": null,
     "exception": null,
     "start_time": null,
     "status": "pending"
    },
    "tags": []
   },
   "source": [
    "## 1. Loading the data"
   ]
  },
  {
   "cell_type": "code",
   "execution_count": null,
   "id": "cea2bfa2",
   "metadata": {
    "execution": {
     "iopub.execute_input": "2024-04-30T22:25:49.543494Z",
     "iopub.status.busy": "2024-04-30T22:25:49.543248Z",
     "iopub.status.idle": "2024-04-30T22:25:51.377238Z",
     "shell.execute_reply": "2024-04-30T22:25:51.376275Z",
     "shell.execute_reply.started": "2024-04-30T22:25:49.543473Z"
    },
    "id": "2hQIgYKfiVOY",
    "outputId": "4aa2cdf3-3f38-4f0b-8359-732f5a0292b8",
    "papermill": {
     "duration": null,
     "end_time": null,
     "exception": null,
     "start_time": null,
     "status": "pending"
    },
    "tags": []
   },
   "outputs": [],
   "source": [
    "esg_documents_df = pd.read_csv(\"/kaggle/input/dax-esg-media-dataset/esg_documents_for_dax_companies.csv\", sep=\"|\")\n",
    "esg_documents_df.head()"
   ]
  },
  {
   "cell_type": "code",
   "execution_count": null,
   "id": "9a143b5d",
   "metadata": {
    "execution": {
     "iopub.execute_input": "2024-04-30T22:25:51.379567Z",
     "iopub.status.busy": "2024-04-30T22:25:51.378889Z",
     "iopub.status.idle": "2024-04-30T22:25:51.730110Z",
     "shell.execute_reply": "2024-04-30T22:25:51.729206Z",
     "shell.execute_reply.started": "2024-04-30T22:25:51.379529Z"
    },
    "id": "TdRTN7aBi2Lq",
    "outputId": "ff1a5960-340e-4af2-e7ba-499144256884",
    "papermill": {
     "duration": null,
     "end_time": null,
     "exception": null,
     "start_time": null,
     "status": "pending"
    },
    "tags": []
   },
   "outputs": [],
   "source": [
    "# form texts by concatenating title and content\n",
    "esg_texts = esg_documents_df.apply(lambda row: \" \".join([str(row[\"title\"]), str(row[\"content\"])]), axis=1)\n",
    "esg_texts[0][:100]"
   ]
  },
  {
   "cell_type": "code",
   "execution_count": null,
   "id": "0c4958ef",
   "metadata": {
    "execution": {
     "iopub.execute_input": "2024-04-30T22:25:51.734004Z",
     "iopub.status.busy": "2024-04-30T22:25:51.733630Z",
     "iopub.status.idle": "2024-04-30T22:25:51.769372Z",
     "shell.execute_reply": "2024-04-30T22:25:51.768452Z",
     "shell.execute_reply.started": "2024-04-30T22:25:51.733973Z"
    },
    "id": "hARsYrByhJYr",
    "outputId": "63ff7b1d-90ba-420c-c3fd-86b2a35bb79e",
    "papermill": {
     "duration": null,
     "end_time": null,
     "exception": null,
     "start_time": null,
     "status": "pending"
    },
    "tags": []
   },
   "outputs": [],
   "source": [
    "sdg_df = pd.read_csv(\"/kaggle/input/dax-esg-media-dataset/sdg_descriptions_with_targetsText.csv\")\n",
    "sdg_df.head()"
   ]
  },
  {
   "cell_type": "code",
   "execution_count": null,
   "id": "1d4d86fe",
   "metadata": {
    "execution": {
     "iopub.execute_input": "2024-04-30T22:25:51.770949Z",
     "iopub.status.busy": "2024-04-30T22:25:51.770556Z",
     "iopub.status.idle": "2024-04-30T22:25:51.779716Z",
     "shell.execute_reply": "2024-04-30T22:25:51.778679Z",
     "shell.execute_reply.started": "2024-04-30T22:25:51.770921Z"
    },
    "id": "5peAiqVMiEZk",
    "outputId": "ae437f16-7647-4901-d22f-154098cd7499",
    "papermill": {
     "duration": null,
     "end_time": null,
     "exception": null,
     "start_time": null,
     "status": "pending"
    },
    "tags": []
   },
   "outputs": [],
   "source": [
    "sdg_texts = sdg_df.apply(lambda row: \" \".join([row[\"name\"], row[\"description\"], row[\"targets\"], row[\"progress\"]]), axis=1)\n",
    "sdg_texts[0][:100]"
   ]
  },
  {
   "cell_type": "code",
   "execution_count": null,
   "id": "07841f9c",
   "metadata": {
    "execution": {
     "iopub.execute_input": "2024-04-30T22:25:51.781297Z",
     "iopub.status.busy": "2024-04-30T22:25:51.780930Z",
     "iopub.status.idle": "2024-04-30T22:25:51.795758Z",
     "shell.execute_reply": "2024-04-30T22:25:51.794734Z",
     "shell.execute_reply.started": "2024-04-30T22:25:51.781258Z"
    },
    "id": "pXyUZI8zjKwr",
    "outputId": "968e43de-fee1-4d4a-db63-4ac18e6cf83e",
    "papermill": {
     "duration": null,
     "end_time": null,
     "exception": null,
     "start_time": null,
     "status": "pending"
    },
    "tags": []
   },
   "outputs": [],
   "source": [
    "companies = sorted(esg_documents_df.company.unique())\n",
    "companies"
   ]
  },
  {
   "cell_type": "markdown",
   "id": "e99478b9",
   "metadata": {
    "id": "dNNkjV26jTeb",
    "papermill": {
     "duration": null,
     "end_time": null,
     "exception": null,
     "start_time": null,
     "status": "pending"
    },
    "tags": []
   },
   "source": [
    "## 2. Build embeddings"
   ]
  },
  {
   "cell_type": "markdown",
   "id": "cb46d341",
   "metadata": {
    "papermill": {
     "duration": null,
     "end_time": null,
     "exception": null,
     "start_time": null,
     "status": "pending"
    },
    "tags": []
   },
   "source": [
    "MPNet base model loaded here is designed to capture a broad understanding of language from diverse datasets, making it suitable for ESG and SDG texts that may contain varied and specialized terminology."
   ]
  },
  {
   "cell_type": "code",
   "execution_count": null,
   "id": "2515fd49",
   "metadata": {
    "execution": {
     "iopub.execute_input": "2024-04-30T22:25:51.797283Z",
     "iopub.status.busy": "2024-04-30T22:25:51.796967Z",
     "iopub.status.idle": "2024-04-30T22:25:58.561839Z",
     "shell.execute_reply": "2024-04-30T22:25:58.560847Z",
     "shell.execute_reply.started": "2024-04-30T22:25:51.797253Z"
    },
    "id": "cposkUb2jczo",
    "outputId": "655e8331-8bfc-42c3-b18c-3b5403cff9aa",
    "papermill": {
     "duration": null,
     "end_time": null,
     "exception": null,
     "start_time": null,
     "status": "pending"
    },
    "tags": []
   },
   "outputs": [],
   "source": [
    "device = 'cuda' if torch.cuda.is_available() else 'cpu'\n",
    "# load the retriever model from huggingface model hub\n",
    "retriever = sentence_transformers.SentenceTransformer(\"flax-sentence-embeddings/all_datasets_v3_mpnet-base\", device=device)\n",
    "retriever"
   ]
  },
  {
   "cell_type": "code",
   "execution_count": null,
   "id": "1d4a172d",
   "metadata": {
    "execution": {
     "iopub.execute_input": "2024-04-30T22:25:58.563587Z",
     "iopub.status.busy": "2024-04-30T22:25:58.563130Z",
     "iopub.status.idle": "2024-04-30T22:28:00.924907Z",
     "shell.execute_reply": "2024-04-30T22:28:00.923707Z",
     "shell.execute_reply.started": "2024-04-30T22:25:58.563561Z"
    },
    "id": "eScCQp_Xjh-9",
    "papermill": {
     "duration": null,
     "end_time": null,
     "exception": null,
     "start_time": null,
     "status": "pending"
    },
    "tags": []
   },
   "outputs": [],
   "source": [
    "company_text_embeddings = retriever.encode(esg_texts)\n",
    "sdg_embeddings = retriever.encode(sdg_texts)"
   ]
  },
  {
   "cell_type": "markdown",
   "id": "f1b2b8dd",
   "metadata": {
    "id": "F0Xbo3RojvFW",
    "papermill": {
     "duration": null,
     "end_time": null,
     "exception": null,
     "start_time": null,
     "status": "pending"
    },
    "tags": []
   },
   "source": [
    "## 3. SDG alignment of the DAX companies"
   ]
  },
  {
   "cell_type": "markdown",
   "id": "a7fd42b4",
   "metadata": {
    "papermill": {
     "duration": null,
     "end_time": null,
     "exception": null,
     "start_time": null,
     "status": "pending"
    },
    "tags": []
   },
   "source": [
    "* We model SDG alignment as similarity between the company-related texts and the SDG descriptions. In this section, we first define the similarity function using standard cosine similarity. Then, we demonstrate some possible alignment analyses, their visualisations and interpretations. Finally, we provide suggestions for further, more advanced alignment analyses."
   ]
  },
  {
   "cell_type": "code",
   "execution_count": null,
   "id": "5e3c7265",
   "metadata": {
    "execution": {
     "iopub.execute_input": "2024-04-30T22:28:00.927817Z",
     "iopub.status.busy": "2024-04-30T22:28:00.927105Z",
     "iopub.status.idle": "2024-04-30T22:28:00.934857Z",
     "shell.execute_reply": "2024-04-30T22:28:00.933714Z",
     "shell.execute_reply.started": "2024-04-30T22:28:00.927775Z"
    },
    "id": "GFXu5I-wjxaC",
    "papermill": {
     "duration": null,
     "end_time": null,
     "exception": null,
     "start_time": null,
     "status": "pending"
    },
    "tags": []
   },
   "outputs": [],
   "source": [
    "def cosine_similarity(embedding1, embedding2):\n",
    "    sim = np.dot(embedding1, embedding2)/(np.linalg.norm(embedding1)*np.linalg.norm(embedding2))\n",
    "    return sim"
   ]
  },
  {
   "cell_type": "markdown",
   "id": "51a7f99f",
   "metadata": {
    "id": "9-UxM_mbkeZb",
    "papermill": {
     "duration": null,
     "end_time": null,
     "exception": null,
     "start_time": null,
     "status": "pending"
    },
    "tags": []
   },
   "source": [
    "### Most relevant SDGs for DAX companies"
   ]
  },
  {
   "cell_type": "markdown",
   "id": "33980ca1",
   "metadata": {
    "id": "eST_Xxp5koxB",
    "papermill": {
     "duration": null,
     "end_time": null,
     "exception": null,
     "start_time": null,
     "status": "pending"
    },
    "tags": []
   },
   "source": [
    "Let's first consider the overall relevance of the 17 SDGs for all DAX companies taken together. We first compute an embedding that averages over all company texts. Then, we compare this embedding with the embeddings of the SDGs.\n",
    "Instead of using a simple mean to combine company text embeddings, considered weighting the texts by their length or importance. This will give more relevant documents a greater influence on the resulting average embedding"
   ]
  },
  {
   "cell_type": "code",
   "execution_count": null,
   "id": "5d8ce3b2",
   "metadata": {
    "execution": {
     "iopub.execute_input": "2024-04-30T22:28:00.936560Z",
     "iopub.status.busy": "2024-04-30T22:28:00.936204Z",
     "iopub.status.idle": "2024-04-30T22:28:00.955836Z",
     "shell.execute_reply": "2024-04-30T22:28:00.954754Z",
     "shell.execute_reply.started": "2024-04-30T22:28:00.936528Z"
    },
    "id": "E9Pqsc2qlAmN",
    "papermill": {
     "duration": null,
     "end_time": null,
     "exception": null,
     "start_time": null,
     "status": "pending"
    },
    "tags": []
   },
   "outputs": [],
   "source": [
    "# Calculate the length of each document\n",
    "text_lengths = np.array([len(text) for text in esg_texts])\n",
    "# Normalize the lengths to sum to 1\n",
    "weights = text_lengths / text_lengths.sum()\n",
    "print(weights.sum())"
   ]
  },
  {
   "cell_type": "code",
   "execution_count": null,
   "id": "d27693f2",
   "metadata": {
    "execution": {
     "iopub.execute_input": "2024-04-30T22:28:00.957606Z",
     "iopub.status.busy": "2024-04-30T22:28:00.957108Z",
     "iopub.status.idle": "2024-04-30T22:28:01.001885Z",
     "shell.execute_reply": "2024-04-30T22:28:01.000902Z",
     "shell.execute_reply.started": "2024-04-30T22:28:00.957575Z"
    },
    "papermill": {
     "duration": null,
     "end_time": null,
     "exception": null,
     "start_time": null,
     "status": "pending"
    },
    "tags": []
   },
   "outputs": [],
   "source": [
    "all_companies_embedding = np.average(company_text_embeddings, axis=0, weights=weights)"
   ]
  },
  {
   "cell_type": "code",
   "execution_count": null,
   "id": "826339a0",
   "metadata": {
    "execution": {
     "iopub.execute_input": "2024-04-30T22:28:01.003564Z",
     "iopub.status.busy": "2024-04-30T22:28:01.003202Z",
     "iopub.status.idle": "2024-04-30T22:28:01.020155Z",
     "shell.execute_reply": "2024-04-30T22:28:01.019070Z",
     "shell.execute_reply.started": "2024-04-30T22:28:01.003533Z"
    },
    "id": "E-_hK2U6lEPm",
    "outputId": "1d73afa3-a74e-4ff7-8e86-3b8d9d9487ef",
    "papermill": {
     "duration": null,
     "end_time": null,
     "exception": null,
     "start_time": null,
     "status": "pending"
    },
    "tags": []
   },
   "outputs": [],
   "source": [
    "sdg_relevance_scores = [cosine_similarity(all_companies_embedding, sdg_embedding) for sdg_embedding in sdg_embeddings]\n",
    "sdg_relevance_series = pd.Series(sdg_relevance_scores, index=sdg_df[\"name\"])\n",
    "sdg_relevance_series.sort_values(inplace=True)\n",
    "sdg_relevance_series.head()"
   ]
  },
  {
   "cell_type": "markdown",
   "id": "7b059074",
   "metadata": {
    "papermill": {
     "duration": null,
     "end_time": null,
     "exception": null,
     "start_time": null,
     "status": "pending"
    },
    "tags": []
   },
   "source": [
    "cosine similarity scores highlight which SDGs are most discussed in company reports, reflecting alignment with SDG language rather than actual efforts or impact. Lower scores for SDGs like Gender Equality suggest underrepresentation in communications, meriting further investigation into potential neglect or underreporting. Conversely, higher scores for SDGs like Zero Hunger indicate a stronger emphasis in companies' sustainability strategies and reporting."
   ]
  },
  {
   "cell_type": "code",
   "execution_count": null,
   "id": "9025f422",
   "metadata": {
    "execution": {
     "iopub.execute_input": "2024-04-30T22:28:01.025805Z",
     "iopub.status.busy": "2024-04-30T22:28:01.025501Z",
     "iopub.status.idle": "2024-04-30T22:28:01.426836Z",
     "shell.execute_reply": "2024-04-30T22:28:01.425741Z",
     "shell.execute_reply.started": "2024-04-30T22:28:01.025781Z"
    },
    "id": "JUxFAwDJlR7j",
    "outputId": "cb77dbc2-b264-4bfa-ef61-59c2530ec7b2",
    "papermill": {
     "duration": null,
     "end_time": null,
     "exception": null,
     "start_time": null,
     "status": "pending"
    },
    "tags": []
   },
   "outputs": [],
   "source": [
    "fig = go.Figure(data=[go.Bar(x=sdg_relevance_series, y=[sdg+\" \" for sdg in sdg_relevance_series.index], orientation='h')])\n",
    "# Change the bar mode\n",
    "fig.update_layout(height=600, width=750, title=\"SDG relevance for DAX index\")\n",
    "fig.update_xaxes(title=\"Relevance\")\n",
    "fig.show()"
   ]
  },
  {
   "cell_type": "markdown",
   "id": "c916e46f",
   "metadata": {
    "papermill": {
     "duration": null,
     "end_time": null,
     "exception": null,
     "start_time": null,
     "status": "pending"
    },
    "tags": []
   },
   "source": [
    "# Clustering"
   ]
  },
  {
   "cell_type": "code",
   "execution_count": null,
   "id": "c7f2bd2f",
   "metadata": {
    "execution": {
     "iopub.execute_input": "2024-04-30T22:28:01.428552Z",
     "iopub.status.busy": "2024-04-30T22:28:01.428153Z",
     "iopub.status.idle": "2024-04-30T22:28:08.797681Z",
     "shell.execute_reply": "2024-04-30T22:28:08.796705Z",
     "shell.execute_reply.started": "2024-04-30T22:28:01.428518Z"
    },
    "papermill": {
     "duration": null,
     "end_time": null,
     "exception": null,
     "start_time": null,
     "status": "pending"
    },
    "tags": []
   },
   "outputs": [],
   "source": [
    "from sklearn.cluster import KMeans\n",
    "import numpy as np\n",
    "\n",
    "# Assuming company_text_embeddings is a 2D numpy array of embeddings\n",
    "# Decide on the number of clusters you want to form\n",
    "n_clusters = 5  # for example, though this number should be chosen based on your data\n",
    "\n",
    "# Initialize the KMeans clustering algorithm\n",
    "kmeans = KMeans(n_clusters=n_clusters, random_state=42)\n",
    "\n",
    "# Fit the model on your embeddings to perform the clustering\n",
    "kmeans.fit(company_text_embeddings)\n",
    "\n",
    "# Get the cluster labels for each company\n",
    "cluster_labels = kmeans.labels_\n",
    "\n",
    "# Optionally, attach the cluster labels to your original dataframe for analysis\n",
    "esg_documents_df['Cluster'] = cluster_labels\n",
    "\n",
    "# To analyze the clusters, you might want to look at the companies in each cluster\n",
    "for i in range(n_clusters):\n",
    "    print(f\"Cluster {i}:\")\n",
    "    print(esg_documents_df[esg_documents_df['Cluster'] == i]['company'].values)\n",
    "    print()\n",
    "\n",
    "# If you want to see the centroids of each cluster which are the average of the embeddings in the cluster:\n",
    "centroids = kmeans.cluster_centers_\n"
   ]
  },
  {
   "cell_type": "code",
   "execution_count": null,
   "id": "93e9e8dd",
   "metadata": {
    "execution": {
     "iopub.execute_input": "2024-04-30T22:28:08.799982Z",
     "iopub.status.busy": "2024-04-30T22:28:08.799521Z",
     "iopub.status.idle": "2024-04-30T22:28:14.218333Z",
     "shell.execute_reply": "2024-04-30T22:28:14.217307Z",
     "shell.execute_reply.started": "2024-04-30T22:28:08.799931Z"
    },
    "papermill": {
     "duration": null,
     "end_time": null,
     "exception": null,
     "start_time": null,
     "status": "pending"
    },
    "tags": []
   },
   "outputs": [],
   "source": [
    "esg_documents_df.to_csv('esg_documents_with_clusters.xlsx', index=False)"
   ]
  },
  {
   "cell_type": "code",
   "execution_count": null,
   "id": "69ffba4b",
   "metadata": {
    "execution": {
     "iopub.execute_input": "2024-04-30T22:28:14.220712Z",
     "iopub.status.busy": "2024-04-30T22:28:14.219852Z",
     "iopub.status.idle": "2024-04-30T22:28:14.252351Z",
     "shell.execute_reply": "2024-04-30T22:28:14.251640Z",
     "shell.execute_reply.started": "2024-04-30T22:28:14.220674Z"
    },
    "papermill": {
     "duration": null,
     "end_time": null,
     "exception": null,
     "start_time": null,
     "status": "pending"
    },
    "tags": []
   },
   "outputs": [],
   "source": [
    "import pandas as pd\n",
    "\n",
    "# Assuming esg_documents_df has a 'Cluster' column with the cluster labels\n",
    "cluster_membership_table = esg_documents_df[['company', 'Cluster']].copy()\n",
    "cluster_membership_table.sort_values('Cluster', inplace=True)\n",
    "\n",
    "# Save the table to a CSV file for easy sharing and viewing\n",
    "cluster_membership_table.to_csv('cluster_membership_table.csv', index=False)"
   ]
  },
  {
   "cell_type": "code",
   "execution_count": null,
   "id": "130bc217",
   "metadata": {
    "execution": {
     "iopub.execute_input": "2024-04-30T22:28:14.253989Z",
     "iopub.status.busy": "2024-04-30T22:28:14.253588Z",
     "iopub.status.idle": "2024-04-30T22:28:14.579724Z",
     "shell.execute_reply": "2024-04-30T22:28:14.578545Z",
     "shell.execute_reply.started": "2024-04-30T22:28:14.253957Z"
    },
    "papermill": {
     "duration": null,
     "end_time": null,
     "exception": null,
     "start_time": null,
     "status": "pending"
    },
    "tags": []
   },
   "outputs": [],
   "source": [
    "import matplotlib.pyplot as plt\n",
    "\n",
    "# Count the number of companies in each cluster\n",
    "cluster_counts = esg_documents_df['Cluster'].value_counts()\n",
    "\n",
    "# Create a bar plot\n",
    "plt.figure(figsize=(5, 3))\n",
    "cluster_counts.plot(kind='bar')\n",
    "plt.title('Number of Companies in Each Cluster')\n",
    "plt.xlabel('Cluster')\n",
    "plt.ylabel('Count')\n",
    "plt.xticks(rotation=0)  # Keep the x labels readable\n",
    "plt.tight_layout()\n",
    "plt.savefig('cluster_sizes_bar_plot.png')\n",
    "plt.show()"
   ]
  },
  {
   "cell_type": "code",
   "execution_count": null,
   "id": "8d59c5a4",
   "metadata": {
    "execution": {
     "iopub.execute_input": "2024-04-30T22:30:14.010207Z",
     "iopub.status.busy": "2024-04-30T22:30:14.009257Z",
     "iopub.status.idle": "2024-04-30T22:30:35.223277Z",
     "shell.execute_reply": "2024-04-30T22:30:35.222188Z",
     "shell.execute_reply.started": "2024-04-30T22:30:14.010155Z"
    },
    "papermill": {
     "duration": null,
     "end_time": null,
     "exception": null,
     "start_time": null,
     "status": "pending"
    },
    "tags": []
   },
   "outputs": [],
   "source": [
    "from sklearn.feature_extraction.text import ENGLISH_STOP_WORDS\n",
    "from sklearn.feature_extraction.text import CountVectorizer\n",
    "\n",
    "# Updated function to display common words for each cluster, excluding stop words\n",
    "def display_common_words(df, cluster_col='Cluster', text_col='content', n_words=10):\n",
    "    cluster_common_words = {}\n",
    "    for cluster in sorted(df[cluster_col].unique()):\n",
    "        # Combine all the text data for each cluster\n",
    "        text_data = df[df[cluster_col] == cluster][text_col].str.cat(sep=' ')\n",
    "        # Use CountVectorizer to count word frequencies, excluding stop words\n",
    "        vectorizer = CountVectorizer(stop_words='english')\n",
    "        word_count = vectorizer.fit_transform([text_data])\n",
    "        # Sum up the word counts and get the word names\n",
    "        words_freq = word_count.toarray().sum(axis=0)\n",
    "        words = vectorizer.get_feature_names_out()\n",
    "        # Combine counts and words, sort by count, and get the most common\n",
    "        freq_dist = zip(words, words_freq)\n",
    "        most_common_words = sorted(freq_dist, key=lambda x: x[1], reverse=True)[:n_words]\n",
    "        # Store and print the most common words\n",
    "        cluster_common_words[cluster] = most_common_words\n",
    "        print(f\"Cluster {cluster}:\")\n",
    "        for word, freq in most_common_words:\n",
    "            print(f\"{word}: {freq}\")\n",
    "        print(\"\\n\")\n",
    "    return cluster_common_words\n",
    "\n",
    "# Call the function with the dataframe\n",
    "common_words_by_cluster = display_common_words(esg_documents_df, 'Cluster', 'content')"
   ]
  },
  {
   "cell_type": "markdown",
   "id": "561bc027",
   "metadata": {
    "id": "4OvS81uJlfXK",
    "papermill": {
     "duration": null,
     "end_time": null,
     "exception": null,
     "start_time": null,
     "status": "pending"
    },
    "tags": []
   },
   "source": [
    "### Most relevant SDGs for a specific company, contrasting internal and external data"
   ]
  },
  {
   "cell_type": "markdown",
   "id": "f3799ffe",
   "metadata": {
    "id": "69Oe3uMIuHiY",
    "papermill": {
     "duration": null,
     "end_time": null,
     "exception": null,
     "start_time": null,
     "status": "pending"
    },
    "tags": []
   },
   "source": [
    "In this analysis, we focus on a specific company which is defined using the COMPANY variable. We look up the \"internal\" and \"external\" embeddings for this company, average them and measure their similarity with each of the SDGs."
   ]
  },
  {
   "cell_type": "code",
   "execution_count": null,
   "id": "03bfb597",
   "metadata": {
    "execution": {
     "iopub.execute_input": "2024-04-30T22:30:39.927445Z",
     "iopub.status.busy": "2024-04-30T22:30:39.926775Z",
     "iopub.status.idle": "2024-04-30T22:30:39.953848Z",
     "shell.execute_reply": "2024-04-30T22:30:39.952765Z",
     "shell.execute_reply.started": "2024-04-30T22:30:39.927413Z"
    },
    "id": "2NhuxJT7leDu",
    "outputId": "873295bb-93ef-4d25-d483-ac1d28cf9fdb",
    "papermill": {
     "duration": null,
     "end_time": null,
     "exception": null,
     "start_time": null,
     "status": "pending"
    },
    "tags": []
   },
   "outputs": [],
   "source": [
    "COMPANY = \"Brenntag\"\n",
    "\n",
    "internal_company_indices = esg_documents_df[(esg_documents_df.company == COMPANY) & (esg_documents_df.internal == 1)].index\n",
    "internal_company_embedding = np.mean(company_text_embeddings[internal_company_indices], axis=0)\n",
    "\n",
    "external_company_indices = esg_documents_df[(esg_documents_df.company == COMPANY) & (esg_documents_df.internal == 0)].index\n",
    "external_company_embedding = np.mean(company_text_embeddings[external_company_indices], axis=0)\n",
    "\n",
    "company_sdg_relevance_scores = [[cosine_similarity(internal_company_embedding, sdg_embedding),\n",
    "                                 cosine_similarity(external_company_embedding, sdg_embedding)] for sdg_embedding in sdg_embeddings]\n",
    "company_sdg_relevance_df = pd.DataFrame.from_records(company_sdg_relevance_scores, index=sdg_df[\"name\"], columns=[\"internal\", \"external\"])\n",
    "company_sdg_relevance_df.sort_values(\"internal\", inplace=True)\n",
    "company_sdg_relevance_df.head()"
   ]
  },
  {
   "cell_type": "code",
   "execution_count": null,
   "id": "dfa2f3cf",
   "metadata": {
    "execution": {
     "iopub.execute_input": "2024-04-30T22:30:41.881410Z",
     "iopub.status.busy": "2024-04-30T22:30:41.880632Z",
     "iopub.status.idle": "2024-04-30T22:30:41.900352Z",
     "shell.execute_reply": "2024-04-30T22:30:41.899490Z",
     "shell.execute_reply.started": "2024-04-30T22:30:41.881378Z"
    },
    "id": "YC32lW1elzjq",
    "outputId": "a82b1c31-fd53-4753-cff4-ac89f2b27e1a",
    "papermill": {
     "duration": null,
     "end_time": null,
     "exception": null,
     "start_time": null,
     "status": "pending"
    },
    "tags": []
   },
   "outputs": [],
   "source": [
    "fig = go.Figure(data=[\n",
    "    go.Bar(name='Internal', x=company_sdg_relevance_df[\"internal\"], y=company_sdg_relevance_df.index, orientation='h'),\n",
    "    go.Bar(name='External', x=company_sdg_relevance_df[\"external\"], y=company_sdg_relevance_df.index, orientation='h')\n",
    "])\n",
    "\n",
    "fig.update_layout(barmode='group', height=600, width=750, title=f\"SDG Relevance for {COMPANY}\")\n",
    "fig.update_xaxes(title=\"Relevance\")\n",
    "fig.show()"
   ]
  },
  {
   "cell_type": "markdown",
   "id": "651d38da",
   "metadata": {
    "papermill": {
     "duration": null,
     "end_time": null,
     "exception": null,
     "start_time": null,
     "status": "pending"
    },
    "tags": []
   },
   "source": [
    "These scores indicate which SDGs are most closely associated with Brenntag's sustainability narrative, from both the company's perspective and that of external media. The higher scores on external metrics for certain goals could suggest a disparity between how the company perceives its ESG efforts and how these efforts are perceived or reported by external parties. This discrepancy is particularly valuable for identifying potential areas of greenwashing or for highlighting the aspects of sustainability that may need more attention from the company."
   ]
  },
  {
   "cell_type": "markdown",
   "id": "9993bb8f",
   "metadata": {
    "id": "pEZ7MiAwszvO",
    "papermill": {
     "duration": null,
     "end_time": null,
     "exception": null,
     "start_time": null,
     "status": "pending"
    },
    "tags": []
   },
   "source": [
    "Next steps to further explore the data: modify the chart to answer the following questions:\n",
    "\n",
    "- What are the internally most important SDGs for BMW?\n",
    "- What are the most important SDGs for BMW when we take into account both the internal and the external data?\n",
    "- What are the SDGs for BMW with the largest relevance gap between internal and external data?"
   ]
  },
  {
   "cell_type": "code",
   "execution_count": null,
   "id": "93be06c7",
   "metadata": {
    "execution": {
     "iopub.execute_input": "2024-04-30T22:30:45.985210Z",
     "iopub.status.busy": "2024-04-30T22:30:45.984495Z",
     "iopub.status.idle": "2024-04-30T22:30:46.019007Z",
     "shell.execute_reply": "2024-04-30T22:30:46.018050Z",
     "shell.execute_reply.started": "2024-04-30T22:30:45.985178Z"
    },
    "papermill": {
     "duration": null,
     "end_time": null,
     "exception": null,
     "start_time": null,
     "status": "pending"
    },
    "tags": []
   },
   "outputs": [],
   "source": [
    "import pandas as pd\n",
    "import numpy as np\n",
    "\n",
    "# Assuming you have already computed 'company_sdg_relevance_scores' as shown in your notebook snippet\n",
    "COMPANY = 'BMW'\n",
    "internal_indices = esg_documents_df[(esg_documents_df['company'] == COMPANY) & (esg_documents_df['internal'] == 1)].index\n",
    "external_indices = esg_documents_df[(esg_documents_df['company'] == COMPANY) & (esg_documents_df['internal'] == 0)].index\n",
    "\n",
    "# Aggregate internal and external embeddings for BMW\n",
    "internal_bmw_embedding = np.mean(company_text_embeddings[internal_indices], axis=0)\n",
    "external_bmw_embedding = np.mean(company_text_embeddings[external_indices], axis=0)\n",
    "\n",
    "# Assuming 'sdg_embeddings' is a 2D numpy array with embeddings for each SDG\n",
    "company_sdg_relevance_scores = [\n",
    "    (\n",
    "        sdg_df.loc[idx][\"name\"],  # SDG Name\n",
    "        cosine_similarity(internal_bmw_embedding, sdg_embeddings[idx]),  # Internal similarity score\n",
    "        cosine_similarity(external_bmw_embedding, sdg_embeddings[idx])   # External similarity score\n",
    "    )\n",
    "    for idx in range(len(sdg_embeddings))  # Assuming the index aligns with the SDGs order\n",
    "]\n",
    "\n",
    "# Create DataFrame from relevance scores\n",
    "company_sdg_relevance_df = pd.DataFrame.from_records(\n",
    "    company_sdg_relevance_scores,\n",
    "    columns=['SDG', 'Internal', 'External']\n",
    ")\n",
    "\n",
    "# Calculate the relevance gap between internal and external data\n",
    "company_sdg_relevance_df['Relevance Gap'] = company_sdg_relevance_df['Internal'] - company_sdg_relevance_df['External']\n",
    "\n",
    "# Internally most important SDGs for BMW\n",
    "internally_important_sdgs = company_sdg_relevance_df.sort_values('Internal', ascending=False)\n",
    "\n",
    "# Most important SDGs for BMW considering both internal and external data\n",
    "# A simple way to estimate overall importance might be to average the internal and external scores\n",
    "company_sdg_relevance_df['Average Importance'] = company_sdg_relevance_df[['Internal', 'External']].mean(axis=1)\n",
    "overall_important_sdgs = company_sdg_relevance_df.sort_values('Average Importance', ascending=False)\n",
    "\n",
    "# SDGs for BMW with the largest relevance gap between internal and external data\n",
    "sdgs_largest_relevance_gap = company_sdg_relevance_df.sort_values('Relevance Gap', ascending=False)\n",
    "\n",
    "# Output the top results for each analysis\n",
    "print(\"Internally Most Important SDGs for BMW:\")\n",
    "print(internally_important_sdgs.head(), \"\\n\")\n",
    "\n",
    "print(\"Most Important SDGs for BMW (Internal and External):\")\n",
    "print(overall_important_sdgs.head(), \"\\n\")\n",
    "\n",
    "print(\"SDGs with the Largest Relevance Gap for BMW:\")\n",
    "print(sdgs_largest_relevance_gap.head(), \"\\n\")\n"
   ]
  },
  {
   "cell_type": "markdown",
   "id": "22a44b45",
   "metadata": {
    "papermill": {
     "duration": null,
     "end_time": null,
     "exception": null,
     "start_time": null,
     "status": "pending"
    },
    "tags": []
   },
   "source": [
    "\n",
    "•\tInternally Most Important SDGs for BMW\n",
    "\n",
    "1.\tIndustry, Innovation, and Infrastructure: \n",
    "This is highlighted as the most important SDG in BMW's internal documents, suggesting a significant focus on innovation and sustainable infrastructure within their business practices. This emphasis likely reflects BMW's development of electric vehicles and the establishment of eco-friendly production facilities, aligning with industry trends toward greener and more efficient infrastructures.\n",
    "\n",
    "2.\tAffordable and Clean Energy: \n",
    "This SDG is also prioritized highly by BMW, reflecting a focus on energy efficiency and clean energy initiatives within their operations. For example, BMW has invested in renewable energy solutions across its manufacturing plants, such as using wind turbines to power facilities like the Leipzig plant in Germany.\n",
    "\n",
    "3.\tResponsible Consumption and Production: \n",
    "BMW emphasizes responsible production by implementing sustainable practices such as reducing waste, increasing recycling, and using eco-friendly materials like water-based paints and recycled plastics in their vehicles, underscoring their commitment to minimizing environmental impact.\n",
    "\n",
    "4.\tSustainable Cities and Communities: \n",
    "BMW's internal reports suggest a commitment to supporting sustainable cities and communities, likely through mobility solutions and urban infrastructure projects.\n",
    "\n",
    "5.\tGood Health and Well-being: \n",
    "Finally, good health and well-being are considered important, suggesting that BMW values health-related aspects of sustainability, perhaps related to product safety and employee wellness.\n",
    "\n",
    "•\tMost Important SDGs for BMW (Considering Both Internal and External Data)\n",
    "\n",
    "When both internal and external data are considered, the SDGs that emerge as most important for BMW largely mirror those identified as internally important:\n",
    "\n",
    "•\tIndustry, Innovation, and Infrastructure\n",
    "•\tAffordable and Clean Energy\n",
    "•\tResponsible Consumption and Production \n",
    "•\tSustainable Cities and Communities \n",
    "•\tReduced Inequalities \n",
    "\n",
    "These SDGs represent areas where BMW's sustainability reporting and the external perception of its ESG efforts align, indicating a consistent public-facing narrative on these goals.\n",
    "\n",
    "•\tSDGs with the Largest Relevance Gap for BMW\n",
    "\n",
    "The SDGs with the most substantial relevance gaps between BMW's internal and external narratives are:\n",
    "\n",
    "1.  Decent Work and Economic Growth: This has the most considerable gap, which suggests external parties has a significantly different perception of BMW's impact on economic growth and employment quality compared to how BMW reports it.\n",
    "\n",
    "2.  Quality Education: A notable gap in this area indicates that BMW's contributions to education, perhaps through corporate social responsibility initiatives, are not as recognized externally as they are emphasized internally.\n",
    "\n",
    "3.  Clean Water and Sanitation: The relevance gap suggests that BMW's efforts or impact on water and sanitation are perceived differently externally compared to the company's internal reporting.\n",
    "\n",
    "4.  Responsible Consumption and Production: Although this is a highly ranked SDG internally, the gap indicates that external perceptions may not fully align with BMW's reported efforts in this area.\n",
    "\n",
    "These gaps highlight areas where BMW might need to improve their sustainability practices, increase transparency, or adjust their external communication strategies to better align external perceptions with their internal reporting.\n"
   ]
  },
  {
   "cell_type": "code",
   "execution_count": null,
   "id": "33a9c535",
   "metadata": {
    "execution": {
     "iopub.execute_input": "2024-04-30T22:30:49.786316Z",
     "iopub.status.busy": "2024-04-30T22:30:49.785745Z",
     "iopub.status.idle": "2024-04-30T22:30:49.818788Z",
     "shell.execute_reply": "2024-04-30T22:30:49.817823Z",
     "shell.execute_reply.started": "2024-04-30T22:30:49.786289Z"
    },
    "papermill": {
     "duration": null,
     "end_time": null,
     "exception": null,
     "start_time": null,
     "status": "pending"
    },
    "tags": []
   },
   "outputs": [],
   "source": [
    "# Replace 'BMW' with 'Porsche'\n",
    "COMPANY = 'Porsche'\n",
    "\n",
    "internal_indices = esg_documents_df[(esg_documents_df['company'] == COMPANY) & (esg_documents_df['internal'] == 1)].index\n",
    "external_indices = esg_documents_df[(esg_documents_df['company'] == COMPANY) & (esg_documents_df['internal'] == 0)].index\n",
    "\n",
    "internal_porsche_embedding = np.mean(company_text_embeddings[internal_indices], axis=0)\n",
    "external_porsche_embedding = np.mean(company_text_embeddings[external_indices], axis=0)\n",
    "\n",
    "porsche_sdg_relevance_scores = [\n",
    "    (\n",
    "        sdg_df.loc[idx][\"name\"],  # SDG Name\n",
    "        cosine_similarity(internal_porsche_embedding, sdg_embeddings[idx]),  # Internal similarity score\n",
    "        cosine_similarity(external_porsche_embedding, sdg_embeddings[idx])   # External similarity score\n",
    "    )\n",
    "    for idx in range(len(sdg_embeddings))  # Assuming the index aligns with the SDGs order\n",
    "]\n",
    "\n",
    "# Create DataFrame from relevance scores\n",
    "porsche_sdg_relevance_df = pd.DataFrame.from_records(\n",
    "    porsche_sdg_relevance_scores,\n",
    "    columns=['SDG', 'Internal', 'External']\n",
    ")\n",
    "\n",
    "# Calculate the relevance gap between internal and external data\n",
    "porsche_sdg_relevance_df['Relevance Gap'] = porsche_sdg_relevance_df['Internal'] - porsche_sdg_relevance_df['External']\n",
    "\n",
    "# Sort by Internal, Average, and Relevance Gap\n",
    "internally_important_sdgs = porsche_sdg_relevance_df.sort_values('Internal', ascending=False)\n",
    "porsche_sdg_relevance_df['Average Importance'] = porsche_sdg_relevance_df[['Internal', 'External']].mean(axis=1)\n",
    "overall_important_sdgs = porsche_sdg_relevance_df.sort_values('Average Importance', ascending=False)\n",
    "sdgs_largest_relevance_gap = porsche_sdg_relevance_df.sort_values('Relevance Gap', ascending=False)\n",
    "\n",
    "# Assuming you want to output or examine the top results:\n",
    "print(\"Internally Most Important SDGs for Porsche:\")\n",
    "print(internally_important_sdgs.head(), \"\\n\")\n",
    "\n",
    "print(\"Most Important SDGs for Porsche (Internal and External):\")\n",
    "print(overall_important_sdgs.head(), \"\\n\")\n",
    "\n",
    "print(\"SDGs with the Largest Relevance Gap for Porsche:\")\n",
    "print(sdgs_largest_relevance_gap.head(), \"\\n\")\n"
   ]
  },
  {
   "cell_type": "markdown",
   "id": "c5172653",
   "metadata": {
    "id": "b51sgUHlmZ-T",
    "papermill": {
     "duration": null,
     "end_time": null,
     "exception": null,
     "start_time": null,
     "status": "pending"
    },
    "tags": []
   },
   "source": [
    "### Heatmap of SDG relevance for all companies"
   ]
  },
  {
   "cell_type": "markdown",
   "id": "488e88a3",
   "metadata": {
    "id": "gBXqK6vgues9",
    "papermill": {
     "duration": null,
     "end_time": null,
     "exception": null,
     "start_time": null,
     "status": "pending"
    },
    "tags": []
   },
   "source": [
    "In this analyses, we look at the alignment of all companies with the 17 SDGs, creating an overview over the DAX index."
   ]
  },
  {
   "cell_type": "code",
   "execution_count": null,
   "id": "33e31bb7",
   "metadata": {
    "execution": {
     "iopub.execute_input": "2024-04-30T22:30:53.665998Z",
     "iopub.status.busy": "2024-04-30T22:30:53.665287Z",
     "iopub.status.idle": "2024-04-30T22:30:53.780334Z",
     "shell.execute_reply": "2024-04-30T22:30:53.779332Z",
     "shell.execute_reply.started": "2024-04-30T22:30:53.665967Z"
    },
    "id": "phqc77AgmlkP",
    "papermill": {
     "duration": null,
     "end_time": null,
     "exception": null,
     "start_time": null,
     "status": "pending"
    },
    "tags": []
   },
   "outputs": [],
   "source": [
    "company_embeddings = []\n",
    "for company in companies:\n",
    "    company_indices = esg_documents_df[esg_documents_df.company == company].index\n",
    "    company_embedding = np.mean(company_text_embeddings[company_indices], axis=0)\n",
    "    company_embeddings.append(company_embedding)"
   ]
  },
  {
   "cell_type": "code",
   "execution_count": null,
   "id": "3767ef9f",
   "metadata": {
    "execution": {
     "iopub.execute_input": "2024-04-30T22:30:54.036679Z",
     "iopub.status.busy": "2024-04-30T22:30:54.036360Z",
     "iopub.status.idle": "2024-04-30T22:30:54.055542Z",
     "shell.execute_reply": "2024-04-30T22:30:54.054851Z",
     "shell.execute_reply.started": "2024-04-30T22:30:54.036654Z"
    },
    "id": "16hYQs3PyFqd",
    "papermill": {
     "duration": null,
     "end_time": null,
     "exception": null,
     "start_time": null,
     "status": "pending"
    },
    "tags": []
   },
   "outputs": [],
   "source": [
    "company_records = []\n",
    "\n",
    "for company_embedding in company_embeddings:\n",
    "    company_record = []\n",
    "    for sdg_embedding in sdg_embeddings:\n",
    "        company_record.append(cosine_similarity(company_embedding, sdg_embedding))\n",
    "    company_records.append(company_record)"
   ]
  },
  {
   "cell_type": "code",
   "execution_count": null,
   "id": "d114e70b",
   "metadata": {
    "execution": {
     "iopub.execute_input": "2024-04-30T22:30:55.177634Z",
     "iopub.status.busy": "2024-04-30T22:30:55.176675Z",
     "iopub.status.idle": "2024-04-30T22:30:55.183917Z",
     "shell.execute_reply": "2024-04-30T22:30:55.182961Z",
     "shell.execute_reply.started": "2024-04-30T22:30:55.177601Z"
    },
    "id": "6MG3M3eusaGx",
    "outputId": "b2499421-7a6c-4418-e138-24946138fa73",
    "papermill": {
     "duration": null,
     "end_time": null,
     "exception": null,
     "start_time": null,
     "status": "pending"
    },
    "tags": []
   },
   "outputs": [],
   "source": [
    "heatmap_array = np.array(company_records)\n",
    "heatmap_array.shape"
   ]
  },
  {
   "cell_type": "code",
   "execution_count": null,
   "id": "f023745e",
   "metadata": {
    "execution": {
     "iopub.execute_input": "2024-04-30T22:30:55.917568Z",
     "iopub.status.busy": "2024-04-30T22:30:55.917194Z",
     "iopub.status.idle": "2024-04-30T22:30:55.972284Z",
     "shell.execute_reply": "2024-04-30T22:30:55.971356Z",
     "shell.execute_reply.started": "2024-04-30T22:30:55.917521Z"
    },
    "id": "ibKB-T5CsleV",
    "outputId": "7f96de17-7524-4ea2-bd1b-2f5747e67241",
    "papermill": {
     "duration": null,
     "end_time": null,
     "exception": null,
     "start_time": null,
     "status": "pending"
    },
    "tags": []
   },
   "outputs": [],
   "source": [
    "fig = go.Figure(data=go.Heatmap(\n",
    "        z=heatmap_array,\n",
    "        x=sdg_df[\"name\"].tolist(),\n",
    "        y=[company + \" \" for company in companies],\n",
    "        colorscale='Viridis'))\n",
    "\n",
    "fig.update_layout(height=1000)\n",
    "\n",
    "fig.show()"
   ]
  },
  {
   "cell_type": "markdown",
   "id": "10850170",
   "metadata": {
    "papermill": {
     "duration": null,
     "end_time": null,
     "exception": null,
     "start_time": null,
     "status": "pending"
    },
    "tags": []
   },
   "source": [
    "The heatmap also shows variance across companies for each SDG, indicating that different companies may prioritize different SDGs based on their industry, strategy, and operational focus. For instance, if a certain company has a higher alignment with \"Life Below Water,\" it may suggest their business has a direct impact on marine ecosystems, like shipping or resource extraction.\n",
    "\n",
    "1.  Affordable and Clean Energy (SDG 7): This goal has the highest total relevance score, it is the most emphasized SDG across DAX companies. Companies are likely focusing on energy efficiency, renewable energy, and clean technology initiatives in their sustainability efforts.\n",
    "\n",
    "2.  Industry, Innovation, and Infrastructure (SDG 9): Coming in second, this indicates a strong focus on building resilient infrastructure, fostering innovation, and supporting industrial development, which is key to economic growth and sustainable development.\n",
    "\n",
    "3.  Reduced Inequalities (SDG 10): The third most relevant SDG reflects a significant commitment from these companies to reduce income disparities, promote social, economic, and political inclusion, and ensure equal opportunities.\n",
    "\n",
    "4.  Responsible Consumption and Production (SDG 12) and Life Below Water (SDG 14): These goals also rank high, showing a focus on sustainable resource use, efficient waste management, and marine conservation.\n",
    "\n",
    "5.  Partnerships for the Goals (SDG 17): This SDG, while not the highest, still scores relatively well, indicating engagement in partnerships to achieve broader sustainability targets.\n",
    "\n",
    "6.  Gender Equality (SDG 5) and Peace, Justice, and Strong Institutions (SDG 16): These goals have the lowest total relevance scores. This could mean they are not as prominently reported or targeted in the companies' sustainability strategies or perhaps are areas where the companies need to develop stronger initiatives.\n",
    "\n"
   ]
  },
  {
   "cell_type": "markdown",
   "id": "67075fdd",
   "metadata": {
    "id": "GL7m-zActYKI",
    "papermill": {
     "duration": null,
     "end_time": null,
     "exception": null,
     "start_time": null,
     "status": "pending"
    },
    "tags": []
   },
   "source": [
    "Next steps to further explore the data: modify the chart to answer the following questions:\n",
    "\n",
    "- What are the companies that are most aligned with the SDGs? (sort by sum of rows)\n",
    "- Which SDGs are most relevant for the DAX index? (sort by sum of columns)"
   ]
  },
  {
   "cell_type": "code",
   "execution_count": null,
   "id": "55703e51",
   "metadata": {
    "execution": {
     "iopub.execute_input": "2024-04-30T22:30:59.261271Z",
     "iopub.status.busy": "2024-04-30T22:30:59.260917Z",
     "iopub.status.idle": "2024-04-30T22:30:59.390465Z",
     "shell.execute_reply": "2024-04-30T22:30:59.389436Z",
     "shell.execute_reply.started": "2024-04-30T22:30:59.261242Z"
    },
    "id": "sBKF8POTClt_",
    "papermill": {
     "duration": null,
     "end_time": null,
     "exception": null,
     "start_time": null,
     "status": "pending"
    },
    "tags": []
   },
   "outputs": [],
   "source": [
    "import numpy as np\n",
    "import pandas as pd\n",
    "\n",
    "# Assuming 'company_text_embeddings' are the embeddings for the company contents\n",
    "# and 'sdg_embeddings' are the embeddings for the concatenated SDG texts\n",
    "\n",
    "# Compute cosine similarity for each company and each SDG\n",
    "def cosine_similarity(vec1, vec2):\n",
    "    return np.dot(vec1, vec2) / (np.linalg.norm(vec1) * np.linalg.norm(vec2))\n",
    "\n",
    "# Calculate the alignment score with all SDGs for each company\n",
    "company_alignment_scores = []\n",
    "\n",
    "for company in esg_documents_df['company'].unique():\n",
    "    company_indices = esg_documents_df[esg_documents_df['company'] == company].index\n",
    "    company_embedding = np.mean(company_text_embeddings[company_indices], axis=0)\n",
    "    \n",
    "    company_sdg_scores = [\n",
    "        cosine_similarity(company_embedding, sdg_embedding) for sdg_embedding in sdg_embeddings\n",
    "    ]\n",
    "    \n",
    "    total_alignment_score = np.sum(company_sdg_scores)\n",
    "    company_alignment_scores.append((company, total_alignment_score))\n",
    "\n",
    "# Create a DataFrame from the alignment scores\n",
    "company_alignment_df = pd.DataFrame(company_alignment_scores, columns=['Company', 'Total Alignment Score'])\n",
    "\n",
    "# Sort the companies by their total alignment score in descending order\n",
    "sorted_alignment_df = company_alignment_df.sort_values(by='Total Alignment Score', ascending=False)\n",
    "\n",
    "# Now sorted_alignment_df contains companies sorted by their alignment with the SDGs\n",
    "# You can print or save this DataFrame to CSV or Excel for further analysis\n",
    "sorted_alignment_df.to_csv('companies_sorted_by_sdg_alignment.csv', index=False)\n"
   ]
  },
  {
   "cell_type": "code",
   "execution_count": null,
   "id": "9cb3317f",
   "metadata": {
    "execution": {
     "iopub.execute_input": "2024-04-30T22:37:59.840059Z",
     "iopub.status.busy": "2024-04-30T22:37:59.839332Z",
     "iopub.status.idle": "2024-04-30T22:38:00.495701Z",
     "shell.execute_reply": "2024-04-30T22:38:00.494630Z",
     "shell.execute_reply.started": "2024-04-30T22:37:59.840009Z"
    },
    "papermill": {
     "duration": null,
     "end_time": null,
     "exception": null,
     "start_time": null,
     "status": "pending"
    },
    "tags": []
   },
   "outputs": [],
   "source": [
    "import matplotlib.pyplot as plt\n",
    "\n",
    "plt.figure(figsize=(10, 15))  # Adjust the figure size as needed\n",
    "plt.barh(sorted_alignment_df['Company'], sorted_alignment_df['Total Alignment Score'], color='skyblue')\n",
    "plt.xlabel('Total Alignment Score')\n",
    "plt.ylabel('Company')\n",
    "plt.title('Companies by Total Alignment Score')\n",
    "plt.gca().invert_yaxis()  # Invert y-axis to have the highest score on top\n",
    "plt.show()\n"
   ]
  },
  {
   "cell_type": "code",
   "execution_count": null,
   "id": "05f61848",
   "metadata": {
    "execution": {
     "iopub.execute_input": "2024-04-30T22:31:00.201711Z",
     "iopub.status.busy": "2024-04-30T22:31:00.201347Z",
     "iopub.status.idle": "2024-04-30T22:31:02.880370Z",
     "shell.execute_reply": "2024-04-30T22:31:02.879441Z",
     "shell.execute_reply.started": "2024-04-30T22:31:00.201671Z"
    },
    "papermill": {
     "duration": null,
     "end_time": null,
     "exception": null,
     "start_time": null,
     "status": "pending"
    },
    "tags": []
   },
   "outputs": [],
   "source": [
    "# Assume 'company_text_embeddings' are available and are a list of embeddings for each company\n",
    "# And 'sdg_embeddings' is a list of embeddings for each SDG\n",
    "\n",
    "# Compute cosine similarity scores between each company and each SDG\n",
    "all_company_scores = np.array([\n",
    "    [cosine_similarity(company_embedding, sdg_embedding) for sdg_embedding in sdg_embeddings]\n",
    "    for company_embedding in company_text_embeddings\n",
    "])\n",
    "\n",
    "# Sum scores for each SDG across all companies\n",
    "sdg_relevance_sums = np.sum(all_company_scores, axis=0)\n",
    "\n",
    "# Create a DataFrame for SDGs and their summed relevance scores\n",
    "sdg_relevance_df = pd.DataFrame({\n",
    "    'SDG': sdg_df['name'],  # or however you have the SDG names stored\n",
    "    'Total Relevance': sdg_relevance_sums\n",
    "})\n",
    "\n",
    "# Sort the DataFrame by the 'Total Relevance' column in descending order\n",
    "sorted_sdgs_by_relevance = sdg_relevance_df.sort_values(by='Total Relevance', ascending=False)\n",
    "\n",
    "# Reset the index to get a clean DataFrame\n",
    "sorted_sdgs_by_relevance.reset_index(drop=True, inplace=True)\n",
    "\n",
    "# Display the sorted DataFrame\n",
    "sorted_sdgs_by_relevance\n"
   ]
  },
  {
   "cell_type": "markdown",
   "id": "bfee2ac9",
   "metadata": {
    "papermill": {
     "duration": null,
     "end_time": null,
     "exception": null,
     "start_time": null,
     "status": "pending"
    },
    "tags": []
   },
   "source": [
    "The output appears to be a table that lists the Sustainable Development Goals (SDGs) in descending order of their relevance across the companies in the DAX index, based on a summation of the cosine similarity scores between company reports and SDG embeddings.\n",
    "\n",
    "Here's an interpretation of the output:\n",
    "\n",
    "1. **Affordable and Clean Energy (SDG 7)**: This is the most relevant SDG across the DAX companies, suggesting that these companies are placing a strong emphasis on energy-related issues and clean energy solutions in their operations and reporting.\n",
    "\n",
    "2. **Industry, Innovation and Infrastructure (SDG 9)**: As the second most relevant SDG, it indicates a significant focus on building resilient infrastructure, promoting inclusive and sustainable industrialization, and fostering innovation among the DAX companies.\n",
    "\n",
    "3. **Reduced Inequalities (SDG 10)**: Standing as the third, it shows a considerable commitment by the companies to address inequalities within and among countries.\n",
    "\n",
    "4. **Responsible Consumption and Production (SDG 12)**: This high ranking reflects an emphasis on sustainable management and efficient use of natural resources, as well as a push for more sustainable practices and consumption patterns.\n",
    "\n",
    "5. **Life Below Water (SDG 14)**: The companies are also paying substantial attention to conserving and sustainably using the oceans, seas, and marine resources, as indicated by its relevance score.\n",
    "\n",
    "6. **Partnerships for the Goals (SDG 17)**: This indicates the importance placed on multi-stakeholder partnerships that mobilize and share knowledge, expertise, technology, and financial resources to support the achievement of the SDGs in all countries.\n",
    "\n",
    "7. **Clean Water and Sanitation (SDG 6)** to **Gender Equality (SDG 5)**: The middle-ranked SDGs show moderate to high relevance, suggesting these areas are also recognized within corporate sustainability efforts but with varying degrees of focus.\n",
    "\n",
    "8. **Life On Land (SDG 15)** and **Peace, Justice and Strong Institutions (SDG 16)**: These SDGs have lower total relevance scores, indicating they are less emphasized across the DAX companies compared to other goals.\n",
    "\n",
    "9. **Gender Equality (SDG 5)**: As the SDG with the lowest total relevance score, this may suggest that gender equality is not as prominently addressed within the sustainability reports of the DAX companies or is not as aligned with their core business activities as other SDGs.\n",
    "\n",
    "This interpretation suggests that while there is some focus across the spectrum of SDGs, certain goals related to environmental sustainability, innovation, and infrastructure are given more emphasis in the corporate sustainability reports of DAX companies. Goals related to social issues like gender equality appear to receive less emphasis relative to others.\n",
    "\n",
    "To gain a more nuanced understanding of why some SDGs score higher than others, it would be beneficial to analyze the content of the reports qualitatively to understand the specific contexts, initiatives, and reporting practices of the DAX companies. Additionally, considering the sectors in which these companies operate could provide further insights into why certain SDGs are more relevant to them."
   ]
  },
  {
   "cell_type": "markdown",
   "id": "b2055c95",
   "metadata": {
    "papermill": {
     "duration": null,
     "end_time": null,
     "exception": null,
     "start_time": null,
     "status": "pending"
    },
    "tags": []
   },
   "source": [
    "\n",
    "Conclusion and Recommendations\n",
    "\n",
    "•\tSuggestions for companies, policymakers, and ESG rating providers on how to reduce greenwashing:\n",
    "\n",
    "To effectively mitigate the issue of greenwashing, companies should adopt a multi-faceted approach encompassing increased transparency, rigorous third-party audits, broad stakeholder engagement, and the strategic implementation of NLP tools. By enhancing the transparency of sustainability reports and providing detailed methodologies behind ESG claims, companies can foster greater accountability. \n",
    "Engaging independent third parties to audit these claims and involving a diverse range of stakeholders—such as NGOs, community representatives, and industry experts—in the reporting process further ensures a well-rounded representation of the company’s sustainability efforts. \n",
    "Crucially, developing internal NLP tools to continuously analyze and compare their ESG reporting with external media and reports can help companies identify discrepancies and better align their corporate reporting with external perceptions and facts. Policymakers can support these efforts by funding research focused on advanced NLP techniques for monitoring ESG disclosures and promoting regulatory frameworks that mandate the disclosure of both positive and negative sustainability impacts. Similarly, ESG rating providers should integrate these sophisticated NLP methodologies to enhance the analysis of qualitative data in ESG reports, enabling more accurate comparisons with quantitative data and third-party information, thereby ensuring a more reliable assessment of corporate sustainability practices.\n",
    "\n"
   ]
  }
 ],
 "metadata": {
  "colab": {
   "provenance": []
  },
  "kaggle": {
   "accelerator": "nvidiaTeslaT4",
   "dataSources": [
    {
     "datasetId": 3230335,
     "sourceId": 5626536,
     "sourceType": "datasetVersion"
    }
   ],
   "dockerImageVersionId": 30699,
   "isGpuEnabled": true,
   "isInternetEnabled": true,
   "language": "python",
   "sourceType": "notebook"
  },
  "kernelspec": {
   "display_name": "Python 3",
   "language": "python",
   "name": "python3"
  },
  "language_info": {
   "codemirror_mode": {
    "name": "ipython",
    "version": 3
   },
   "file_extension": ".py",
   "mimetype": "text/x-python",
   "name": "python",
   "nbconvert_exporter": "python",
   "pygments_lexer": "ipython3",
   "version": "3.10.13"
  },
  "papermill": {
   "default_parameters": {},
   "duration": 5.995912,
   "end_time": "2024-04-30T22:40:05.311044",
   "environment_variables": {},
   "exception": true,
   "input_path": "__notebook__.ipynb",
   "output_path": "__notebook__.ipynb",
   "parameters": {},
   "start_time": "2024-04-30T22:39:59.315132",
   "version": "2.5.0"
  }
 },
 "nbformat": 4,
 "nbformat_minor": 5
}
