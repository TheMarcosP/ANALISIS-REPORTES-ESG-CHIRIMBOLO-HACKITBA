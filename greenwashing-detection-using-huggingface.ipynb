{
 "cells": [
  {
   "cell_type": "markdown",
   "id": "c2955f0d",
   "metadata": {
    "id": "NuHMiwgKzoRT",
    "papermill": {
     "duration": 0.01473,
     "end_time": "2024-04-30T22:40:03.295915",
     "exception": false,
     "start_time": "2024-04-30T22:40:03.281185",
     "status": "completed"
    },
    "tags": []
   },
   "source": [
    "This study addresses the prevalent issue of greenwashing within the Environmental, Social, and Governance (ESG) reports of German DAX companies. Greenwashing—defined as the practice of misrepresenting sustainability efforts to appear more environmentally friendly than reality—poses significant challenges for stakeholders, including investors, regulators, and the public. These misrepresented reports lead to misinformed decisions that can have widespread economic and environmental consequences. This project utilizes Natural Language Processing (NLP) techniques to analyze approximately 11,000 English-language ESG documents and auxiliary third-party media content. By employing advanced methods such as sentiment analysis, text embeddings, and large language models (LLMs), the study aims to detect inconsistencies and exaggerated sustainability claims effectively. The objective is to enhance transparency in corporate sustainability reports and provide stakeholders with a tool to assess the authenticity of corporate environmental claims. This initiative is crucial for ensuring that ESG data accurately reflect companies' actual sustainability practices, thereby supporting informed decision-making and promoting genuine corporate responsibility. The expected outcomes include a deeper understanding of greenwashing practices and improved methodologies for evaluating corporate sustainability reports. "
   ]
  },
  {
   "cell_type": "code",
   "execution_count": 1,
   "id": "7b1bea3b",
   "metadata": {
    "execution": {
     "iopub.execute_input": "2024-04-30T22:40:03.325133Z",
     "iopub.status.busy": "2024-04-30T22:40:03.324749Z",
     "iopub.status.idle": "2024-04-30T22:40:03.329853Z",
     "shell.execute_reply": "2024-04-30T22:40:03.328873Z"
    },
    "papermill": {
     "duration": 0.021832,
     "end_time": "2024-04-30T22:40:03.331804",
     "exception": false,
     "start_time": "2024-04-30T22:40:03.309972",
     "status": "completed"
    },
    "tags": []
   },
   "outputs": [],
   "source": [
    "#!pip install sentence_transformers"
   ]
  },
  {
   "cell_type": "code",
   "execution_count": 2,
   "id": "d89862f3",
   "metadata": {
    "execution": {
     "iopub.execute_input": "2024-04-30T22:40:03.358852Z",
     "iopub.status.busy": "2024-04-30T22:40:03.358563Z",
     "iopub.status.idle": "2024-04-30T22:40:04.976227Z",
     "shell.execute_reply": "2024-04-30T22:40:04.974919Z"
    },
    "id": "5tPCv7_7ioJD",
    "papermill": {
     "duration": 1.633109,
     "end_time": "2024-04-30T22:40:04.977838",
     "exception": true,
     "start_time": "2024-04-30T22:40:03.344729",
     "status": "failed"
    },
    "tags": []
   },
   "outputs": [
    {
     "name": "stderr",
     "output_type": "stream",
     "text": [
      "/home/san/miniconda3/envs/hackitba/lib/python3.13/site-packages/tqdm/auto.py:21: TqdmWarning: IProgress not found. Please update jupyter and ipywidgets. See https://ipywidgets.readthedocs.io/en/stable/user_install.html\n",
      "  from .autonotebook import tqdm as notebook_tqdm\n"
     ]
    }
   ],
   "source": [
    "# Make sure that all dependencies are installed.\n",
    "import pandas as pd\n",
    "import os\n",
    "import numpy as np\n",
    "import sentence_transformers\n",
    "import torch\n",
    "import plotly.graph_objects as go"
   ]
  },
  {
   "cell_type": "markdown",
   "id": "4ef01510",
   "metadata": {
    "id": "Tzb0RfPKig8k",
    "papermill": {
     "duration": null,
     "end_time": null,
     "exception": null,
     "start_time": null,
     "status": "pending"
    },
    "tags": []
   },
   "source": [
    "## 1. Loading the data"
   ]
  },
  {
   "cell_type": "code",
   "execution_count": 3,
   "id": "cea2bfa2",
   "metadata": {
    "execution": {
     "iopub.execute_input": "2024-04-30T22:25:49.543494Z",
     "iopub.status.busy": "2024-04-30T22:25:49.543248Z",
     "iopub.status.idle": "2024-04-30T22:25:51.377238Z",
     "shell.execute_reply": "2024-04-30T22:25:51.376275Z",
     "shell.execute_reply.started": "2024-04-30T22:25:49.543473Z"
    },
    "id": "2hQIgYKfiVOY",
    "outputId": "4aa2cdf3-3f38-4f0b-8359-732f5a0292b8",
    "papermill": {
     "duration": null,
     "end_time": null,
     "exception": null,
     "start_time": null,
     "status": "pending"
    },
    "tags": []
   },
   "outputs": [
    {
     "data": {
      "text/html": [
       "<div>\n",
       "<style scoped>\n",
       "    .dataframe tbody tr th:only-of-type {\n",
       "        vertical-align: middle;\n",
       "    }\n",
       "\n",
       "    .dataframe tbody tr th {\n",
       "        vertical-align: top;\n",
       "    }\n",
       "\n",
       "    .dataframe thead th {\n",
       "        text-align: right;\n",
       "    }\n",
       "</style>\n",
       "<table border=\"1\" class=\"dataframe\">\n",
       "  <thead>\n",
       "    <tr style=\"text-align: right;\">\n",
       "      <th></th>\n",
       "      <th>Unnamed: 0</th>\n",
       "      <th>company</th>\n",
       "      <th>content</th>\n",
       "      <th>datatype</th>\n",
       "      <th>date</th>\n",
       "      <th>domain</th>\n",
       "      <th>esg_topics</th>\n",
       "      <th>internal</th>\n",
       "      <th>symbol</th>\n",
       "      <th>title</th>\n",
       "      <th>url</th>\n",
       "    </tr>\n",
       "  </thead>\n",
       "  <tbody>\n",
       "    <tr>\n",
       "      <th>0</th>\n",
       "      <td>2</td>\n",
       "      <td>Beiersdorf AG</td>\n",
       "      <td>Sustainability Highlight Report CARE BEYOND SK...</td>\n",
       "      <td>sustainability_report</td>\n",
       "      <td>2021-03-31</td>\n",
       "      <td>NaN</td>\n",
       "      <td>['CleanWater', 'GHGEmission', 'ProductLiabilit...</td>\n",
       "      <td>1</td>\n",
       "      <td>BEI</td>\n",
       "      <td>BeiersdorfAG Sustainability Report 2021</td>\n",
       "      <td>NaN</td>\n",
       "    </tr>\n",
       "    <tr>\n",
       "      <th>1</th>\n",
       "      <td>3</td>\n",
       "      <td>Deutsche Telekom AG</td>\n",
       "      <td>Corporate Responsibility Report 2021 2 Content...</td>\n",
       "      <td>sustainability_report</td>\n",
       "      <td>2021-03-31</td>\n",
       "      <td>NaN</td>\n",
       "      <td>['DataSecurity', 'Iso50001', 'GlobalWarming', ...</td>\n",
       "      <td>1</td>\n",
       "      <td>DTE</td>\n",
       "      <td>DeutscheTelekomAG Sustainability Report 2021</td>\n",
       "      <td>NaN</td>\n",
       "    </tr>\n",
       "    <tr>\n",
       "      <th>2</th>\n",
       "      <td>5</td>\n",
       "      <td>Vonovia SE</td>\n",
       "      <td>VONOVIA SE SUSTAINABILITY REPORT 2021 =For a S...</td>\n",
       "      <td>sustainability_report</td>\n",
       "      <td>2021-03-31</td>\n",
       "      <td>NaN</td>\n",
       "      <td>['Whistleblowing', 'DataSecurity', 'Vaccine', ...</td>\n",
       "      <td>1</td>\n",
       "      <td>VNA</td>\n",
       "      <td>VonoviaSE Sustainability Report 2021</td>\n",
       "      <td>NaN</td>\n",
       "    </tr>\n",
       "    <tr>\n",
       "      <th>3</th>\n",
       "      <td>6</td>\n",
       "      <td>Merck KGaA</td>\n",
       "      <td>Sustainability Report 2021 TABLE OF CONTENTS S...</td>\n",
       "      <td>sustainability_report</td>\n",
       "      <td>2021-03-31</td>\n",
       "      <td>NaN</td>\n",
       "      <td>['DataSecurity', 'DataMisuse', 'DrugResistance...</td>\n",
       "      <td>1</td>\n",
       "      <td>MRK</td>\n",
       "      <td>MerckKGaA Sustainability Report 2021</td>\n",
       "      <td>NaN</td>\n",
       "    </tr>\n",
       "    <tr>\n",
       "      <th>4</th>\n",
       "      <td>9</td>\n",
       "      <td>MTU</td>\n",
       "      <td>Our ideas and concepts FOR A SUSTAINABLE FUTUR...</td>\n",
       "      <td>sustainability_report</td>\n",
       "      <td>2020-03-31</td>\n",
       "      <td>NaN</td>\n",
       "      <td>['WorkLifeBalance', 'Corruption', 'AirQuality'...</td>\n",
       "      <td>1</td>\n",
       "      <td>MTX</td>\n",
       "      <td>MTUAeroEngines Sustainability Report 2020</td>\n",
       "      <td>NaN</td>\n",
       "    </tr>\n",
       "  </tbody>\n",
       "</table>\n",
       "</div>"
      ],
      "text/plain": [
       "   Unnamed: 0              company  \\\n",
       "0           2        Beiersdorf AG   \n",
       "1           3  Deutsche Telekom AG   \n",
       "2           5           Vonovia SE   \n",
       "3           6           Merck KGaA   \n",
       "4           9                  MTU   \n",
       "\n",
       "                                             content               datatype  \\\n",
       "0  Sustainability Highlight Report CARE BEYOND SK...  sustainability_report   \n",
       "1  Corporate Responsibility Report 2021 2 Content...  sustainability_report   \n",
       "2  VONOVIA SE SUSTAINABILITY REPORT 2021 =For a S...  sustainability_report   \n",
       "3  Sustainability Report 2021 TABLE OF CONTENTS S...  sustainability_report   \n",
       "4  Our ideas and concepts FOR A SUSTAINABLE FUTUR...  sustainability_report   \n",
       "\n",
       "         date domain                                         esg_topics  \\\n",
       "0  2021-03-31    NaN  ['CleanWater', 'GHGEmission', 'ProductLiabilit...   \n",
       "1  2021-03-31    NaN  ['DataSecurity', 'Iso50001', 'GlobalWarming', ...   \n",
       "2  2021-03-31    NaN  ['Whistleblowing', 'DataSecurity', 'Vaccine', ...   \n",
       "3  2021-03-31    NaN  ['DataSecurity', 'DataMisuse', 'DrugResistance...   \n",
       "4  2020-03-31    NaN  ['WorkLifeBalance', 'Corruption', 'AirQuality'...   \n",
       "\n",
       "   internal symbol                                         title  url  \n",
       "0         1    BEI       BeiersdorfAG Sustainability Report 2021  NaN  \n",
       "1         1    DTE  DeutscheTelekomAG Sustainability Report 2021  NaN  \n",
       "2         1    VNA          VonoviaSE Sustainability Report 2021  NaN  \n",
       "3         1    MRK          MerckKGaA Sustainability Report 2021  NaN  \n",
       "4         1    MTX     MTUAeroEngines Sustainability Report 2020  NaN  "
      ]
     },
     "execution_count": 3,
     "metadata": {},
     "output_type": "execute_result"
    }
   ],
   "source": [
    "esg_documents_df = pd.read_csv(\"esg_documents_for_dax_companies.csv\", sep=\"|\")\n",
    "esg_documents_df.head()"
   ]
  },
  {
   "cell_type": "code",
   "execution_count": 4,
   "id": "9a143b5d",
   "metadata": {
    "execution": {
     "iopub.execute_input": "2024-04-30T22:25:51.379567Z",
     "iopub.status.busy": "2024-04-30T22:25:51.378889Z",
     "iopub.status.idle": "2024-04-30T22:25:51.730110Z",
     "shell.execute_reply": "2024-04-30T22:25:51.729206Z",
     "shell.execute_reply.started": "2024-04-30T22:25:51.379529Z"
    },
    "id": "TdRTN7aBi2Lq",
    "outputId": "ff1a5960-340e-4af2-e7ba-499144256884",
    "papermill": {
     "duration": null,
     "end_time": null,
     "exception": null,
     "start_time": null,
     "status": "pending"
    },
    "tags": []
   },
   "outputs": [
    {
     "data": {
      "text/plain": [
       "'BeiersdorfAG Sustainability Report 2021 Sustainability Highlight Report CARE BEYOND SKIN 2021 03 For'"
      ]
     },
     "execution_count": 4,
     "metadata": {},
     "output_type": "execute_result"
    }
   ],
   "source": [
    "# form texts by concatenating title and content\n",
    "esg_texts = esg_documents_df.apply(lambda row: \" \".join([str(row[\"title\"]), str(row[\"content\"])]), axis=1)\n",
    "esg_texts[0][:100]"
   ]
  },
  {
   "cell_type": "code",
   "execution_count": 5,
   "id": "0c4958ef",
   "metadata": {
    "execution": {
     "iopub.execute_input": "2024-04-30T22:25:51.734004Z",
     "iopub.status.busy": "2024-04-30T22:25:51.733630Z",
     "iopub.status.idle": "2024-04-30T22:25:51.769372Z",
     "shell.execute_reply": "2024-04-30T22:25:51.768452Z",
     "shell.execute_reply.started": "2024-04-30T22:25:51.733973Z"
    },
    "id": "hARsYrByhJYr",
    "outputId": "63ff7b1d-90ba-420c-c3fd-86b2a35bb79e",
    "papermill": {
     "duration": null,
     "end_time": null,
     "exception": null,
     "start_time": null,
     "status": "pending"
    },
    "tags": []
   },
   "outputs": [
    {
     "data": {
      "text/html": [
       "<div>\n",
       "<style scoped>\n",
       "    .dataframe tbody tr th:only-of-type {\n",
       "        vertical-align: middle;\n",
       "    }\n",
       "\n",
       "    .dataframe tbody tr th {\n",
       "        vertical-align: top;\n",
       "    }\n",
       "\n",
       "    .dataframe thead th {\n",
       "        text-align: right;\n",
       "    }\n",
       "</style>\n",
       "<table border=\"1\" class=\"dataframe\">\n",
       "  <thead>\n",
       "    <tr style=\"text-align: right;\">\n",
       "      <th></th>\n",
       "      <th>id</th>\n",
       "      <th>name</th>\n",
       "      <th>description</th>\n",
       "      <th>targets</th>\n",
       "      <th>targets_json_array</th>\n",
       "      <th>progress</th>\n",
       "    </tr>\n",
       "  </thead>\n",
       "  <tbody>\n",
       "    <tr>\n",
       "      <th>0</th>\n",
       "      <td>1</td>\n",
       "      <td>No Poverty</td>\n",
       "      <td>End poverty in all its forms everywhere</td>\n",
       "      <td>['1.1', 'By 2030, eradicate extreme poverty fo...</td>\n",
       "      <td>[{\"target\":\"1.1\",\"description\":\"By 2030, eradi...</td>\n",
       "      <td>['The impact of the COVID-19 pandemic reversed...</td>\n",
       "    </tr>\n",
       "    <tr>\n",
       "      <th>1</th>\n",
       "      <td>2</td>\n",
       "      <td>Zero Hunger</td>\n",
       "      <td>End hunger, achieve food security and improved...</td>\n",
       "      <td>['2.1', 'By 2030, end hunger and ensure access...</td>\n",
       "      <td>[{\"target\":\"2.1\",\"description\":\"By 2030, end h...</td>\n",
       "      <td>['Between 2014 and the onset of the pandemic, ...</td>\n",
       "    </tr>\n",
       "    <tr>\n",
       "      <th>2</th>\n",
       "      <td>3</td>\n",
       "      <td>Good Health and Well-being</td>\n",
       "      <td>Ensure healthy lives and promote well-being fo...</td>\n",
       "      <td>['3.1', 'By 2030, reduce the global maternal m...</td>\n",
       "      <td>[{\"target\":\"3.1\",\"description\":\"By 2030, reduc...</td>\n",
       "      <td>['By April 2022, the coronavirus causing COVID...</td>\n",
       "    </tr>\n",
       "    <tr>\n",
       "      <th>3</th>\n",
       "      <td>4</td>\n",
       "      <td>Quality Education</td>\n",
       "      <td>Ensure inclusive and equitable quality educati...</td>\n",
       "      <td>['4.1', 'By 2030, ensure that all girls and bo...</td>\n",
       "      <td>[{\"target\":\"4.1\",\"description\":\"By 2030, ensur...</td>\n",
       "      <td>['The COVID-19 outbreak has caused a global ed...</td>\n",
       "    </tr>\n",
       "    <tr>\n",
       "      <th>4</th>\n",
       "      <td>5</td>\n",
       "      <td>Gender Equality</td>\n",
       "      <td>Achieve gender equality and empower all women ...</td>\n",
       "      <td>['5.1', 'End all forms of discrimination again...</td>\n",
       "      <td>[{\"target\":\"5.1\",\"description\":\"End all forms ...</td>\n",
       "      <td>[\"The world is not on track to achieve gender ...</td>\n",
       "    </tr>\n",
       "  </tbody>\n",
       "</table>\n",
       "</div>"
      ],
      "text/plain": [
       "   id                        name  \\\n",
       "0   1                  No Poverty   \n",
       "1   2                 Zero Hunger   \n",
       "2   3  Good Health and Well-being   \n",
       "3   4           Quality Education   \n",
       "4   5             Gender Equality   \n",
       "\n",
       "                                         description  \\\n",
       "0            End poverty in all its forms everywhere   \n",
       "1  End hunger, achieve food security and improved...   \n",
       "2  Ensure healthy lives and promote well-being fo...   \n",
       "3  Ensure inclusive and equitable quality educati...   \n",
       "4  Achieve gender equality and empower all women ...   \n",
       "\n",
       "                                             targets  \\\n",
       "0  ['1.1', 'By 2030, eradicate extreme poverty fo...   \n",
       "1  ['2.1', 'By 2030, end hunger and ensure access...   \n",
       "2  ['3.1', 'By 2030, reduce the global maternal m...   \n",
       "3  ['4.1', 'By 2030, ensure that all girls and bo...   \n",
       "4  ['5.1', 'End all forms of discrimination again...   \n",
       "\n",
       "                                  targets_json_array  \\\n",
       "0  [{\"target\":\"1.1\",\"description\":\"By 2030, eradi...   \n",
       "1  [{\"target\":\"2.1\",\"description\":\"By 2030, end h...   \n",
       "2  [{\"target\":\"3.1\",\"description\":\"By 2030, reduc...   \n",
       "3  [{\"target\":\"4.1\",\"description\":\"By 2030, ensur...   \n",
       "4  [{\"target\":\"5.1\",\"description\":\"End all forms ...   \n",
       "\n",
       "                                            progress  \n",
       "0  ['The impact of the COVID-19 pandemic reversed...  \n",
       "1  ['Between 2014 and the onset of the pandemic, ...  \n",
       "2  ['By April 2022, the coronavirus causing COVID...  \n",
       "3  ['The COVID-19 outbreak has caused a global ed...  \n",
       "4  [\"The world is not on track to achieve gender ...  "
      ]
     },
     "execution_count": 5,
     "metadata": {},
     "output_type": "execute_result"
    }
   ],
   "source": [
    "sdg_df = pd.read_csv(\"sdg_descriptions_with_targetsText.csv\")\n",
    "sdg_df.head()"
   ]
  },
  {
   "cell_type": "code",
   "execution_count": 6,
   "id": "1d4d86fe",
   "metadata": {
    "execution": {
     "iopub.execute_input": "2024-04-30T22:25:51.770949Z",
     "iopub.status.busy": "2024-04-30T22:25:51.770556Z",
     "iopub.status.idle": "2024-04-30T22:25:51.779716Z",
     "shell.execute_reply": "2024-04-30T22:25:51.778679Z",
     "shell.execute_reply.started": "2024-04-30T22:25:51.770921Z"
    },
    "id": "5peAiqVMiEZk",
    "outputId": "ae437f16-7647-4901-d22f-154098cd7499",
    "papermill": {
     "duration": null,
     "end_time": null,
     "exception": null,
     "start_time": null,
     "status": "pending"
    },
    "tags": []
   },
   "outputs": [
    {
     "data": {
      "text/plain": [
       "\"No Poverty End poverty in all its forms everywhere ['1.1', 'By 2030, eradicate extreme poverty for a\""
      ]
     },
     "execution_count": 6,
     "metadata": {},
     "output_type": "execute_result"
    }
   ],
   "source": [
    "sdg_texts = sdg_df.apply(lambda row: \" \".join([row[\"name\"], row[\"description\"], row[\"targets\"], row[\"progress\"]]), axis=1)\n",
    "sdg_texts[0][:100]"
   ]
  },
  {
   "cell_type": "code",
   "execution_count": 7,
   "id": "07841f9c",
   "metadata": {
    "execution": {
     "iopub.execute_input": "2024-04-30T22:25:51.781297Z",
     "iopub.status.busy": "2024-04-30T22:25:51.780930Z",
     "iopub.status.idle": "2024-04-30T22:25:51.795758Z",
     "shell.execute_reply": "2024-04-30T22:25:51.794734Z",
     "shell.execute_reply.started": "2024-04-30T22:25:51.781258Z"
    },
    "id": "pXyUZI8zjKwr",
    "outputId": "968e43de-fee1-4d4a-db63-4ac18e6cf83e",
    "papermill": {
     "duration": null,
     "end_time": null,
     "exception": null,
     "start_time": null,
     "status": "pending"
    },
    "tags": []
   },
   "outputs": [
    {
     "data": {
      "text/plain": [
       "['Adidas AG',\n",
       " 'Airbus SE',\n",
       " 'AkzoNobelNV',\n",
       " 'Allianz SE',\n",
       " 'BASF SE',\n",
       " 'BMW',\n",
       " 'Bayer AG',\n",
       " 'Beiersdorf AG',\n",
       " 'Brenntag',\n",
       " 'Continental AG',\n",
       " 'Covestro AG',\n",
       " 'Daimler AG',\n",
       " 'Deutsche Bank AG',\n",
       " 'Deutsche Boerse AG',\n",
       " 'Deutsche Post AG',\n",
       " 'Deutsche Telekom AG',\n",
       " 'E ONSE',\n",
       " 'Fresenius',\n",
       " 'Hannover R AG',\n",
       " 'Heidelberg Cement AG',\n",
       " 'Henkel',\n",
       " 'Infineon Technologies AG',\n",
       " 'Linde',\n",
       " 'MTU',\n",
       " 'Merck KGaA',\n",
       " 'Muenchener Rueckversicherungs Gesellschaft AGin Muenchen',\n",
       " 'Porsche',\n",
       " 'Puma SE',\n",
       " 'Qiagen',\n",
       " 'RWE AG',\n",
       " 'SAP',\n",
       " 'Sartorius AG',\n",
       " 'Siemens AG',\n",
       " 'Siemens Energy',\n",
       " 'Siemens Healthineers AG',\n",
       " 'Symrise AG',\n",
       " 'Volkswagen AG',\n",
       " 'Vonovia',\n",
       " 'Vonovia SE',\n",
       " 'Zalando SE']"
      ]
     },
     "execution_count": 7,
     "metadata": {},
     "output_type": "execute_result"
    }
   ],
   "source": [
    "companies = sorted(esg_documents_df.company.unique())\n",
    "companies"
   ]
  },
  {
   "cell_type": "markdown",
   "id": "e99478b9",
   "metadata": {
    "id": "dNNkjV26jTeb",
    "papermill": {
     "duration": null,
     "end_time": null,
     "exception": null,
     "start_time": null,
     "status": "pending"
    },
    "tags": []
   },
   "source": [
    "## 2. Build embeddings"
   ]
  },
  {
   "cell_type": "markdown",
   "id": "cb46d341",
   "metadata": {
    "papermill": {
     "duration": null,
     "end_time": null,
     "exception": null,
     "start_time": null,
     "status": "pending"
    },
    "tags": []
   },
   "source": [
    "MPNet base model loaded here is designed to capture a broad understanding of language from diverse datasets, making it suitable for ESG and SDG texts that may contain varied and specialized terminology."
   ]
  },
  {
   "cell_type": "code",
   "execution_count": 8,
   "id": "2515fd49",
   "metadata": {
    "execution": {
     "iopub.execute_input": "2024-04-30T22:25:51.797283Z",
     "iopub.status.busy": "2024-04-30T22:25:51.796967Z",
     "iopub.status.idle": "2024-04-30T22:25:58.561839Z",
     "shell.execute_reply": "2024-04-30T22:25:58.560847Z",
     "shell.execute_reply.started": "2024-04-30T22:25:51.797253Z"
    },
    "id": "cposkUb2jczo",
    "outputId": "655e8331-8bfc-42c3-b18c-3b5403cff9aa",
    "papermill": {
     "duration": null,
     "end_time": null,
     "exception": null,
     "start_time": null,
     "status": "pending"
    },
    "tags": []
   },
   "outputs": [
    {
     "data": {
      "text/plain": [
       "SentenceTransformer(\n",
       "  (0): Transformer({'max_seq_length': 128, 'do_lower_case': False}) with Transformer model: MPNetModel \n",
       "  (1): Pooling({'word_embedding_dimension': 768, 'pooling_mode_cls_token': False, 'pooling_mode_mean_tokens': True, 'pooling_mode_max_tokens': False, 'pooling_mode_mean_sqrt_len_tokens': False, 'pooling_mode_weightedmean_tokens': False, 'pooling_mode_lasttoken': False, 'include_prompt': True})\n",
       "  (2): Normalize()\n",
       ")"
      ]
     },
     "execution_count": 8,
     "metadata": {},
     "output_type": "execute_result"
    },
    {
     "name": "stderr",
     "output_type": "stream",
     "text": [
      "Error while downloading from https://cdn-lfs.hf.co/flax-sentence-embeddings/all_datasets_v3_mpnet-base/fe3fc5248610ed8c279c12d6d2b39096ca561a4466ae7c28120907d76b3490c1?response-content-disposition=inline%3B+filename*%3DUTF-8%27%27model.safetensors%3B+filename%3D%22model.safetensors%22%3B&Expires=1743275600&Policy=eyJTdGF0ZW1lbnQiOlt7IkNvbmRpdGlvbiI6eyJEYXRlTGVzc1RoYW4iOnsiQVdTOkVwb2NoVGltZSI6MTc0MzI3NTYwMH19LCJSZXNvdXJjZSI6Imh0dHBzOi8vY2RuLWxmcy5oZi5jby9mbGF4LXNlbnRlbmNlLWVtYmVkZGluZ3MvYWxsX2RhdGFzZXRzX3YzX21wbmV0LWJhc2UvZmUzZmM1MjQ4NjEwZWQ4YzI3OWMxMmQ2ZDJiMzkwOTZjYTU2MWE0NDY2YWU3YzI4MTIwOTA3ZDc2YjM0OTBjMT9yZXNwb25zZS1jb250ZW50LWRpc3Bvc2l0aW9uPSoifV19&Signature=pRrqIvYWczZQu2BNY4sW7F1D-0NP9ckddSOIjJNA7tx%7EkNrzOqqK5iMJ51E8uXI-0Fd%7EnwxC7DwZoLu3oCV5HAVVR8qhFU0MJlYTavNN4nbYf6a7UICpsh0GTCoW-SlIzOryVP0uBXaajMFPM4LxjLmozNmbAjJnkTDbVDM-HaDkYazfB41tITObVE2IcPVr6gfFjU2wF2gri3M0YwnhPB55mCxNyqf7MgnmfCHOhcpiWUPcPkZHNv6tvUnnSXS%7ENbsZMar96vccy71AaT9cF5ogK--y%7ESu5LnHRPWOL4lsNHtteaBt%7Egh591H79tpA-4vjXct4a1p96onPoYa1Spg__&Key-Pair-Id=K3RPWS32NSSJCE: HTTPSConnectionPool(host='cdn-lfs.hf.co', port=443): Read timed out.\n",
      "Trying to resume download...\n"
     ]
    }
   ],
   "source": [
    "device = 'cuda' if torch.cuda.is_available() else 'cpu'\n",
    "# load the retriever model from huggingface model hub\n",
    "retriever = sentence_transformers.SentenceTransformer(\"flax-sentence-embeddings/all_datasets_v3_mpnet-base\", device=device)\n",
    "retriever"
   ]
  },
  {
   "cell_type": "code",
   "execution_count": 9,
   "id": "1d4a172d",
   "metadata": {
    "execution": {
     "iopub.execute_input": "2024-04-30T22:25:58.563587Z",
     "iopub.status.busy": "2024-04-30T22:25:58.563130Z",
     "iopub.status.idle": "2024-04-30T22:28:00.924907Z",
     "shell.execute_reply": "2024-04-30T22:28:00.923707Z",
     "shell.execute_reply.started": "2024-04-30T22:25:58.563561Z"
    },
    "id": "eScCQp_Xjh-9",
    "papermill": {
     "duration": null,
     "end_time": null,
     "exception": null,
     "start_time": null,
     "status": "pending"
    },
    "tags": []
   },
   "outputs": [],
   "source": [
    "company_text_embeddings = retriever.encode(esg_texts)\n",
    "sdg_embeddings = retriever.encode(sdg_texts)"
   ]
  },
  {
   "cell_type": "code",
   "execution_count": 10,
   "id": "d422ee49",
   "metadata": {},
   "outputs": [
    {
     "name": "stdout",
     "output_type": "stream",
     "text": [
      "cuda\n"
     ]
    }
   ],
   "source": [
    "print(device)"
   ]
  },
  {
   "cell_type": "markdown",
   "id": "f1b2b8dd",
   "metadata": {
    "id": "F0Xbo3RojvFW",
    "papermill": {
     "duration": null,
     "end_time": null,
     "exception": null,
     "start_time": null,
     "status": "pending"
    },
    "tags": []
   },
   "source": [
    "## 3. SDG alignment of the DAX companies"
   ]
  },
  {
   "cell_type": "markdown",
   "id": "a7fd42b4",
   "metadata": {
    "papermill": {
     "duration": null,
     "end_time": null,
     "exception": null,
     "start_time": null,
     "status": "pending"
    },
    "tags": []
   },
   "source": [
    "* We model SDG alignment as similarity between the company-related texts and the SDG descriptions. In this section, we first define the similarity function using standard cosine similarity. Then, we demonstrate some possible alignment analyses, their visualisations and interpretations. Finally, we provide suggestions for further, more advanced alignment analyses."
   ]
  },
  {
   "cell_type": "code",
   "execution_count": 11,
   "id": "5e3c7265",
   "metadata": {
    "execution": {
     "iopub.execute_input": "2024-04-30T22:28:00.927817Z",
     "iopub.status.busy": "2024-04-30T22:28:00.927105Z",
     "iopub.status.idle": "2024-04-30T22:28:00.934857Z",
     "shell.execute_reply": "2024-04-30T22:28:00.933714Z",
     "shell.execute_reply.started": "2024-04-30T22:28:00.927775Z"
    },
    "id": "GFXu5I-wjxaC",
    "papermill": {
     "duration": null,
     "end_time": null,
     "exception": null,
     "start_time": null,
     "status": "pending"
    },
    "tags": []
   },
   "outputs": [],
   "source": [
    "def cosine_similarity(embedding1, embedding2):\n",
    "    sim = np.dot(embedding1, embedding2)/(np.linalg.norm(embedding1)*np.linalg.norm(embedding2))\n",
    "    return sim"
   ]
  },
  {
   "cell_type": "markdown",
   "id": "51a7f99f",
   "metadata": {
    "id": "9-UxM_mbkeZb",
    "papermill": {
     "duration": null,
     "end_time": null,
     "exception": null,
     "start_time": null,
     "status": "pending"
    },
    "tags": []
   },
   "source": [
    "### Most relevant SDGs for DAX companies"
   ]
  },
  {
   "cell_type": "markdown",
   "id": "33980ca1",
   "metadata": {
    "id": "eST_Xxp5koxB",
    "papermill": {
     "duration": null,
     "end_time": null,
     "exception": null,
     "start_time": null,
     "status": "pending"
    },
    "tags": []
   },
   "source": [
    "Let's first consider the overall relevance of the 17 SDGs for all DAX companies taken together. We first compute an embedding that averages over all company texts. Then, we compare this embedding with the embeddings of the SDGs.\n",
    "Instead of using a simple mean to combine company text embeddings, considered weighting the texts by their length or importance. This will give more relevant documents a greater influence on the resulting average embedding"
   ]
  },
  {
   "cell_type": "code",
   "execution_count": 12,
   "id": "5d8ce3b2",
   "metadata": {
    "execution": {
     "iopub.execute_input": "2024-04-30T22:28:00.936560Z",
     "iopub.status.busy": "2024-04-30T22:28:00.936204Z",
     "iopub.status.idle": "2024-04-30T22:28:00.955836Z",
     "shell.execute_reply": "2024-04-30T22:28:00.954754Z",
     "shell.execute_reply.started": "2024-04-30T22:28:00.936528Z"
    },
    "id": "E9Pqsc2qlAmN",
    "papermill": {
     "duration": null,
     "end_time": null,
     "exception": null,
     "start_time": null,
     "status": "pending"
    },
    "tags": []
   },
   "outputs": [
    {
     "name": "stdout",
     "output_type": "stream",
     "text": [
      "1.0\n"
     ]
    }
   ],
   "source": [
    "# Calculate the length of each document\n",
    "text_lengths = np.array([len(text) for text in esg_texts])\n",
    "# Normalize the lengths to sum to 1\n",
    "weights = text_lengths / text_lengths.sum()\n",
    "print(weights.sum())"
   ]
  },
  {
   "cell_type": "code",
   "execution_count": 13,
   "id": "d27693f2",
   "metadata": {
    "execution": {
     "iopub.execute_input": "2024-04-30T22:28:00.957606Z",
     "iopub.status.busy": "2024-04-30T22:28:00.957108Z",
     "iopub.status.idle": "2024-04-30T22:28:01.001885Z",
     "shell.execute_reply": "2024-04-30T22:28:01.000902Z",
     "shell.execute_reply.started": "2024-04-30T22:28:00.957575Z"
    },
    "papermill": {
     "duration": null,
     "end_time": null,
     "exception": null,
     "start_time": null,
     "status": "pending"
    },
    "tags": []
   },
   "outputs": [],
   "source": [
    "all_companies_embedding = np.average(company_text_embeddings, axis=0, weights=weights)"
   ]
  },
  {
   "cell_type": "code",
   "execution_count": 14,
   "id": "826339a0",
   "metadata": {
    "execution": {
     "iopub.execute_input": "2024-04-30T22:28:01.003564Z",
     "iopub.status.busy": "2024-04-30T22:28:01.003202Z",
     "iopub.status.idle": "2024-04-30T22:28:01.020155Z",
     "shell.execute_reply": "2024-04-30T22:28:01.019070Z",
     "shell.execute_reply.started": "2024-04-30T22:28:01.003533Z"
    },
    "id": "E-_hK2U6lEPm",
    "outputId": "1d73afa3-a74e-4ff7-8e86-3b8d9d9487ef",
    "papermill": {
     "duration": null,
     "end_time": null,
     "exception": null,
     "start_time": null,
     "status": "pending"
    },
    "tags": []
   },
   "outputs": [
    {
     "data": {
      "text/plain": [
       "name\n",
       "Gender Equality                           0.218582\n",
       "Peace, Justice and Strong Institutions    0.238494\n",
       "Life On Land                              0.259296\n",
       "Quality Education                         0.284037\n",
       "Zero Hunger                               0.314142\n",
       "dtype: float64"
      ]
     },
     "execution_count": 14,
     "metadata": {},
     "output_type": "execute_result"
    }
   ],
   "source": [
    "sdg_relevance_scores = [cosine_similarity(all_companies_embedding, sdg_embedding) for sdg_embedding in sdg_embeddings]\n",
    "sdg_relevance_series = pd.Series(sdg_relevance_scores, index=sdg_df[\"name\"])\n",
    "sdg_relevance_series.sort_values(inplace=True)\n",
    "sdg_relevance_series.head()"
   ]
  },
  {
   "cell_type": "markdown",
   "id": "7b059074",
   "metadata": {
    "papermill": {
     "duration": null,
     "end_time": null,
     "exception": null,
     "start_time": null,
     "status": "pending"
    },
    "tags": []
   },
   "source": [
    "cosine similarity scores highlight which SDGs are most discussed in company reports, reflecting alignment with SDG language rather than actual efforts or impact. Lower scores for SDGs like Gender Equality suggest underrepresentation in communications, meriting further investigation into potential neglect or underreporting. Conversely, higher scores for SDGs like Zero Hunger indicate a stronger emphasis in companies' sustainability strategies and reporting."
   ]
  },
  {
   "cell_type": "code",
   "execution_count": 15,
   "id": "9025f422",
   "metadata": {
    "execution": {
     "iopub.execute_input": "2024-04-30T22:28:01.025805Z",
     "iopub.status.busy": "2024-04-30T22:28:01.025501Z",
     "iopub.status.idle": "2024-04-30T22:28:01.426836Z",
     "shell.execute_reply": "2024-04-30T22:28:01.425741Z",
     "shell.execute_reply.started": "2024-04-30T22:28:01.025781Z"
    },
    "id": "JUxFAwDJlR7j",
    "outputId": "cb77dbc2-b264-4bfa-ef61-59c2530ec7b2",
    "papermill": {
     "duration": null,
     "end_time": null,
     "exception": null,
     "start_time": null,
     "status": "pending"
    },
    "tags": []
   },
   "outputs": [
    {
     "data": {
      "application/vnd.plotly.v1+json": {
       "config": {
        "plotlyServerURL": "https://plot.ly"
       },
       "data": [
        {
         "orientation": "h",
         "type": "bar",
         "x": {
          "bdata": "JxgySHz6yz8bGQgb9obOPzZS+BRPmNA/7KMbx6kt0j9p+C7U6BrUP39SAyYPKNY/rEtYa5BU1j/oBdxQ0arWP8wYerNQONc/bt9f4ed92D/WqAK2cKfYP0EMxYCC89g//6r40FIo2T9M/BFM3vLZP/GZdZbm5No/w/oKIpw32z9CmjEKxp3cPw==",
          "dtype": "f8"
         },
         "y": [
          "Gender Equality ",
          "Peace, Justice and Strong Institutions ",
          "Life On Land ",
          "Quality Education ",
          "Zero Hunger ",
          "Climate Action ",
          "Decent Work and Economic Growth ",
          "Sustainable Cities and Communities ",
          "No Poverty ",
          "Partnerships for the Goals ",
          "Good Health and Well-being ",
          "Clean Water and Sanitation ",
          "Life Below Water ",
          "Reduced Inequalities ",
          "Responsible Consumption and Production ",
          "Industry, Innovation and Infrastructure ",
          "Affordable and Clean Energy "
         ]
        }
       ],
       "layout": {
        "height": 600,
        "template": {
         "data": {
          "bar": [
           {
            "error_x": {
             "color": "#2a3f5f"
            },
            "error_y": {
             "color": "#2a3f5f"
            },
            "marker": {
             "line": {
              "color": "#E5ECF6",
              "width": 0.5
             },
             "pattern": {
              "fillmode": "overlay",
              "size": 10,
              "solidity": 0.2
             }
            },
            "type": "bar"
           }
          ],
          "barpolar": [
           {
            "marker": {
             "line": {
              "color": "#E5ECF6",
              "width": 0.5
             },
             "pattern": {
              "fillmode": "overlay",
              "size": 10,
              "solidity": 0.2
             }
            },
            "type": "barpolar"
           }
          ],
          "carpet": [
           {
            "aaxis": {
             "endlinecolor": "#2a3f5f",
             "gridcolor": "white",
             "linecolor": "white",
             "minorgridcolor": "white",
             "startlinecolor": "#2a3f5f"
            },
            "baxis": {
             "endlinecolor": "#2a3f5f",
             "gridcolor": "white",
             "linecolor": "white",
             "minorgridcolor": "white",
             "startlinecolor": "#2a3f5f"
            },
            "type": "carpet"
           }
          ],
          "choropleth": [
           {
            "colorbar": {
             "outlinewidth": 0,
             "ticks": ""
            },
            "type": "choropleth"
           }
          ],
          "contour": [
           {
            "colorbar": {
             "outlinewidth": 0,
             "ticks": ""
            },
            "colorscale": [
             [
              0,
              "#0d0887"
             ],
             [
              0.1111111111111111,
              "#46039f"
             ],
             [
              0.2222222222222222,
              "#7201a8"
             ],
             [
              0.3333333333333333,
              "#9c179e"
             ],
             [
              0.4444444444444444,
              "#bd3786"
             ],
             [
              0.5555555555555556,
              "#d8576b"
             ],
             [
              0.6666666666666666,
              "#ed7953"
             ],
             [
              0.7777777777777778,
              "#fb9f3a"
             ],
             [
              0.8888888888888888,
              "#fdca26"
             ],
             [
              1,
              "#f0f921"
             ]
            ],
            "type": "contour"
           }
          ],
          "contourcarpet": [
           {
            "colorbar": {
             "outlinewidth": 0,
             "ticks": ""
            },
            "type": "contourcarpet"
           }
          ],
          "heatmap": [
           {
            "colorbar": {
             "outlinewidth": 0,
             "ticks": ""
            },
            "colorscale": [
             [
              0,
              "#0d0887"
             ],
             [
              0.1111111111111111,
              "#46039f"
             ],
             [
              0.2222222222222222,
              "#7201a8"
             ],
             [
              0.3333333333333333,
              "#9c179e"
             ],
             [
              0.4444444444444444,
              "#bd3786"
             ],
             [
              0.5555555555555556,
              "#d8576b"
             ],
             [
              0.6666666666666666,
              "#ed7953"
             ],
             [
              0.7777777777777778,
              "#fb9f3a"
             ],
             [
              0.8888888888888888,
              "#fdca26"
             ],
             [
              1,
              "#f0f921"
             ]
            ],
            "type": "heatmap"
           }
          ],
          "histogram": [
           {
            "marker": {
             "pattern": {
              "fillmode": "overlay",
              "size": 10,
              "solidity": 0.2
             }
            },
            "type": "histogram"
           }
          ],
          "histogram2d": [
           {
            "colorbar": {
             "outlinewidth": 0,
             "ticks": ""
            },
            "colorscale": [
             [
              0,
              "#0d0887"
             ],
             [
              0.1111111111111111,
              "#46039f"
             ],
             [
              0.2222222222222222,
              "#7201a8"
             ],
             [
              0.3333333333333333,
              "#9c179e"
             ],
             [
              0.4444444444444444,
              "#bd3786"
             ],
             [
              0.5555555555555556,
              "#d8576b"
             ],
             [
              0.6666666666666666,
              "#ed7953"
             ],
             [
              0.7777777777777778,
              "#fb9f3a"
             ],
             [
              0.8888888888888888,
              "#fdca26"
             ],
             [
              1,
              "#f0f921"
             ]
            ],
            "type": "histogram2d"
           }
          ],
          "histogram2dcontour": [
           {
            "colorbar": {
             "outlinewidth": 0,
             "ticks": ""
            },
            "colorscale": [
             [
              0,
              "#0d0887"
             ],
             [
              0.1111111111111111,
              "#46039f"
             ],
             [
              0.2222222222222222,
              "#7201a8"
             ],
             [
              0.3333333333333333,
              "#9c179e"
             ],
             [
              0.4444444444444444,
              "#bd3786"
             ],
             [
              0.5555555555555556,
              "#d8576b"
             ],
             [
              0.6666666666666666,
              "#ed7953"
             ],
             [
              0.7777777777777778,
              "#fb9f3a"
             ],
             [
              0.8888888888888888,
              "#fdca26"
             ],
             [
              1,
              "#f0f921"
             ]
            ],
            "type": "histogram2dcontour"
           }
          ],
          "mesh3d": [
           {
            "colorbar": {
             "outlinewidth": 0,
             "ticks": ""
            },
            "type": "mesh3d"
           }
          ],
          "parcoords": [
           {
            "line": {
             "colorbar": {
              "outlinewidth": 0,
              "ticks": ""
             }
            },
            "type": "parcoords"
           }
          ],
          "pie": [
           {
            "automargin": true,
            "type": "pie"
           }
          ],
          "scatter": [
           {
            "fillpattern": {
             "fillmode": "overlay",
             "size": 10,
             "solidity": 0.2
            },
            "type": "scatter"
           }
          ],
          "scatter3d": [
           {
            "line": {
             "colorbar": {
              "outlinewidth": 0,
              "ticks": ""
             }
            },
            "marker": {
             "colorbar": {
              "outlinewidth": 0,
              "ticks": ""
             }
            },
            "type": "scatter3d"
           }
          ],
          "scattercarpet": [
           {
            "marker": {
             "colorbar": {
              "outlinewidth": 0,
              "ticks": ""
             }
            },
            "type": "scattercarpet"
           }
          ],
          "scattergeo": [
           {
            "marker": {
             "colorbar": {
              "outlinewidth": 0,
              "ticks": ""
             }
            },
            "type": "scattergeo"
           }
          ],
          "scattergl": [
           {
            "marker": {
             "colorbar": {
              "outlinewidth": 0,
              "ticks": ""
             }
            },
            "type": "scattergl"
           }
          ],
          "scattermap": [
           {
            "marker": {
             "colorbar": {
              "outlinewidth": 0,
              "ticks": ""
             }
            },
            "type": "scattermap"
           }
          ],
          "scattermapbox": [
           {
            "marker": {
             "colorbar": {
              "outlinewidth": 0,
              "ticks": ""
             }
            },
            "type": "scattermapbox"
           }
          ],
          "scatterpolar": [
           {
            "marker": {
             "colorbar": {
              "outlinewidth": 0,
              "ticks": ""
             }
            },
            "type": "scatterpolar"
           }
          ],
          "scatterpolargl": [
           {
            "marker": {
             "colorbar": {
              "outlinewidth": 0,
              "ticks": ""
             }
            },
            "type": "scatterpolargl"
           }
          ],
          "scatterternary": [
           {
            "marker": {
             "colorbar": {
              "outlinewidth": 0,
              "ticks": ""
             }
            },
            "type": "scatterternary"
           }
          ],
          "surface": [
           {
            "colorbar": {
             "outlinewidth": 0,
             "ticks": ""
            },
            "colorscale": [
             [
              0,
              "#0d0887"
             ],
             [
              0.1111111111111111,
              "#46039f"
             ],
             [
              0.2222222222222222,
              "#7201a8"
             ],
             [
              0.3333333333333333,
              "#9c179e"
             ],
             [
              0.4444444444444444,
              "#bd3786"
             ],
             [
              0.5555555555555556,
              "#d8576b"
             ],
             [
              0.6666666666666666,
              "#ed7953"
             ],
             [
              0.7777777777777778,
              "#fb9f3a"
             ],
             [
              0.8888888888888888,
              "#fdca26"
             ],
             [
              1,
              "#f0f921"
             ]
            ],
            "type": "surface"
           }
          ],
          "table": [
           {
            "cells": {
             "fill": {
              "color": "#EBF0F8"
             },
             "line": {
              "color": "white"
             }
            },
            "header": {
             "fill": {
              "color": "#C8D4E3"
             },
             "line": {
              "color": "white"
             }
            },
            "type": "table"
           }
          ]
         },
         "layout": {
          "annotationdefaults": {
           "arrowcolor": "#2a3f5f",
           "arrowhead": 0,
           "arrowwidth": 1
          },
          "autotypenumbers": "strict",
          "coloraxis": {
           "colorbar": {
            "outlinewidth": 0,
            "ticks": ""
           }
          },
          "colorscale": {
           "diverging": [
            [
             0,
             "#8e0152"
            ],
            [
             0.1,
             "#c51b7d"
            ],
            [
             0.2,
             "#de77ae"
            ],
            [
             0.3,
             "#f1b6da"
            ],
            [
             0.4,
             "#fde0ef"
            ],
            [
             0.5,
             "#f7f7f7"
            ],
            [
             0.6,
             "#e6f5d0"
            ],
            [
             0.7,
             "#b8e186"
            ],
            [
             0.8,
             "#7fbc41"
            ],
            [
             0.9,
             "#4d9221"
            ],
            [
             1,
             "#276419"
            ]
           ],
           "sequential": [
            [
             0,
             "#0d0887"
            ],
            [
             0.1111111111111111,
             "#46039f"
            ],
            [
             0.2222222222222222,
             "#7201a8"
            ],
            [
             0.3333333333333333,
             "#9c179e"
            ],
            [
             0.4444444444444444,
             "#bd3786"
            ],
            [
             0.5555555555555556,
             "#d8576b"
            ],
            [
             0.6666666666666666,
             "#ed7953"
            ],
            [
             0.7777777777777778,
             "#fb9f3a"
            ],
            [
             0.8888888888888888,
             "#fdca26"
            ],
            [
             1,
             "#f0f921"
            ]
           ],
           "sequentialminus": [
            [
             0,
             "#0d0887"
            ],
            [
             0.1111111111111111,
             "#46039f"
            ],
            [
             0.2222222222222222,
             "#7201a8"
            ],
            [
             0.3333333333333333,
             "#9c179e"
            ],
            [
             0.4444444444444444,
             "#bd3786"
            ],
            [
             0.5555555555555556,
             "#d8576b"
            ],
            [
             0.6666666666666666,
             "#ed7953"
            ],
            [
             0.7777777777777778,
             "#fb9f3a"
            ],
            [
             0.8888888888888888,
             "#fdca26"
            ],
            [
             1,
             "#f0f921"
            ]
           ]
          },
          "colorway": [
           "#636efa",
           "#EF553B",
           "#00cc96",
           "#ab63fa",
           "#FFA15A",
           "#19d3f3",
           "#FF6692",
           "#B6E880",
           "#FF97FF",
           "#FECB52"
          ],
          "font": {
           "color": "#2a3f5f"
          },
          "geo": {
           "bgcolor": "white",
           "lakecolor": "white",
           "landcolor": "#E5ECF6",
           "showlakes": true,
           "showland": true,
           "subunitcolor": "white"
          },
          "hoverlabel": {
           "align": "left"
          },
          "hovermode": "closest",
          "mapbox": {
           "style": "light"
          },
          "paper_bgcolor": "white",
          "plot_bgcolor": "#E5ECF6",
          "polar": {
           "angularaxis": {
            "gridcolor": "white",
            "linecolor": "white",
            "ticks": ""
           },
           "bgcolor": "#E5ECF6",
           "radialaxis": {
            "gridcolor": "white",
            "linecolor": "white",
            "ticks": ""
           }
          },
          "scene": {
           "xaxis": {
            "backgroundcolor": "#E5ECF6",
            "gridcolor": "white",
            "gridwidth": 2,
            "linecolor": "white",
            "showbackground": true,
            "ticks": "",
            "zerolinecolor": "white"
           },
           "yaxis": {
            "backgroundcolor": "#E5ECF6",
            "gridcolor": "white",
            "gridwidth": 2,
            "linecolor": "white",
            "showbackground": true,
            "ticks": "",
            "zerolinecolor": "white"
           },
           "zaxis": {
            "backgroundcolor": "#E5ECF6",
            "gridcolor": "white",
            "gridwidth": 2,
            "linecolor": "white",
            "showbackground": true,
            "ticks": "",
            "zerolinecolor": "white"
           }
          },
          "shapedefaults": {
           "line": {
            "color": "#2a3f5f"
           }
          },
          "ternary": {
           "aaxis": {
            "gridcolor": "white",
            "linecolor": "white",
            "ticks": ""
           },
           "baxis": {
            "gridcolor": "white",
            "linecolor": "white",
            "ticks": ""
           },
           "bgcolor": "#E5ECF6",
           "caxis": {
            "gridcolor": "white",
            "linecolor": "white",
            "ticks": ""
           }
          },
          "title": {
           "x": 0.05
          },
          "xaxis": {
           "automargin": true,
           "gridcolor": "white",
           "linecolor": "white",
           "ticks": "",
           "title": {
            "standoff": 15
           },
           "zerolinecolor": "white",
           "zerolinewidth": 2
          },
          "yaxis": {
           "automargin": true,
           "gridcolor": "white",
           "linecolor": "white",
           "ticks": "",
           "title": {
            "standoff": 15
           },
           "zerolinecolor": "white",
           "zerolinewidth": 2
          }
         }
        },
        "title": {
         "text": "SDG relevance for DAX index"
        },
        "width": 750,
        "xaxis": {
         "title": {
          "text": "Relevance"
         }
        }
       }
      }
     },
     "metadata": {},
     "output_type": "display_data"
    }
   ],
   "source": [
    "fig = go.Figure(data=[go.Bar(x=sdg_relevance_series, y=[sdg+\" \" for sdg in sdg_relevance_series.index], orientation='h')])\n",
    "# Change the bar mode\n",
    "fig.update_layout(height=600, width=750, title=\"SDG relevance for DAX index\")\n",
    "fig.update_xaxes(title=\"Relevance\")\n",
    "fig.show()"
   ]
  },
  {
   "cell_type": "markdown",
   "id": "c916e46f",
   "metadata": {
    "papermill": {
     "duration": null,
     "end_time": null,
     "exception": null,
     "start_time": null,
     "status": "pending"
    },
    "tags": []
   },
   "source": [
    "# Clustering"
   ]
  },
  {
   "cell_type": "code",
   "execution_count": 16,
   "id": "c7f2bd2f",
   "metadata": {
    "execution": {
     "iopub.execute_input": "2024-04-30T22:28:01.428552Z",
     "iopub.status.busy": "2024-04-30T22:28:01.428153Z",
     "iopub.status.idle": "2024-04-30T22:28:08.797681Z",
     "shell.execute_reply": "2024-04-30T22:28:08.796705Z",
     "shell.execute_reply.started": "2024-04-30T22:28:01.428518Z"
    },
    "papermill": {
     "duration": null,
     "end_time": null,
     "exception": null,
     "start_time": null,
     "status": "pending"
    },
    "tags": []
   },
   "outputs": [
    {
     "name": "stdout",
     "output_type": "stream",
     "text": [
      "Cluster 0:\n",
      "['Daimler AG' 'Zalando SE' 'Zalando SE' ... 'Zalando SE' 'Zalando SE'\n",
      " 'Zalando SE']\n",
      "\n",
      "Cluster 1:\n",
      "['Daimler AG' 'Volkswagen AG' 'Porsche' ... 'Vonovia' 'Zalando SE'\n",
      " 'Zalando SE']\n",
      "\n",
      "Cluster 2:\n",
      "['Beiersdorf AG' 'Deutsche Telekom AG' 'Vonovia SE' ... 'Zalando SE'\n",
      " 'Zalando SE' 'Zalando SE']\n",
      "\n",
      "Cluster 3:\n",
      "['Qiagen' 'Bayer AG' 'Fresenius' ... 'Vonovia' 'Zalando SE' 'Zalando SE']\n",
      "\n",
      "Cluster 4:\n",
      "['Heidelberg Cement AG' 'Linde' 'Fresenius' ... 'Zalando SE' 'Zalando SE'\n",
      " 'Zalando SE']\n",
      "\n"
     ]
    }
   ],
   "source": [
    "from sklearn.cluster import KMeans\n",
    "import numpy as np\n",
    "\n",
    "# Assuming company_text_embeddings is a 2D numpy array of embeddings\n",
    "# Decide on the number of clusters you want to form\n",
    "n_clusters = 5  # for example, though this number should be chosen based on your data\n",
    "\n",
    "# Initialize the KMeans clustering algorithm\n",
    "kmeans = KMeans(n_clusters=n_clusters, random_state=42)\n",
    "\n",
    "# Fit the model on your embeddings to perform the clustering\n",
    "kmeans.fit(company_text_embeddings)\n",
    "\n",
    "# Get the cluster labels for each company\n",
    "cluster_labels = kmeans.labels_\n",
    "\n",
    "# Optionally, attach the cluster labels to your original dataframe for analysis\n",
    "esg_documents_df['Cluster'] = cluster_labels\n",
    "\n",
    "# To analyze the clusters, you might want to look at the companies in each cluster\n",
    "for i in range(n_clusters):\n",
    "    print(f\"Cluster {i}:\")\n",
    "    print(esg_documents_df[esg_documents_df['Cluster'] == i]['company'].values)\n",
    "    print()\n",
    "\n",
    "# If you want to see the centroids of each cluster which are the average of the embeddings in the cluster:\n",
    "centroids = kmeans.cluster_centers_\n"
   ]
  },
  {
   "cell_type": "code",
   "execution_count": 17,
   "id": "93e9e8dd",
   "metadata": {
    "execution": {
     "iopub.execute_input": "2024-04-30T22:28:08.799982Z",
     "iopub.status.busy": "2024-04-30T22:28:08.799521Z",
     "iopub.status.idle": "2024-04-30T22:28:14.218333Z",
     "shell.execute_reply": "2024-04-30T22:28:14.217307Z",
     "shell.execute_reply.started": "2024-04-30T22:28:08.799931Z"
    },
    "papermill": {
     "duration": null,
     "end_time": null,
     "exception": null,
     "start_time": null,
     "status": "pending"
    },
    "tags": []
   },
   "outputs": [],
   "source": [
    "esg_documents_df.to_csv('esg_documents_with_clusters.xlsx', index=False)"
   ]
  },
  {
   "cell_type": "code",
   "execution_count": 18,
   "id": "69ffba4b",
   "metadata": {
    "execution": {
     "iopub.execute_input": "2024-04-30T22:28:14.220712Z",
     "iopub.status.busy": "2024-04-30T22:28:14.219852Z",
     "iopub.status.idle": "2024-04-30T22:28:14.252351Z",
     "shell.execute_reply": "2024-04-30T22:28:14.251640Z",
     "shell.execute_reply.started": "2024-04-30T22:28:14.220674Z"
    },
    "papermill": {
     "duration": null,
     "end_time": null,
     "exception": null,
     "start_time": null,
     "status": "pending"
    },
    "tags": []
   },
   "outputs": [],
   "source": [
    "import pandas as pd\n",
    "\n",
    "# Assuming esg_documents_df has a 'Cluster' column with the cluster labels\n",
    "cluster_membership_table = esg_documents_df[['company', 'Cluster']].copy()\n",
    "cluster_membership_table.sort_values('Cluster', inplace=True)\n",
    "\n",
    "# Save the table to a CSV file for easy sharing and viewing\n",
    "cluster_membership_table.to_csv('cluster_membership_table.csv', index=False)"
   ]
  },
  {
   "cell_type": "code",
   "execution_count": 20,
   "id": "130bc217",
   "metadata": {
    "execution": {
     "iopub.execute_input": "2024-04-30T22:28:14.253989Z",
     "iopub.status.busy": "2024-04-30T22:28:14.253588Z",
     "iopub.status.idle": "2024-04-30T22:28:14.579724Z",
     "shell.execute_reply": "2024-04-30T22:28:14.578545Z",
     "shell.execute_reply.started": "2024-04-30T22:28:14.253957Z"
    },
    "papermill": {
     "duration": null,
     "end_time": null,
     "exception": null,
     "start_time": null,
     "status": "pending"
    },
    "tags": []
   },
   "outputs": [
    {
     "data": {
      "image/png": "[encoded data removed]",
      "text/plain": [
       "<Figure size 500x300 with 1 Axes>"
      ]
     },
     "metadata": {},
     "output_type": "display_data"
    }
   ],
   "source": [
    "import matplotlib.pyplot as plt\n",
    "\n",
    "# Count the number of companies in each cluster\n",
    "cluster_counts = esg_documents_df['Cluster'].value_counts()\n",
    "\n",
    "# Create a bar plot\n",
    "plt.figure(figsize=(5, 3))\n",
    "cluster_counts.plot(kind='bar')\n",
    "plt.title('Number of Companies in Each Cluster')\n",
    "plt.xlabel('Cluster')\n",
    "plt.ylabel('Count')\n",
    "plt.xticks(rotation=0)  # Keep the x labels readable\n",
    "plt.tight_layout()\n",
    "plt.savefig('cluster_sizes_bar_plot.png')\n",
    "plt.show()"
   ]
  },
  {
   "cell_type": "code",
   "execution_count": 21,
   "id": "8d59c5a4",
   "metadata": {
    "execution": {
     "iopub.execute_input": "2024-04-30T22:30:14.010207Z",
     "iopub.status.busy": "2024-04-30T22:30:14.009257Z",
     "iopub.status.idle": "2024-04-30T22:30:35.223277Z",
     "shell.execute_reply": "2024-04-30T22:30:35.222188Z",
     "shell.execute_reply.started": "2024-04-30T22:30:14.010155Z"
    },
    "papermill": {
     "duration": null,
     "end_time": null,
     "exception": null,
     "start_time": null,
     "status": "pending"
    },
    "tags": []
   },
   "outputs": [
    {
     "name": "stdout",
     "output_type": "stream",
     "text": [
      "Cluster 0:\n",
      "market: 6820\n",
      "new: 6247\n",
      "said: 6014\n",
      "scholar: 5625\n",
      "google: 5004\n",
      "time: 4553\n",
      "pubmed: 4463\n",
      "et: 4307\n",
      "10: 4166\n",
      "company: 4098\n",
      "\n",
      "\n",
      "Cluster 1:\n",
      "group: 11602\n",
      "porsche: 7156\n",
      "bmw: 6410\n",
      "year: 6197\n",
      "management: 6027\n",
      "new: 5899\n",
      "2021: 5637\n",
      "market: 5632\n",
      "financial: 5563\n",
      "electric: 5198\n",
      "\n",
      "\n",
      "Cluster 2:\n",
      "energy: 14944\n",
      "sustainability: 11133\n",
      "management: 10714\n",
      "2021: 9605\n",
      "business: 9284\n",
      "report: 8790\n",
      "company: 8486\n",
      "year: 8337\n",
      "employees: 8318\n",
      "2020: 8271\n",
      "\n",
      "\n",
      "Cluster 3:\n",
      "scholar: 12185\n",
      "google: 10714\n",
      "patients: 10063\n",
      "market: 9453\n",
      "data: 9435\n",
      "al: 9360\n",
      "pubmed: 9172\n",
      "et: 9006\n",
      "19: 8967\n",
      "health: 8391\n",
      "\n",
      "\n",
      "Cluster 4:\n",
      "financial: 26677\n",
      "2021: 25439\n",
      "year: 21929\n",
      "company: 21293\n",
      "management: 21185\n",
      "report: 20804\n",
      "board: 20102\n",
      "market: 19996\n",
      "group: 19984\n",
      "2020: 19729\n",
      "\n",
      "\n"
     ]
    }
   ],
   "source": [
    "from sklearn.feature_extraction.text import ENGLISH_STOP_WORDS\n",
    "from sklearn.feature_extraction.text import CountVectorizer\n",
    "\n",
    "# Updated function to display common words for each cluster, excluding stop words\n",
    "def display_common_words(df, cluster_col='Cluster', text_col='content', n_words=10):\n",
    "    cluster_common_words = {}\n",
    "    for cluster in sorted(df[cluster_col].unique()):\n",
    "        # Combine all the text data for each cluster\n",
    "        text_data = df[df[cluster_col] == cluster][text_col].str.cat(sep=' ')\n",
    "        # Use CountVectorizer to count word frequencies, excluding stop words\n",
    "        vectorizer = CountVectorizer(stop_words='english')\n",
    "        word_count = vectorizer.fit_transform([text_data])\n",
    "        # Sum up the word counts and get the word names\n",
    "        words_freq = word_count.toarray().sum(axis=0)\n",
    "        words = vectorizer.get_feature_names_out()\n",
    "        # Combine counts and words, sort by count, and get the most common\n",
    "        freq_dist = zip(words, words_freq)\n",
    "        most_common_words = sorted(freq_dist, key=lambda x: x[1], reverse=True)[:n_words]\n",
    "        # Store and print the most common words\n",
    "        cluster_common_words[cluster] = most_common_words\n",
    "        print(f\"Cluster {cluster}:\")\n",
    "        for word, freq in most_common_words:\n",
    "            print(f\"{word}: {freq}\")\n",
    "        print(\"\\n\")\n",
    "    return cluster_common_words\n",
    "\n",
    "# Call the function with the dataframe\n",
    "common_words_by_cluster = display_common_words(esg_documents_df, 'Cluster', 'content')"
   ]
  },
  {
   "cell_type": "markdown",
   "id": "561bc027",
   "metadata": {
    "id": "4OvS81uJlfXK",
    "papermill": {
     "duration": null,
     "end_time": null,
     "exception": null,
     "start_time": null,
     "status": "pending"
    },
    "tags": []
   },
   "source": [
    "### Most relevant SDGs for a specific company, contrasting internal and external data"
   ]
  },
  {
   "cell_type": "markdown",
   "id": "f3799ffe",
   "metadata": {
    "id": "69Oe3uMIuHiY",
    "papermill": {
     "duration": null,
     "end_time": null,
     "exception": null,
     "start_time": null,
     "status": "pending"
    },
    "tags": []
   },
   "source": [
    "In this analysis, we focus on a specific company which is defined using the COMPANY variable. We look up the \"internal\" and \"external\" embeddings for this company, average them and measure their similarity with each of the SDGs."
   ]
  },
  {
   "cell_type": "code",
   "execution_count": 22,
   "id": "03bfb597",
   "metadata": {
    "execution": {
     "iopub.execute_input": "2024-04-30T22:30:39.927445Z",
     "iopub.status.busy": "2024-04-30T22:30:39.926775Z",
     "iopub.status.idle": "2024-04-30T22:30:39.953848Z",
     "shell.execute_reply": "2024-04-30T22:30:39.952765Z",
     "shell.execute_reply.started": "2024-04-30T22:30:39.927413Z"
    },
    "id": "2NhuxJT7leDu",
    "outputId": "873295bb-93ef-4d25-d483-ac1d28cf9fdb",
    "papermill": {
     "duration": null,
     "end_time": null,
     "exception": null,
     "start_time": null,
     "status": "pending"
    },
    "tags": []
   },
   "outputs": [
    {
     "data": {
      "text/html": [
       "<div>\n",
       "<style scoped>\n",
       "    .dataframe tbody tr th:only-of-type {\n",
       "        vertical-align: middle;\n",
       "    }\n",
       "\n",
       "    .dataframe tbody tr th {\n",
       "        vertical-align: top;\n",
       "    }\n",
       "\n",
       "    .dataframe thead th {\n",
       "        text-align: right;\n",
       "    }\n",
       "</style>\n",
       "<table border=\"1\" class=\"dataframe\">\n",
       "  <thead>\n",
       "    <tr style=\"text-align: right;\">\n",
       "      <th></th>\n",
       "      <th>internal</th>\n",
       "      <th>external</th>\n",
       "    </tr>\n",
       "    <tr>\n",
       "      <th>name</th>\n",
       "      <th></th>\n",
       "      <th></th>\n",
       "    </tr>\n",
       "  </thead>\n",
       "  <tbody>\n",
       "    <tr>\n",
       "      <th>Gender Equality</th>\n",
       "      <td>0.107339</td>\n",
       "      <td>0.093954</td>\n",
       "    </tr>\n",
       "    <tr>\n",
       "      <th>Peace, Justice and Strong Institutions</th>\n",
       "      <td>0.135041</td>\n",
       "      <td>0.130411</td>\n",
       "    </tr>\n",
       "    <tr>\n",
       "      <th>Good Health and Well-being</th>\n",
       "      <td>0.153959</td>\n",
       "      <td>0.203413</td>\n",
       "    </tr>\n",
       "    <tr>\n",
       "      <th>Zero Hunger</th>\n",
       "      <td>0.155495</td>\n",
       "      <td>0.193237</td>\n",
       "    </tr>\n",
       "    <tr>\n",
       "      <th>Climate Action</th>\n",
       "      <td>0.160574</td>\n",
       "      <td>0.240062</td>\n",
       "    </tr>\n",
       "  </tbody>\n",
       "</table>\n",
       "</div>"
      ],
      "text/plain": [
       "                                        internal  external\n",
       "name                                                      \n",
       "Gender Equality                         0.107339  0.093954\n",
       "Peace, Justice and Strong Institutions  0.135041  0.130411\n",
       "Good Health and Well-being              0.153959  0.203413\n",
       "Zero Hunger                             0.155495  0.193237\n",
       "Climate Action                          0.160574  0.240062"
      ]
     },
     "execution_count": 22,
     "metadata": {},
     "output_type": "execute_result"
    }
   ],
   "source": [
    "COMPANY = \"Brenntag\"\n",
    "\n",
    "internal_company_indices = esg_documents_df[(esg_documents_df.company == COMPANY) & (esg_documents_df.internal == 1)].index\n",
    "internal_company_embedding = np.mean(company_text_embeddings[internal_company_indices], axis=0)\n",
    "\n",
    "external_company_indices = esg_documents_df[(esg_documents_df.company == COMPANY) & (esg_documents_df.internal == 0)].index\n",
    "external_company_embedding = np.mean(company_text_embeddings[external_company_indices], axis=0)\n",
    "\n",
    "company_sdg_relevance_scores = [[cosine_similarity(internal_company_embedding, sdg_embedding),\n",
    "                                 cosine_similarity(external_company_embedding, sdg_embedding)] for sdg_embedding in sdg_embeddings]\n",
    "company_sdg_relevance_df = pd.DataFrame.from_records(company_sdg_relevance_scores, index=sdg_df[\"name\"], columns=[\"internal\", \"external\"])\n",
    "company_sdg_relevance_df.sort_values(\"internal\", inplace=True)\n",
    "company_sdg_relevance_df.head()"
   ]
  },
  {
   "cell_type": "code",
   "execution_count": 23,
   "id": "dfa2f3cf",
   "metadata": {
    "execution": {
     "iopub.execute_input": "2024-04-30T22:30:41.881410Z",
     "iopub.status.busy": "2024-04-30T22:30:41.880632Z",
     "iopub.status.idle": "2024-04-30T22:30:41.900352Z",
     "shell.execute_reply": "2024-04-30T22:30:41.899490Z",
     "shell.execute_reply.started": "2024-04-30T22:30:41.881378Z"
    },
    "id": "YC32lW1elzjq",
    "outputId": "a82b1c31-fd53-4753-cff4-ac89f2b27e1a",
    "papermill": {
     "duration": null,
     "end_time": null,
     "exception": null,
     "start_time": null,
     "status": "pending"
    },
    "tags": []
   },
   "outputs": [
    {
     "data": {
      "application/vnd.plotly.v1+json": {
       "config": {
        "plotlyServerURL": "https://plot.ly"
       },
       "data": [
        {
         "name": "Internal",
         "orientation": "h",
         "type": "bar",
         "x": {
          "bdata": "gNTbPUlICj5lpx0+9TkfPpNtJD7CKSw+uNI1PrQrNz6pdT0+gsZGPlkdXj6PqV8+FYeEPrYMij4bRpo+qXOpPldzrD4=",
          "dtype": "f4"
         },
         "y": [
          "Gender Equality",
          "Peace, Justice and Strong Institutions",
          "Good Health and Well-being",
          "Zero Hunger",
          "Climate Action",
          "Quality Education",
          "Life On Land",
          "No Poverty",
          "Partnerships for the Goals",
          "Reduced Inequalities",
          "Sustainable Cities and Communities",
          "Decent Work and Economic Growth",
          "Clean Water and Sanitation",
          "Life Below Water",
          "Responsible Consumption and Production",
          "Industry, Innovation and Infrastructure",
          "Affordable and Clean Energy"
         ]
        },
        {
         "name": "External",
         "orientation": "h",
         "type": "bar",
         "x": {
          "bdata": "1mrAPYOKBT51S1A+DOBFPtLSdT7h/S8+pXI0PjrLYj7cqGg+luB6PmGKKD6+fG8+upmKPgBomz7pI4o+t8CxPqRYqz4=",
          "dtype": "f4"
         },
         "y": [
          "Gender Equality",
          "Peace, Justice and Strong Institutions",
          "Good Health and Well-being",
          "Zero Hunger",
          "Climate Action",
          "Quality Education",
          "Life On Land",
          "No Poverty",
          "Partnerships for the Goals",
          "Reduced Inequalities",
          "Sustainable Cities and Communities",
          "Decent Work and Economic Growth",
          "Clean Water and Sanitation",
          "Life Below Water",
          "Responsible Consumption and Production",
          "Industry, Innovation and Infrastructure",
          "Affordable and Clean Energy"
         ]
        }
       ],
       "layout": {
        "barmode": "group",
        "height": 600,
        "template": {
         "data": {
          "bar": [
           {
            "error_x": {
             "color": "#2a3f5f"
            },
            "error_y": {
             "color": "#2a3f5f"
            },
            "marker": {
             "line": {
              "color": "#E5ECF6",
              "width": 0.5
             },
             "pattern": {
              "fillmode": "overlay",
              "size": 10,
              "solidity": 0.2
             }
            },
            "type": "bar"
           }
          ],
          "barpolar": [
           {
            "marker": {
             "line": {
              "color": "#E5ECF6",
              "width": 0.5
             },
             "pattern": {
              "fillmode": "overlay",
              "size": 10,
              "solidity": 0.2
             }
            },
            "type": "barpolar"
           }
          ],
          "carpet": [
           {
            "aaxis": {
             "endlinecolor": "#2a3f5f",
             "gridcolor": "white",
             "linecolor": "white",
             "minorgridcolor": "white",
             "startlinecolor": "#2a3f5f"
            },
            "baxis": {
             "endlinecolor": "#2a3f5f",
             "gridcolor": "white",
             "linecolor": "white",
             "minorgridcolor": "white",
             "startlinecolor": "#2a3f5f"
            },
            "type": "carpet"
           }
          ],
          "choropleth": [
           {
            "colorbar": {
             "outlinewidth": 0,
             "ticks": ""
            },
            "type": "choropleth"
           }
          ],
          "contour": [
           {
            "colorbar": {
             "outlinewidth": 0,
             "ticks": ""
            },
            "colorscale": [
             [
              0,
              "#0d0887"
             ],
             [
              0.1111111111111111,
              "#46039f"
             ],
             [
              0.2222222222222222,
              "#7201a8"
             ],
             [
              0.3333333333333333,
              "#9c179e"
             ],
             [
              0.4444444444444444,
              "#bd3786"
             ],
             [
              0.5555555555555556,
              "#d8576b"
             ],
             [
              0.6666666666666666,
              "#ed7953"
             ],
             [
              0.7777777777777778,
              "#fb9f3a"
             ],
             [
              0.8888888888888888,
              "#fdca26"
             ],
             [
              1,
              "#f0f921"
             ]
            ],
            "type": "contour"
           }
          ],
          "contourcarpet": [
           {
            "colorbar": {
             "outlinewidth": 0,
             "ticks": ""
            },
            "type": "contourcarpet"
           }
          ],
          "heatmap": [
           {
            "colorbar": {
             "outlinewidth": 0,
             "ticks": ""
            },
            "colorscale": [
             [
              0,
              "#0d0887"
             ],
             [
              0.1111111111111111,
              "#46039f"
             ],
             [
              0.2222222222222222,
              "#7201a8"
             ],
             [
              0.3333333333333333,
              "#9c179e"
             ],
             [
              0.4444444444444444,
              "#bd3786"
             ],
             [
              0.5555555555555556,
              "#d8576b"
             ],
             [
              0.6666666666666666,
              "#ed7953"
             ],
             [
              0.7777777777777778,
              "#fb9f3a"
             ],
             [
              0.8888888888888888,
              "#fdca26"
             ],
             [
              1,
              "#f0f921"
             ]
            ],
            "type": "heatmap"
           }
          ],
          "histogram": [
           {
            "marker": {
             "pattern": {
              "fillmode": "overlay",
              "size": 10,
              "solidity": 0.2
             }
            },
            "type": "histogram"
           }
          ],
          "histogram2d": [
           {
            "colorbar": {
             "outlinewidth": 0,
             "ticks": ""
            },
            "colorscale": [
             [
              0,
              "#0d0887"
             ],
             [
              0.1111111111111111,
              "#46039f"
             ],
             [
              0.2222222222222222,
              "#7201a8"
             ],
             [
              0.3333333333333333,
              "#9c179e"
             ],
             [
              0.4444444444444444,
              "#bd3786"
             ],
             [
              0.5555555555555556,
              "#d8576b"
             ],
             [
              0.6666666666666666,
              "#ed7953"
             ],
             [
              0.7777777777777778,
              "#fb9f3a"
             ],
             [
              0.8888888888888888,
              "#fdca26"
             ],
             [
              1,
              "#f0f921"
             ]
            ],
            "type": "histogram2d"
           }
          ],
          "histogram2dcontour": [
           {
            "colorbar": {
             "outlinewidth": 0,
             "ticks": ""
            },
            "colorscale": [
             [
              0,
              "#0d0887"
             ],
             [
              0.1111111111111111,
              "#46039f"
             ],
             [
              0.2222222222222222,
              "#7201a8"
             ],
             [
              0.3333333333333333,
              "#9c179e"
             ],
             [
              0.4444444444444444,
              "#bd3786"
             ],
             [
              0.5555555555555556,
              "#d8576b"
             ],
             [
              0.6666666666666666,
              "#ed7953"
             ],
             [
              0.7777777777777778,
              "#fb9f3a"
             ],
             [
              0.8888888888888888,
              "#fdca26"
             ],
             [
              1,
              "#f0f921"
             ]
            ],
            "type": "histogram2dcontour"
           }
          ],
          "mesh3d": [
           {
            "colorbar": {
             "outlinewidth": 0,
             "ticks": ""
            },
            "type": "mesh3d"
           }
          ],
          "parcoords": [
           {
            "line": {
             "colorbar": {
              "outlinewidth": 0,
              "ticks": ""
             }
            },
            "type": "parcoords"
           }
          ],
          "pie": [
           {
            "automargin": true,
            "type": "pie"
           }
          ],
          "scatter": [
           {
            "fillpattern": {
             "fillmode": "overlay",
             "size": 10,
             "solidity": 0.2
            },
            "type": "scatter"
           }
          ],
          "scatter3d": [
           {
            "line": {
             "colorbar": {
              "outlinewidth": 0,
              "ticks": ""
             }
            },
            "marker": {
             "colorbar": {
              "outlinewidth": 0,
              "ticks": ""
             }
            },
            "type": "scatter3d"
           }
          ],
          "scattercarpet": [
           {
            "marker": {
             "colorbar": {
              "outlinewidth": 0,
              "ticks": ""
             }
            },
            "type": "scattercarpet"
           }
          ],
          "scattergeo": [
           {
            "marker": {
             "colorbar": {
              "outlinewidth": 0,
              "ticks": ""
             }
            },
            "type": "scattergeo"
           }
          ],
          "scattergl": [
           {
            "marker": {
             "colorbar": {
              "outlinewidth": 0,
              "ticks": ""
             }
            },
            "type": "scattergl"
           }
          ],
          "scattermap": [
           {
            "marker": {
             "colorbar": {
              "outlinewidth": 0,
              "ticks": ""
             }
            },
            "type": "scattermap"
           }
          ],
          "scattermapbox": [
           {
            "marker": {
             "colorbar": {
              "outlinewidth": 0,
              "ticks": ""
             }
            },
            "type": "scattermapbox"
           }
          ],
          "scatterpolar": [
           {
            "marker": {
             "colorbar": {
              "outlinewidth": 0,
              "ticks": ""
             }
            },
            "type": "scatterpolar"
           }
          ],
          "scatterpolargl": [
           {
            "marker": {
             "colorbar": {
              "outlinewidth": 0,
              "ticks": ""
             }
            },
            "type": "scatterpolargl"
           }
          ],
          "scatterternary": [
           {
            "marker": {
             "colorbar": {
              "outlinewidth": 0,
              "ticks": ""
             }
            },
            "type": "scatterternary"
           }
          ],
          "surface": [
           {
            "colorbar": {
             "outlinewidth": 0,
             "ticks": ""
            },
            "colorscale": [
             [
              0,
              "#0d0887"
             ],
             [
              0.1111111111111111,
              "#46039f"
             ],
             [
              0.2222222222222222,
              "#7201a8"
             ],
             [
              0.3333333333333333,
              "#9c179e"
             ],
             [
              0.4444444444444444,
              "#bd3786"
             ],
             [
              0.5555555555555556,
              "#d8576b"
             ],
             [
              0.6666666666666666,
              "#ed7953"
             ],
             [
              0.7777777777777778,
              "#fb9f3a"
             ],
             [
              0.8888888888888888,
              "#fdca26"
             ],
             [
              1,
              "#f0f921"
             ]
            ],
            "type": "surface"
           }
          ],
          "table": [
           {
            "cells": {
             "fill": {
              "color": "#EBF0F8"
             },
             "line": {
              "color": "white"
             }
            },
            "header": {
             "fill": {
              "color": "#C8D4E3"
             },
             "line": {
              "color": "white"
             }
            },
            "type": "table"
           }
          ]
         },
         "layout": {
          "annotationdefaults": {
           "arrowcolor": "#2a3f5f",
           "arrowhead": 0,
           "arrowwidth": 1
          },
          "autotypenumbers": "strict",
          "coloraxis": {
           "colorbar": {
            "outlinewidth": 0,
            "ticks": ""
           }
          },
          "colorscale": {
           "diverging": [
            [
             0,
             "#8e0152"
            ],
            [
             0.1,
             "#c51b7d"
            ],
            [
             0.2,
             "#de77ae"
            ],
            [
             0.3,
             "#f1b6da"
            ],
            [
             0.4,
             "#fde0ef"
            ],
            [
             0.5,
             "#f7f7f7"
            ],
            [
             0.6,
             "#e6f5d0"
            ],
            [
             0.7,
             "#b8e186"
            ],
            [
             0.8,
             "#7fbc41"
            ],
            [
             0.9,
             "#4d9221"
            ],
            [
             1,
             "#276419"
            ]
           ],
           "sequential": [
            [
             0,
             "#0d0887"
            ],
            [
             0.1111111111111111,
             "#46039f"
            ],
            [
             0.2222222222222222,
             "#7201a8"
            ],
            [
             0.3333333333333333,
             "#9c179e"
            ],
            [
             0.4444444444444444,
             "#bd3786"
            ],
            [
             0.5555555555555556,
             "#d8576b"
            ],
            [
             0.6666666666666666,
             "#ed7953"
            ],
            [
             0.7777777777777778,
             "#fb9f3a"
            ],
            [
             0.8888888888888888,
             "#fdca26"
            ],
            [
             1,
             "#f0f921"
            ]
           ],
           "sequentialminus": [
            [
             0,
             "#0d0887"
            ],
            [
             0.1111111111111111,
             "#46039f"
            ],
            [
             0.2222222222222222,
             "#7201a8"
            ],
            [
             0.3333333333333333,
             "#9c179e"
            ],
            [
             0.4444444444444444,
             "#bd3786"
            ],
            [
             0.5555555555555556,
             "#d8576b"
            ],
            [
             0.6666666666666666,
             "#ed7953"
            ],
            [
             0.7777777777777778,
             "#fb9f3a"
            ],
            [
             0.8888888888888888,
             "#fdca26"
            ],
            [
             1,
             "#f0f921"
            ]
           ]
          },
          "colorway": [
           "#636efa",
           "#EF553B",
           "#00cc96",
           "#ab63fa",
           "#FFA15A",
           "#19d3f3",
           "#FF6692",
           "#B6E880",
           "#FF97FF",
           "#FECB52"
          ],
          "font": {
           "color": "#2a3f5f"
          },
          "geo": {
           "bgcolor": "white",
           "lakecolor": "white",
           "landcolor": "#E5ECF6",
           "showlakes": true,
           "showland": true,
           "subunitcolor": "white"
          },
          "hoverlabel": {
           "align": "left"
          },
          "hovermode": "closest",
          "mapbox": {
           "style": "light"
          },
          "paper_bgcolor": "white",
          "plot_bgcolor": "#E5ECF6",
          "polar": {
           "angularaxis": {
            "gridcolor": "white",
            "linecolor": "white",
            "ticks": ""
           },
           "bgcolor": "#E5ECF6",
           "radialaxis": {
            "gridcolor": "white",
            "linecolor": "white",
            "ticks": ""
           }
          },
          "scene": {
           "xaxis": {
            "backgroundcolor": "#E5ECF6",
            "gridcolor": "white",
            "gridwidth": 2,
            "linecolor": "white",
            "showbackground": true,
            "ticks": "",
            "zerolinecolor": "white"
           },
           "yaxis": {
            "backgroundcolor": "#E5ECF6",
            "gridcolor": "white",
            "gridwidth": 2,
            "linecolor": "white",
            "showbackground": true,
            "ticks": "",
            "zerolinecolor": "white"
           },
           "zaxis": {
            "backgroundcolor": "#E5ECF6",
            "gridcolor": "white",
            "gridwidth": 2,
            "linecolor": "white",
            "showbackground": true,
            "ticks": "",
            "zerolinecolor": "white"
           }
          },
          "shapedefaults": {
           "line": {
            "color": "#2a3f5f"
           }
          },
          "ternary": {
           "aaxis": {
            "gridcolor": "white",
            "linecolor": "white",
            "ticks": ""
           },
           "baxis": {
            "gridcolor": "white",
            "linecolor": "white",
            "ticks": ""
           },
           "bgcolor": "#E5ECF6",
           "caxis": {
            "gridcolor": "white",
            "linecolor": "white",
            "ticks": ""
           }
          },
          "title": {
           "x": 0.05
          },
          "xaxis": {
           "automargin": true,
           "gridcolor": "white",
           "linecolor": "white",
           "ticks": "",
           "title": {
            "standoff": 15
           },
           "zerolinecolor": "white",
           "zerolinewidth": 2
          },
          "yaxis": {
           "automargin": true,
           "gridcolor": "white",
           "linecolor": "white",
           "ticks": "",
           "title": {
            "standoff": 15
           },
           "zerolinecolor": "white",
           "zerolinewidth": 2
          }
         }
        },
        "title": {
         "text": "SDG Relevance for Brenntag"
        },
        "width": 750,
        "xaxis": {
         "title": {
          "text": "Relevance"
         }
        }
       }
      }
     },
     "metadata": {},
     "output_type": "display_data"
    }
   ],
   "source": [
    "fig = go.Figure(data=[\n",
    "    go.Bar(name='Internal', x=company_sdg_relevance_df[\"internal\"], y=company_sdg_relevance_df.index, orientation='h'),\n",
    "    go.Bar(name='External', x=company_sdg_relevance_df[\"external\"], y=company_sdg_relevance_df.index, orientation='h')\n",
    "])\n",
    "\n",
    "fig.update_layout(barmode='group', height=600, width=750, title=f\"SDG Relevance for {COMPANY}\")\n",
    "fig.update_xaxes(title=\"Relevance\")\n",
    "fig.show()"
   ]
  },
  {
   "cell_type": "markdown",
   "id": "651d38da",
   "metadata": {
    "papermill": {
     "duration": null,
     "end_time": null,
     "exception": null,
     "start_time": null,
     "status": "pending"
    },
    "tags": []
   },
   "source": [
    "These scores indicate which SDGs are most closely associated with Brenntag's sustainability narrative, from both the company's perspective and that of external media. The higher scores on external metrics for certain goals could suggest a disparity between how the company perceives its ESG efforts and how these efforts are perceived or reported by external parties. This discrepancy is particularly valuable for identifying potential areas of greenwashing or for highlighting the aspects of sustainability that may need more attention from the company."
   ]
  },
  {
   "cell_type": "markdown",
   "id": "9993bb8f",
   "metadata": {
    "id": "pEZ7MiAwszvO",
    "papermill": {
     "duration": null,
     "end_time": null,
     "exception": null,
     "start_time": null,
     "status": "pending"
    },
    "tags": []
   },
   "source": [
    "Next steps to further explore the data: modify the chart to answer the following questions:\n",
    "\n",
    "- What are the internally most important SDGs for BMW?\n",
    "- What are the most important SDGs for BMW when we take into account both the internal and the external data?\n",
    "- What are the SDGs for BMW with the largest relevance gap between internal and external data?"
   ]
  },
  {
   "cell_type": "code",
   "execution_count": 24,
   "id": "93be06c7",
   "metadata": {
    "execution": {
     "iopub.execute_input": "2024-04-30T22:30:45.985210Z",
     "iopub.status.busy": "2024-04-30T22:30:45.984495Z",
     "iopub.status.idle": "2024-04-30T22:30:46.019007Z",
     "shell.execute_reply": "2024-04-30T22:30:46.018050Z",
     "shell.execute_reply.started": "2024-04-30T22:30:45.985178Z"
    },
    "papermill": {
     "duration": null,
     "end_time": null,
     "exception": null,
     "start_time": null,
     "status": "pending"
    },
    "tags": []
   },
   "outputs": [
    {
     "name": "stdout",
     "output_type": "stream",
     "text": [
      "Internally Most Important SDGs for BMW:\n",
      "                                        SDG  Internal  External  Relevance Gap\n",
      "8   Industry, Innovation and Infrastructure  0.317917  0.337423      -0.019506\n",
      "6               Affordable and Clean Energy  0.309701  0.308345       0.001357\n",
      "11   Responsible Consumption and Production  0.293384  0.284081       0.009303\n",
      "2                Good Health and Well-being  0.262602  0.231365       0.031237\n",
      "9                      Reduced Inequalities  0.258250  0.257018       0.001232 \n",
      "\n",
      "Most Important SDGs for BMW (Internal and External):\n",
      "                                        SDG  Internal  External  \\\n",
      "8   Industry, Innovation and Infrastructure  0.317917  0.337423   \n",
      "6               Affordable and Clean Energy  0.309701  0.308345   \n",
      "11   Responsible Consumption and Production  0.293384  0.284081   \n",
      "10       Sustainable Cities and Communities  0.239840  0.304329   \n",
      "9                      Reduced Inequalities  0.258250  0.257018   \n",
      "\n",
      "    Relevance Gap  Average Importance  \n",
      "8       -0.019506            0.327670  \n",
      "6        0.001357            0.309023  \n",
      "11       0.009303            0.288732  \n",
      "10      -0.064490            0.272084  \n",
      "9        0.001232            0.257634   \n",
      "\n",
      "SDGs with the Largest Relevance Gap for BMW:\n",
      "                                       SDG  Internal  External  Relevance Gap  \\\n",
      "7          Decent Work and Economic Growth  0.247020  0.206746       0.040274   \n",
      "3                        Quality Education  0.182956  0.143993       0.038963   \n",
      "2               Good Health and Well-being  0.262602  0.231365       0.031237   \n",
      "5               Clean Water and Sanitation  0.246987  0.224588       0.022399   \n",
      "11  Responsible Consumption and Production  0.293384  0.284081       0.009303   \n",
      "\n",
      "    Average Importance  \n",
      "7             0.226883  \n",
      "3             0.163475  \n",
      "2             0.246984  \n",
      "5             0.235788  \n",
      "11            0.288732   \n",
      "\n"
     ]
    }
   ],
   "source": [
    "import pandas as pd\n",
    "import numpy as np\n",
    "\n",
    "# Assuming you have already computed 'company_sdg_relevance_scores' as shown in your notebook snippet\n",
    "COMPANY = 'BMW'\n",
    "internal_indices = esg_documents_df[(esg_documents_df['company'] == COMPANY) & (esg_documents_df['internal'] == 1)].index\n",
    "external_indices = esg_documents_df[(esg_documents_df['company'] == COMPANY) & (esg_documents_df['internal'] == 0)].index\n",
    "\n",
    "# Aggregate internal and external embeddings for BMW\n",
    "internal_bmw_embedding = np.mean(company_text_embeddings[internal_indices], axis=0)\n",
    "external_bmw_embedding = np.mean(company_text_embeddings[external_indices], axis=0)\n",
    "\n",
    "# Assuming 'sdg_embeddings' is a 2D numpy array with embeddings for each SDG\n",
    "company_sdg_relevance_scores = [\n",
    "    (\n",
    "        sdg_df.loc[idx][\"name\"],  # SDG Name\n",
    "        cosine_similarity(internal_bmw_embedding, sdg_embeddings[idx]),  # Internal similarity score\n",
    "        cosine_similarity(external_bmw_embedding, sdg_embeddings[idx])   # External similarity score\n",
    "    )\n",
    "    for idx in range(len(sdg_embeddings))  # Assuming the index aligns with the SDGs order\n",
    "]\n",
    "\n",
    "# Create DataFrame from relevance scores\n",
    "company_sdg_relevance_df = pd.DataFrame.from_records(\n",
    "    company_sdg_relevance_scores,\n",
    "    columns=['SDG', 'Internal', 'External']\n",
    ")\n",
    "\n",
    "# Calculate the relevance gap between internal and external data\n",
    "company_sdg_relevance_df['Relevance Gap'] = company_sdg_relevance_df['Internal'] - company_sdg_relevance_df['External']\n",
    "\n",
    "# Internally most important SDGs for BMW\n",
    "internally_important_sdgs = company_sdg_relevance_df.sort_values('Internal', ascending=False)\n",
    "\n",
    "# Most important SDGs for BMW considering both internal and external data\n",
    "# A simple way to estimate overall importance might be to average the internal and external scores\n",
    "company_sdg_relevance_df['Average Importance'] = company_sdg_relevance_df[['Internal', 'External']].mean(axis=1)\n",
    "overall_important_sdgs = company_sdg_relevance_df.sort_values('Average Importance', ascending=False)\n",
    "\n",
    "# SDGs for BMW with the largest relevance gap between internal and external data\n",
    "sdgs_largest_relevance_gap = company_sdg_relevance_df.sort_values('Relevance Gap', ascending=False)\n",
    "\n",
    "# Output the top results for each analysis\n",
    "print(\"Internally Most Important SDGs for BMW:\")\n",
    "print(internally_important_sdgs.head(), \"\\n\")\n",
    "\n",
    "print(\"Most Important SDGs for BMW (Internal and External):\")\n",
    "print(overall_important_sdgs.head(), \"\\n\")\n",
    "\n",
    "print(\"SDGs with the Largest Relevance Gap for BMW:\")\n",
    "print(sdgs_largest_relevance_gap.head(), \"\\n\")\n"
   ]
  },
  {
   "cell_type": "markdown",
   "id": "22a44b45",
   "metadata": {
    "papermill": {
     "duration": null,
     "end_time": null,
     "exception": null,
     "start_time": null,
     "status": "pending"
    },
    "tags": []
   },
   "source": [
    "\n",
    "•\tInternally Most Important SDGs for BMW\n",
    "\n",
    "1.\tIndustry, Innovation, and Infrastructure: \n",
    "This is highlighted as the most important SDG in BMW's internal documents, suggesting a significant focus on innovation and sustainable infrastructure within their business practices. This emphasis likely reflects BMW's development of electric vehicles and the establishment of eco-friendly production facilities, aligning with industry trends toward greener and more efficient infrastructures.\n",
    "\n",
    "2.\tAffordable and Clean Energy: \n",
    "This SDG is also prioritized highly by BMW, reflecting a focus on energy efficiency and clean energy initiatives within their operations. For example, BMW has invested in renewable energy solutions across its manufacturing plants, such as using wind turbines to power facilities like the Leipzig plant in Germany.\n",
    "\n",
    "3.\tResponsible Consumption and Production: \n",
    "BMW emphasizes responsible production by implementing sustainable practices such as reducing waste, increasing recycling, and using eco-friendly materials like water-based paints and recycled plastics in their vehicles, underscoring their commitment to minimizing environmental impact.\n",
    "\n",
    "4.\tSustainable Cities and Communities: \n",
    "BMW's internal reports suggest a commitment to supporting sustainable cities and communities, likely through mobility solutions and urban infrastructure projects.\n",
    "\n",
    "5.\tGood Health and Well-being: \n",
    "Finally, good health and well-being are considered important, suggesting that BMW values health-related aspects of sustainability, perhaps related to product safety and employee wellness.\n",
    "\n",
    "•\tMost Important SDGs for BMW (Considering Both Internal and External Data)\n",
    "\n",
    "When both internal and external data are considered, the SDGs that emerge as most important for BMW largely mirror those identified as internally important:\n",
    "\n",
    "•\tIndustry, Innovation, and Infrastructure\n",
    "•\tAffordable and Clean Energy\n",
    "•\tResponsible Consumption and Production \n",
    "•\tSustainable Cities and Communities \n",
    "•\tReduced Inequalities \n",
    "\n",
    "These SDGs represent areas where BMW's sustainability reporting and the external perception of its ESG efforts align, indicating a consistent public-facing narrative on these goals.\n",
    "\n",
    "•\tSDGs with the Largest Relevance Gap for BMW\n",
    "\n",
    "The SDGs with the most substantial relevance gaps between BMW's internal and external narratives are:\n",
    "\n",
    "1.  Decent Work and Economic Growth: This has the most considerable gap, which suggests external parties has a significantly different perception of BMW's impact on economic growth and employment quality compared to how BMW reports it.\n",
    "\n",
    "2.  Quality Education: A notable gap in this area indicates that BMW's contributions to education, perhaps through corporate social responsibility initiatives, are not as recognized externally as they are emphasized internally.\n",
    "\n",
    "3.  Clean Water and Sanitation: The relevance gap suggests that BMW's efforts or impact on water and sanitation are perceived differently externally compared to the company's internal reporting.\n",
    "\n",
    "4.  Responsible Consumption and Production: Although this is a highly ranked SDG internally, the gap indicates that external perceptions may not fully align with BMW's reported efforts in this area.\n",
    "\n",
    "These gaps highlight areas where BMW might need to improve their sustainability practices, increase transparency, or adjust their external communication strategies to better align external perceptions with their internal reporting.\n"
   ]
  },
  {
   "cell_type": "code",
   "execution_count": 25,
   "id": "33a9c535",
   "metadata": {
    "execution": {
     "iopub.execute_input": "2024-04-30T22:30:49.786316Z",
     "iopub.status.busy": "2024-04-30T22:30:49.785745Z",
     "iopub.status.idle": "2024-04-30T22:30:49.818788Z",
     "shell.execute_reply": "2024-04-30T22:30:49.817823Z",
     "shell.execute_reply.started": "2024-04-30T22:30:49.786289Z"
    },
    "papermill": {
     "duration": null,
     "end_time": null,
     "exception": null,
     "start_time": null,
     "status": "pending"
    },
    "tags": []
   },
   "outputs": [
    {
     "name": "stdout",
     "output_type": "stream",
     "text": [
      "Internally Most Important SDGs for Porsche:\n",
      "                                        SDG  Internal  External  Relevance Gap\n",
      "11   Responsible Consumption and Production  0.294036  0.255754       0.038282\n",
      "6               Affordable and Clean Energy  0.268432  0.280989      -0.012557\n",
      "8   Industry, Innovation and Infrastructure  0.235534  0.240739      -0.005205\n",
      "9                      Reduced Inequalities  0.228679  0.234930      -0.006251\n",
      "13                         Life Below Water  0.224651  0.192963       0.031688 \n",
      "\n",
      "Most Important SDGs for Porsche (Internal and External):\n",
      "                                        SDG  Internal  External  \\\n",
      "11   Responsible Consumption and Production  0.294036  0.255754   \n",
      "6               Affordable and Clean Energy  0.268432  0.280989   \n",
      "8   Industry, Innovation and Infrastructure  0.235534  0.240739   \n",
      "9                      Reduced Inequalities  0.228679  0.234930   \n",
      "16               Partnerships for the Goals  0.219921  0.225301   \n",
      "\n",
      "    Relevance Gap  Average Importance  \n",
      "11       0.038282            0.274895  \n",
      "6       -0.012557            0.274711  \n",
      "8       -0.005205            0.238137  \n",
      "9       -0.006251            0.231804  \n",
      "16      -0.005380            0.222611   \n",
      "\n",
      "SDGs with the Largest Relevance Gap for Porsche:\n",
      "                                       SDG  Internal  External  Relevance Gap  \\\n",
      "14                            Life On Land  0.157801  0.091586       0.066215   \n",
      "3                        Quality Education  0.126577  0.086957       0.039621   \n",
      "11  Responsible Consumption and Production  0.294036  0.255754       0.038282   \n",
      "13                        Life Below Water  0.224651  0.192963       0.031688   \n",
      "5               Clean Water and Sanitation  0.198820  0.169552       0.029268   \n",
      "\n",
      "    Average Importance  \n",
      "14            0.124694  \n",
      "3             0.106767  \n",
      "11            0.274895  \n",
      "13            0.208807  \n",
      "5             0.184186   \n",
      "\n"
     ]
    }
   ],
   "source": [
    "# Replace 'BMW' with 'Porsche'\n",
    "COMPANY = 'Porsche'\n",
    "\n",
    "internal_indices = esg_documents_df[(esg_documents_df['company'] == COMPANY) & (esg_documents_df['internal'] == 1)].index\n",
    "external_indices = esg_documents_df[(esg_documents_df['company'] == COMPANY) & (esg_documents_df['internal'] == 0)].index\n",
    "\n",
    "internal_porsche_embedding = np.mean(company_text_embeddings[internal_indices], axis=0)\n",
    "external_porsche_embedding = np.mean(company_text_embeddings[external_indices], axis=0)\n",
    "\n",
    "porsche_sdg_relevance_scores = [\n",
    "    (\n",
    "        sdg_df.loc[idx][\"name\"],  # SDG Name\n",
    "        cosine_similarity(internal_porsche_embedding, sdg_embeddings[idx]),  # Internal similarity score\n",
    "        cosine_similarity(external_porsche_embedding, sdg_embeddings[idx])   # External similarity score\n",
    "    )\n",
    "    for idx in range(len(sdg_embeddings))  # Assuming the index aligns with the SDGs order\n",
    "]\n",
    "\n",
    "# Create DataFrame from relevance scores\n",
    "porsche_sdg_relevance_df = pd.DataFrame.from_records(\n",
    "    porsche_sdg_relevance_scores,\n",
    "    columns=['SDG', 'Internal', 'External']\n",
    ")\n",
    "\n",
    "# Calculate the relevance gap between internal and external data\n",
    "porsche_sdg_relevance_df['Relevance Gap'] = porsche_sdg_relevance_df['Internal'] - porsche_sdg_relevance_df['External']\n",
    "\n",
    "# Sort by Internal, Average, and Relevance Gap\n",
    "internally_important_sdgs = porsche_sdg_relevance_df.sort_values('Internal', ascending=False)\n",
    "porsche_sdg_relevance_df['Average Importance'] = porsche_sdg_relevance_df[['Internal', 'External']].mean(axis=1)\n",
    "overall_important_sdgs = porsche_sdg_relevance_df.sort_values('Average Importance', ascending=False)\n",
    "sdgs_largest_relevance_gap = porsche_sdg_relevance_df.sort_values('Relevance Gap', ascending=False)\n",
    "\n",
    "# Assuming you want to output or examine the top results:\n",
    "print(\"Internally Most Important SDGs for Porsche:\")\n",
    "print(internally_important_sdgs.head(), \"\\n\")\n",
    "\n",
    "print(\"Most Important SDGs for Porsche (Internal and External):\")\n",
    "print(overall_important_sdgs.head(), \"\\n\")\n",
    "\n",
    "print(\"SDGs with the Largest Relevance Gap for Porsche:\")\n",
    "print(sdgs_largest_relevance_gap.head(), \"\\n\")\n"
   ]
  },
  {
   "cell_type": "markdown",
   "id": "c5172653",
   "metadata": {
    "id": "b51sgUHlmZ-T",
    "papermill": {
     "duration": null,
     "end_time": null,
     "exception": null,
     "start_time": null,
     "status": "pending"
    },
    "tags": []
   },
   "source": [
    "### Heatmap of SDG relevance for all companies"
   ]
  },
  {
   "cell_type": "markdown",
   "id": "488e88a3",
   "metadata": {
    "id": "gBXqK6vgues9",
    "papermill": {
     "duration": null,
     "end_time": null,
     "exception": null,
     "start_time": null,
     "status": "pending"
    },
    "tags": []
   },
   "source": [
    "In this analyses, we look at the alignment of all companies with the 17 SDGs, creating an overview over the DAX index."
   ]
  },
  {
   "cell_type": "code",
   "execution_count": 26,
   "id": "33e31bb7",
   "metadata": {
    "execution": {
     "iopub.execute_input": "2024-04-30T22:30:53.665998Z",
     "iopub.status.busy": "2024-04-30T22:30:53.665287Z",
     "iopub.status.idle": "2024-04-30T22:30:53.780334Z",
     "shell.execute_reply": "2024-04-30T22:30:53.779332Z",
     "shell.execute_reply.started": "2024-04-30T22:30:53.665967Z"
    },
    "id": "phqc77AgmlkP",
    "papermill": {
     "duration": null,
     "end_time": null,
     "exception": null,
     "start_time": null,
     "status": "pending"
    },
    "tags": []
   },
   "outputs": [],
   "source": [
    "company_embeddings = []\n",
    "for company in companies:\n",
    "    company_indices = esg_documents_df[esg_documents_df.company == company].index\n",
    "    company_embedding = np.mean(company_text_embeddings[company_indices], axis=0)\n",
    "    company_embeddings.append(company_embedding)"
   ]
  },
  {
   "cell_type": "code",
   "execution_count": 27,
   "id": "3767ef9f",
   "metadata": {
    "execution": {
     "iopub.execute_input": "2024-04-30T22:30:54.036679Z",
     "iopub.status.busy": "2024-04-30T22:30:54.036360Z",
     "iopub.status.idle": "2024-04-30T22:30:54.055542Z",
     "shell.execute_reply": "2024-04-30T22:30:54.054851Z",
     "shell.execute_reply.started": "2024-04-30T22:30:54.036654Z"
    },
    "id": "16hYQs3PyFqd",
    "papermill": {
     "duration": null,
     "end_time": null,
     "exception": null,
     "start_time": null,
     "status": "pending"
    },
    "tags": []
   },
   "outputs": [],
   "source": [
    "company_records = []\n",
    "\n",
    "for company_embedding in company_embeddings:\n",
    "    company_record = []\n",
    "    for sdg_embedding in sdg_embeddings:\n",
    "        company_record.append(cosine_similarity(company_embedding, sdg_embedding))\n",
    "    company_records.append(company_record)"
   ]
  },
  {
   "cell_type": "code",
   "execution_count": 28,
   "id": "d114e70b",
   "metadata": {
    "execution": {
     "iopub.execute_input": "2024-04-30T22:30:55.177634Z",
     "iopub.status.busy": "2024-04-30T22:30:55.176675Z",
     "iopub.status.idle": "2024-04-30T22:30:55.183917Z",
     "shell.execute_reply": "2024-04-30T22:30:55.182961Z",
     "shell.execute_reply.started": "2024-04-30T22:30:55.177601Z"
    },
    "id": "6MG3M3eusaGx",
    "outputId": "b2499421-7a6c-4418-e138-24946138fa73",
    "papermill": {
     "duration": null,
     "end_time": null,
     "exception": null,
     "start_time": null,
     "status": "pending"
    },
    "tags": []
   },
   "outputs": [
    {
     "data": {
      "text/plain": [
       "(40, 17)"
      ]
     },
     "execution_count": 28,
     "metadata": {},
     "output_type": "execute_result"
    }
   ],
   "source": [
    "heatmap_array = np.array(company_records)\n",
    "heatmap_array.shape"
   ]
  },
  {
   "cell_type": "code",
   "execution_count": 29,
   "id": "f023745e",
   "metadata": {
    "execution": {
     "iopub.execute_input": "2024-04-30T22:30:55.917568Z",
     "iopub.status.busy": "2024-04-30T22:30:55.917194Z",
     "iopub.status.idle": "2024-04-30T22:30:55.972284Z",
     "shell.execute_reply": "2024-04-30T22:30:55.971356Z",
     "shell.execute_reply.started": "2024-04-30T22:30:55.917521Z"
    },
    "id": "ibKB-T5CsleV",
    "outputId": "7f96de17-7524-4ea2-bd1b-2f5747e67241",
    "papermill": {
     "duration": null,
     "end_time": null,
     "exception": null,
     "start_time": null,
     "status": "pending"
    },
    "tags": []
   },
   "outputs": [
    {
     "data": {
      "application/vnd.plotly.v1+json": {
       "config": {
        "plotlyServerURL": "https://plot.ly"
       },
       "data": [
        {
         "colorscale": [
          [
           0,
           "#440154"
          ],
          [
           0.1111111111111111,
           "#482878"
          ],
          [
           0.2222222222222222,
           "#3e4989"
          ],
          [
           0.3333333333333333,
           "#31688e"
          ],
          [
           0.4444444444444444,
           "#26828e"
          ],
          [
           0.5555555555555556,
           "#1f9e89"
          ],
          [
           0.6666666666666666,
           "#35b779"
          ],
          [
           0.7777777777777778,
           "#6ece58"
          ],
          [
           0.8888888888888888,
           "#b5de2b"
          ],
          [
           1,
           "#fde725"
          ]
         ],
         "type": "heatmap",
         "x": [
          "No Poverty",
          "Zero Hunger",
          "Good Health and Well-being",
          "Quality Education",
          "Gender Equality",
          "Clean Water and Sanitation",
          "Affordable and Clean Energy",
          "Decent Work and Economic Growth",
          "Industry, Innovation and Infrastructure",
          "Reduced Inequalities",
          "Sustainable Cities and Communities",
          "Responsible Consumption and Production",
          "Climate Action",
          "Life Below Water",
          "Life On Land",
          "Peace, Justice and Strong Institutions",
          "Partnerships for the Goals"
         ],
         "y": [
          "Adidas AG ",
          "Airbus SE ",
          "AkzoNobelNV ",
          "Allianz SE ",
          "BASF SE ",
          "BMW ",
          "Bayer AG ",
          "Beiersdorf AG ",
          "Brenntag ",
          "Continental AG ",
          "Covestro AG ",
          "Daimler AG ",
          "Deutsche Bank AG ",
          "Deutsche Boerse AG ",
          "Deutsche Post AG ",
          "Deutsche Telekom AG ",
          "E ONSE ",
          "Fresenius ",
          "Hannover R AG ",
          "Heidelberg Cement AG ",
          "Henkel ",
          "Infineon Technologies AG ",
          "Linde ",
          "MTU ",
          "Merck KGaA ",
          "Muenchener Rueckversicherungs Gesellschaft AGin Muenchen ",
          "Porsche ",
          "Puma SE ",
          "Qiagen ",
          "RWE AG ",
          "SAP ",
          "Sartorius AG ",
          "Siemens AG ",
          "Siemens Energy ",
          "Siemens Healthineers AG ",
          "Symrise AG ",
          "Volkswagen AG ",
          "Vonovia ",
          "Vonovia SE ",
          "Zalando SE "
         ],
         "z": {
          "bdata": "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",
          "dtype": "f4",
          "shape": "40, 17"
         }
        }
       ],
       "layout": {
        "height": 1000,
        "template": {
         "data": {
          "bar": [
           {
            "error_x": {
             "color": "#2a3f5f"
            },
            "error_y": {
             "color": "#2a3f5f"
            },
            "marker": {
             "line": {
              "color": "#E5ECF6",
              "width": 0.5
             },
             "pattern": {
              "fillmode": "overlay",
              "size": 10,
              "solidity": 0.2
             }
            },
            "type": "bar"
           }
          ],
          "barpolar": [
           {
            "marker": {
             "line": {
              "color": "#E5ECF6",
              "width": 0.5
             },
             "pattern": {
              "fillmode": "overlay",
              "size": 10,
              "solidity": 0.2
             }
            },
            "type": "barpolar"
           }
          ],
          "carpet": [
           {
            "aaxis": {
             "endlinecolor": "#2a3f5f",
             "gridcolor": "white",
             "linecolor": "white",
             "minorgridcolor": "white",
             "startlinecolor": "#2a3f5f"
            },
            "baxis": {
             "endlinecolor": "#2a3f5f",
             "gridcolor": "white",
             "linecolor": "white",
             "minorgridcolor": "white",
             "startlinecolor": "#2a3f5f"
            },
            "type": "carpet"
           }
          ],
          "choropleth": [
           {
            "colorbar": {
             "outlinewidth": 0,
             "ticks": ""
            },
            "type": "choropleth"
           }
          ],
          "contour": [
           {
            "colorbar": {
             "outlinewidth": 0,
             "ticks": ""
            },
            "colorscale": [
             [
              0,
              "#0d0887"
             ],
             [
              0.1111111111111111,
              "#46039f"
             ],
             [
              0.2222222222222222,
              "#7201a8"
             ],
             [
              0.3333333333333333,
              "#9c179e"
             ],
             [
              0.4444444444444444,
              "#bd3786"
             ],
             [
              0.5555555555555556,
              "#d8576b"
             ],
             [
              0.6666666666666666,
              "#ed7953"
             ],
             [
              0.7777777777777778,
              "#fb9f3a"
             ],
             [
              0.8888888888888888,
              "#fdca26"
             ],
             [
              1,
              "#f0f921"
             ]
            ],
            "type": "contour"
           }
          ],
          "contourcarpet": [
           {
            "colorbar": {
             "outlinewidth": 0,
             "ticks": ""
            },
            "type": "contourcarpet"
           }
          ],
          "heatmap": [
           {
            "colorbar": {
             "outlinewidth": 0,
             "ticks": ""
            },
            "colorscale": [
             [
              0,
              "#0d0887"
             ],
             [
              0.1111111111111111,
              "#46039f"
             ],
             [
              0.2222222222222222,
              "#7201a8"
             ],
             [
              0.3333333333333333,
              "#9c179e"
             ],
             [
              0.4444444444444444,
              "#bd3786"
             ],
             [
              0.5555555555555556,
              "#d8576b"
             ],
             [
              0.6666666666666666,
              "#ed7953"
             ],
             [
              0.7777777777777778,
              "#fb9f3a"
             ],
             [
              0.8888888888888888,
              "#fdca26"
             ],
             [
              1,
              "#f0f921"
             ]
            ],
            "type": "heatmap"
           }
          ],
          "histogram": [
           {
            "marker": {
             "pattern": {
              "fillmode": "overlay",
              "size": 10,
              "solidity": 0.2
             }
            },
            "type": "histogram"
           }
          ],
          "histogram2d": [
           {
            "colorbar": {
             "outlinewidth": 0,
             "ticks": ""
            },
            "colorscale": [
             [
              0,
              "#0d0887"
             ],
             [
              0.1111111111111111,
              "#46039f"
             ],
             [
              0.2222222222222222,
              "#7201a8"
             ],
             [
              0.3333333333333333,
              "#9c179e"
             ],
             [
              0.4444444444444444,
              "#bd3786"
             ],
             [
              0.5555555555555556,
              "#d8576b"
             ],
             [
              0.6666666666666666,
              "#ed7953"
             ],
             [
              0.7777777777777778,
              "#fb9f3a"
             ],
             [
              0.8888888888888888,
              "#fdca26"
             ],
             [
              1,
              "#f0f921"
             ]
            ],
            "type": "histogram2d"
           }
          ],
          "histogram2dcontour": [
           {
            "colorbar": {
             "outlinewidth": 0,
             "ticks": ""
            },
            "colorscale": [
             [
              0,
              "#0d0887"
             ],
             [
              0.1111111111111111,
              "#46039f"
             ],
             [
              0.2222222222222222,
              "#7201a8"
             ],
             [
              0.3333333333333333,
              "#9c179e"
             ],
             [
              0.4444444444444444,
              "#bd3786"
             ],
             [
              0.5555555555555556,
              "#d8576b"
             ],
             [
              0.6666666666666666,
              "#ed7953"
             ],
             [
              0.7777777777777778,
              "#fb9f3a"
             ],
             [
              0.8888888888888888,
              "#fdca26"
             ],
             [
              1,
              "#f0f921"
             ]
            ],
            "type": "histogram2dcontour"
           }
          ],
          "mesh3d": [
           {
            "colorbar": {
             "outlinewidth": 0,
             "ticks": ""
            },
            "type": "mesh3d"
           }
          ],
          "parcoords": [
           {
            "line": {
             "colorbar": {
              "outlinewidth": 0,
              "ticks": ""
             }
            },
            "type": "parcoords"
           }
          ],
          "pie": [
           {
            "automargin": true,
            "type": "pie"
           }
          ],
          "scatter": [
           {
            "fillpattern": {
             "fillmode": "overlay",
             "size": 10,
             "solidity": 0.2
            },
            "type": "scatter"
           }
          ],
          "scatter3d": [
           {
            "line": {
             "colorbar": {
              "outlinewidth": 0,
              "ticks": ""
             }
            },
            "marker": {
             "colorbar": {
              "outlinewidth": 0,
              "ticks": ""
             }
            },
            "type": "scatter3d"
           }
          ],
          "scattercarpet": [
           {
            "marker": {
             "colorbar": {
              "outlinewidth": 0,
              "ticks": ""
             }
            },
            "type": "scattercarpet"
           }
          ],
          "scattergeo": [
           {
            "marker": {
             "colorbar": {
              "outlinewidth": 0,
              "ticks": ""
             }
            },
            "type": "scattergeo"
           }
          ],
          "scattergl": [
           {
            "marker": {
             "colorbar": {
              "outlinewidth": 0,
              "ticks": ""
             }
            },
            "type": "scattergl"
           }
          ],
          "scattermap": [
           {
            "marker": {
             "colorbar": {
              "outlinewidth": 0,
              "ticks": ""
             }
            },
            "type": "scattermap"
           }
          ],
          "scattermapbox": [
           {
            "marker": {
             "colorbar": {
              "outlinewidth": 0,
              "ticks": ""
             }
            },
            "type": "scattermapbox"
           }
          ],
          "scatterpolar": [
           {
            "marker": {
             "colorbar": {
              "outlinewidth": 0,
              "ticks": ""
             }
            },
            "type": "scatterpolar"
           }
          ],
          "scatterpolargl": [
           {
            "marker": {
             "colorbar": {
              "outlinewidth": 0,
              "ticks": ""
             }
            },
            "type": "scatterpolargl"
           }
          ],
          "scatterternary": [
           {
            "marker": {
             "colorbar": {
              "outlinewidth": 0,
              "ticks": ""
             }
            },
            "type": "scatterternary"
           }
          ],
          "surface": [
           {
            "colorbar": {
             "outlinewidth": 0,
             "ticks": ""
            },
            "colorscale": [
             [
              0,
              "#0d0887"
             ],
             [
              0.1111111111111111,
              "#46039f"
             ],
             [
              0.2222222222222222,
              "#7201a8"
             ],
             [
              0.3333333333333333,
              "#9c179e"
             ],
             [
              0.4444444444444444,
              "#bd3786"
             ],
             [
              0.5555555555555556,
              "#d8576b"
             ],
             [
              0.6666666666666666,
              "#ed7953"
             ],
             [
              0.7777777777777778,
              "#fb9f3a"
             ],
             [
              0.8888888888888888,
              "#fdca26"
             ],
             [
              1,
              "#f0f921"
             ]
            ],
            "type": "surface"
           }
          ],
          "table": [
           {
            "cells": {
             "fill": {
              "color": "#EBF0F8"
             },
             "line": {
              "color": "white"
             }
            },
            "header": {
             "fill": {
              "color": "#C8D4E3"
             },
             "line": {
              "color": "white"
             }
            },
            "type": "table"
           }
          ]
         },
         "layout": {
          "annotationdefaults": {
           "arrowcolor": "#2a3f5f",
           "arrowhead": 0,
           "arrowwidth": 1
          },
          "autotypenumbers": "strict",
          "coloraxis": {
           "colorbar": {
            "outlinewidth": 0,
            "ticks": ""
           }
          },
          "colorscale": {
           "diverging": [
            [
             0,
             "#8e0152"
            ],
            [
             0.1,
             "#c51b7d"
            ],
            [
             0.2,
             "#de77ae"
            ],
            [
             0.3,
             "#f1b6da"
            ],
            [
             0.4,
             "#fde0ef"
            ],
            [
             0.5,
             "#f7f7f7"
            ],
            [
             0.6,
             "#e6f5d0"
            ],
            [
             0.7,
             "#b8e186"
            ],
            [
             0.8,
             "#7fbc41"
            ],
            [
             0.9,
             "#4d9221"
            ],
            [
             1,
             "#276419"
            ]
           ],
           "sequential": [
            [
             0,
             "#0d0887"
            ],
            [
             0.1111111111111111,
             "#46039f"
            ],
            [
             0.2222222222222222,
             "#7201a8"
            ],
            [
             0.3333333333333333,
             "#9c179e"
            ],
            [
             0.4444444444444444,
             "#bd3786"
            ],
            [
             0.5555555555555556,
             "#d8576b"
            ],
            [
             0.6666666666666666,
             "#ed7953"
            ],
            [
             0.7777777777777778,
             "#fb9f3a"
            ],
            [
             0.8888888888888888,
             "#fdca26"
            ],
            [
             1,
             "#f0f921"
            ]
           ],
           "sequentialminus": [
            [
             0,
             "#0d0887"
            ],
            [
             0.1111111111111111,
             "#46039f"
            ],
            [
             0.2222222222222222,
             "#7201a8"
            ],
            [
             0.3333333333333333,
             "#9c179e"
            ],
            [
             0.4444444444444444,
             "#bd3786"
            ],
            [
             0.5555555555555556,
             "#d8576b"
            ],
            [
             0.6666666666666666,
             "#ed7953"
            ],
            [
             0.7777777777777778,
             "#fb9f3a"
            ],
            [
             0.8888888888888888,
             "#fdca26"
            ],
            [
             1,
             "#f0f921"
            ]
           ]
          },
          "colorway": [
           "#636efa",
           "#EF553B",
           "#00cc96",
           "#ab63fa",
           "#FFA15A",
           "#19d3f3",
           "#FF6692",
           "#B6E880",
           "#FF97FF",
           "#FECB52"
          ],
          "font": {
           "color": "#2a3f5f"
          },
          "geo": {
           "bgcolor": "white",
           "lakecolor": "white",
           "landcolor": "#E5ECF6",
           "showlakes": true,
           "showland": true,
           "subunitcolor": "white"
          },
          "hoverlabel": {
           "align": "left"
          },
          "hovermode": "closest",
          "mapbox": {
           "style": "light"
          },
          "paper_bgcolor": "white",
          "plot_bgcolor": "#E5ECF6",
          "polar": {
           "angularaxis": {
            "gridcolor": "white",
            "linecolor": "white",
            "ticks": ""
           },
           "bgcolor": "#E5ECF6",
           "radialaxis": {
            "gridcolor": "white",
            "linecolor": "white",
            "ticks": ""
           }
          },
          "scene": {
           "xaxis": {
            "backgroundcolor": "#E5ECF6",
            "gridcolor": "white",
            "gridwidth": 2,
            "linecolor": "white",
            "showbackground": true,
            "ticks": "",
            "zerolinecolor": "white"
           },
           "yaxis": {
            "backgroundcolor": "#E5ECF6",
            "gridcolor": "white",
            "gridwidth": 2,
            "linecolor": "white",
            "showbackground": true,
            "ticks": "",
            "zerolinecolor": "white"
           },
           "zaxis": {
            "backgroundcolor": "#E5ECF6",
            "gridcolor": "white",
            "gridwidth": 2,
            "linecolor": "white",
            "showbackground": true,
            "ticks": "",
            "zerolinecolor": "white"
           }
          },
          "shapedefaults": {
           "line": {
            "color": "#2a3f5f"
           }
          },
          "ternary": {
           "aaxis": {
            "gridcolor": "white",
            "linecolor": "white",
            "ticks": ""
           },
           "baxis": {
            "gridcolor": "white",
            "linecolor": "white",
            "ticks": ""
           },
           "bgcolor": "#E5ECF6",
           "caxis": {
            "gridcolor": "white",
            "linecolor": "white",
            "ticks": ""
           }
          },
          "title": {
           "x": 0.05
          },
          "xaxis": {
           "automargin": true,
           "gridcolor": "white",
           "linecolor": "white",
           "ticks": "",
           "title": {
            "standoff": 15
           },
           "zerolinecolor": "white",
           "zerolinewidth": 2
          },
          "yaxis": {
           "automargin": true,
           "gridcolor": "white",
           "linecolor": "white",
           "ticks": "",
           "title": {
            "standoff": 15
           },
           "zerolinecolor": "white",
           "zerolinewidth": 2
          }
         }
        }
       }
      }
     },
     "metadata": {},
     "output_type": "display_data"
    }
   ],
   "source": [
    "fig = go.Figure(data=go.Heatmap(\n",
    "        z=heatmap_array,\n",
    "        x=sdg_df[\"name\"].tolist(),\n",
    "        y=[company + \" \" for company in companies],\n",
    "        colorscale='Viridis'))\n",
    "\n",
    "fig.update_layout(height=1000)\n",
    "\n",
    "fig.show()"
   ]
  },
  {
   "cell_type": "markdown",
   "id": "10850170",
   "metadata": {
    "papermill": {
     "duration": null,
     "end_time": null,
     "exception": null,
     "start_time": null,
     "status": "pending"
    },
    "tags": []
   },
   "source": [
    "The heatmap also shows variance across companies for each SDG, indicating that different companies may prioritize different SDGs based on their industry, strategy, and operational focus. For instance, if a certain company has a higher alignment with \"Life Below Water,\" it may suggest their business has a direct impact on marine ecosystems, like shipping or resource extraction.\n",
    "\n",
    "1.  Affordable and Clean Energy (SDG 7): This goal has the highest total relevance score, it is the most emphasized SDG across DAX companies. Companies are likely focusing on energy efficiency, renewable energy, and clean technology initiatives in their sustainability efforts.\n",
    "\n",
    "2.  Industry, Innovation, and Infrastructure (SDG 9): Coming in second, this indicates a strong focus on building resilient infrastructure, fostering innovation, and supporting industrial development, which is key to economic growth and sustainable development.\n",
    "\n",
    "3.  Reduced Inequalities (SDG 10): The third most relevant SDG reflects a significant commitment from these companies to reduce income disparities, promote social, economic, and political inclusion, and ensure equal opportunities.\n",
    "\n",
    "4.  Responsible Consumption and Production (SDG 12) and Life Below Water (SDG 14): These goals also rank high, showing a focus on sustainable resource use, efficient waste management, and marine conservation.\n",
    "\n",
    "5.  Partnerships for the Goals (SDG 17): This SDG, while not the highest, still scores relatively well, indicating engagement in partnerships to achieve broader sustainability targets.\n",
    "\n",
    "6.  Gender Equality (SDG 5) and Peace, Justice, and Strong Institutions (SDG 16): These goals have the lowest total relevance scores. This could mean they are not as prominently reported or targeted in the companies' sustainability strategies or perhaps are areas where the companies need to develop stronger initiatives.\n",
    "\n"
   ]
  },
  {
   "cell_type": "markdown",
   "id": "67075fdd",
   "metadata": {
    "id": "GL7m-zActYKI",
    "papermill": {
     "duration": null,
     "end_time": null,
     "exception": null,
     "start_time": null,
     "status": "pending"
    },
    "tags": []
   },
   "source": [
    "Next steps to further explore the data: modify the chart to answer the following questions:\n",
    "\n",
    "- What are the companies that are most aligned with the SDGs? (sort by sum of rows)\n",
    "- Which SDGs are most relevant for the DAX index? (sort by sum of columns)"
   ]
  },
  {
   "cell_type": "code",
   "execution_count": 30,
   "id": "55703e51",
   "metadata": {
    "execution": {
     "iopub.execute_input": "2024-04-30T22:30:59.261271Z",
     "iopub.status.busy": "2024-04-30T22:30:59.260917Z",
     "iopub.status.idle": "2024-04-30T22:30:59.390465Z",
     "shell.execute_reply": "2024-04-30T22:30:59.389436Z",
     "shell.execute_reply.started": "2024-04-30T22:30:59.261242Z"
    },
    "id": "sBKF8POTClt_",
    "papermill": {
     "duration": null,
     "end_time": null,
     "exception": null,
     "start_time": null,
     "status": "pending"
    },
    "tags": []
   },
   "outputs": [],
   "source": [
    "import numpy as np\n",
    "import pandas as pd\n",
    "\n",
    "# Assuming 'company_text_embeddings' are the embeddings for the company contents\n",
    "# and 'sdg_embeddings' are the embeddings for the concatenated SDG texts\n",
    "\n",
    "# Compute cosine similarity for each company and each SDG\n",
    "def cosine_similarity(vec1, vec2):\n",
    "    return np.dot(vec1, vec2) / (np.linalg.norm(vec1) * np.linalg.norm(vec2))\n",
    "\n",
    "# Calculate the alignment score with all SDGs for each company\n",
    "company_alignment_scores = []\n",
    "\n",
    "for company in esg_documents_df['company'].unique():\n",
    "    company_indices = esg_documents_df[esg_documents_df['company'] == company].index\n",
    "    company_embedding = np.mean(company_text_embeddings[company_indices], axis=0)\n",
    "    \n",
    "    company_sdg_scores = [\n",
    "        cosine_similarity(company_embedding, sdg_embedding) for sdg_embedding in sdg_embeddings\n",
    "    ]\n",
    "    \n",
    "    total_alignment_score = np.sum(company_sdg_scores)\n",
    "    company_alignment_scores.append((company, total_alignment_score))\n",
    "\n",
    "# Create a DataFrame from the alignment scores\n",
    "company_alignment_df = pd.DataFrame(company_alignment_scores, columns=['Company', 'Total Alignment Score'])\n",
    "\n",
    "# Sort the companies by their total alignment score in descending order\n",
    "sorted_alignment_df = company_alignment_df.sort_values(by='Total Alignment Score', ascending=False)\n",
    "\n",
    "# Now sorted_alignment_df contains companies sorted by their alignment with the SDGs\n",
    "# You can print or save this DataFrame to CSV or Excel for further analysis\n",
    "sorted_alignment_df.to_csv('companies_sorted_by_sdg_alignment.csv', index=False)\n"
   ]
  },
  {
   "cell_type": "code",
   "execution_count": 31,
   "id": "9cb3317f",
   "metadata": {
    "execution": {
     "iopub.execute_input": "2024-04-30T22:37:59.840059Z",
     "iopub.status.busy": "2024-04-30T22:37:59.839332Z",
     "iopub.status.idle": "2024-04-30T22:38:00.495701Z",
     "shell.execute_reply": "2024-04-30T22:38:00.494630Z",
     "shell.execute_reply.started": "2024-04-30T22:37:59.840009Z"
    },
    "papermill": {
     "duration": null,
     "end_time": null,
     "exception": null,
     "start_time": null,
     "status": "pending"
    },
    "tags": []
   },
   "outputs": [
    {
     "data": {
      "image/png": "[encoded data removed]",
      "text/plain": [
       "<Figure size 1000x1500 with 1 Axes>"
      ]
     },
     "metadata": {},
     "output_type": "display_data"
    }
   ],
   "source": [
    "import matplotlib.pyplot as plt\n",
    "\n",
    "plt.figure(figsize=(10, 15))  # Adjust the figure size as needed\n",
    "plt.barh(sorted_alignment_df['Company'], sorted_alignment_df['Total Alignment Score'], color='skyblue')\n",
    "plt.xlabel('Total Alignment Score')\n",
    "plt.ylabel('Company')\n",
    "plt.title('Companies by Total Alignment Score')\n",
    "plt.gca().invert_yaxis()  # Invert y-axis to have the highest score on top\n",
    "plt.show()\n"
   ]
  },
  {
   "cell_type": "code",
   "execution_count": 32,
   "id": "05f61848",
   "metadata": {
    "execution": {
     "iopub.execute_input": "2024-04-30T22:31:00.201711Z",
     "iopub.status.busy": "2024-04-30T22:31:00.201347Z",
     "iopub.status.idle": "2024-04-30T22:31:02.880370Z",
     "shell.execute_reply": "2024-04-30T22:31:02.879441Z",
     "shell.execute_reply.started": "2024-04-30T22:31:00.201671Z"
    },
    "papermill": {
     "duration": null,
     "end_time": null,
     "exception": null,
     "start_time": null,
     "status": "pending"
    },
    "tags": []
   },
   "outputs": [
    {
     "data": {
      "text/html": [
       "<div>\n",
       "<style scoped>\n",
       "    .dataframe tbody tr th:only-of-type {\n",
       "        vertical-align: middle;\n",
       "    }\n",
       "\n",
       "    .dataframe tbody tr th {\n",
       "        vertical-align: top;\n",
       "    }\n",
       "\n",
       "    .dataframe thead th {\n",
       "        text-align: right;\n",
       "    }\n",
       "</style>\n",
       "<table border=\"1\" class=\"dataframe\">\n",
       "  <thead>\n",
       "    <tr style=\"text-align: right;\">\n",
       "      <th></th>\n",
       "      <th>SDG</th>\n",
       "      <th>Total Relevance</th>\n",
       "    </tr>\n",
       "  </thead>\n",
       "  <tbody>\n",
       "    <tr>\n",
       "      <th>0</th>\n",
       "      <td>Affordable and Clean Energy</td>\n",
       "      <td>1891.833252</td>\n",
       "    </tr>\n",
       "    <tr>\n",
       "      <th>1</th>\n",
       "      <td>Industry, Innovation and Infrastructure</td>\n",
       "      <td>1740.805908</td>\n",
       "    </tr>\n",
       "    <tr>\n",
       "      <th>2</th>\n",
       "      <td>Reduced Inequalities</td>\n",
       "      <td>1582.340942</td>\n",
       "    </tr>\n",
       "    <tr>\n",
       "      <th>3</th>\n",
       "      <td>Responsible Consumption and Production</td>\n",
       "      <td>1579.344727</td>\n",
       "    </tr>\n",
       "    <tr>\n",
       "      <th>4</th>\n",
       "      <td>Life Below Water</td>\n",
       "      <td>1564.692627</td>\n",
       "    </tr>\n",
       "    <tr>\n",
       "      <th>5</th>\n",
       "      <td>Partnerships for the Goals</td>\n",
       "      <td>1525.674683</td>\n",
       "    </tr>\n",
       "    <tr>\n",
       "      <th>6</th>\n",
       "      <td>Clean Water and Sanitation</td>\n",
       "      <td>1374.699951</td>\n",
       "    </tr>\n",
       "    <tr>\n",
       "      <th>7</th>\n",
       "      <td>Good Health and Well-being</td>\n",
       "      <td>1371.963013</td>\n",
       "    </tr>\n",
       "    <tr>\n",
       "      <th>8</th>\n",
       "      <td>Decent Work and Economic Growth</td>\n",
       "      <td>1334.091431</td>\n",
       "    </tr>\n",
       "    <tr>\n",
       "      <th>9</th>\n",
       "      <td>No Poverty</td>\n",
       "      <td>1333.696533</td>\n",
       "    </tr>\n",
       "    <tr>\n",
       "      <th>10</th>\n",
       "      <td>Climate Action</td>\n",
       "      <td>1321.436768</td>\n",
       "    </tr>\n",
       "    <tr>\n",
       "      <th>11</th>\n",
       "      <td>Sustainable Cities and Communities</td>\n",
       "      <td>1314.559204</td>\n",
       "    </tr>\n",
       "    <tr>\n",
       "      <th>12</th>\n",
       "      <td>Zero Hunger</td>\n",
       "      <td>1138.404419</td>\n",
       "    </tr>\n",
       "    <tr>\n",
       "      <th>13</th>\n",
       "      <td>Quality Education</td>\n",
       "      <td>1001.734619</td>\n",
       "    </tr>\n",
       "    <tr>\n",
       "      <th>14</th>\n",
       "      <td>Life On Land</td>\n",
       "      <td>897.362244</td>\n",
       "    </tr>\n",
       "    <tr>\n",
       "      <th>15</th>\n",
       "      <td>Peace, Justice and Strong Institutions</td>\n",
       "      <td>765.409546</td>\n",
       "    </tr>\n",
       "    <tr>\n",
       "      <th>16</th>\n",
       "      <td>Gender Equality</td>\n",
       "      <td>730.632507</td>\n",
       "    </tr>\n",
       "  </tbody>\n",
       "</table>\n",
       "</div>"
      ],
      "text/plain": [
       "                                        SDG  Total Relevance\n",
       "0               Affordable and Clean Energy      1891.833252\n",
       "1   Industry, Innovation and Infrastructure      1740.805908\n",
       "2                      Reduced Inequalities      1582.340942\n",
       "3    Responsible Consumption and Production      1579.344727\n",
       "4                          Life Below Water      1564.692627\n",
       "5                Partnerships for the Goals      1525.674683\n",
       "6                Clean Water and Sanitation      1374.699951\n",
       "7                Good Health and Well-being      1371.963013\n",
       "8           Decent Work and Economic Growth      1334.091431\n",
       "9                                No Poverty      1333.696533\n",
       "10                           Climate Action      1321.436768\n",
       "11       Sustainable Cities and Communities      1314.559204\n",
       "12                              Zero Hunger      1138.404419\n",
       "13                        Quality Education      1001.734619\n",
       "14                             Life On Land       897.362244\n",
       "15   Peace, Justice and Strong Institutions       765.409546\n",
       "16                          Gender Equality       730.632507"
      ]
     },
     "execution_count": 32,
     "metadata": {},
     "output_type": "execute_result"
    }
   ],
   "source": [
    "# Assume 'company_text_embeddings' are available and are a list of embeddings for each company\n",
    "# And 'sdg_embeddings' is a list of embeddings for each SDG\n",
    "\n",
    "# Compute cosine similarity scores between each company and each SDG\n",
    "all_company_scores = np.array([\n",
    "    [cosine_similarity(company_embedding, sdg_embedding) for sdg_embedding in sdg_embeddings]\n",
    "    for company_embedding in company_text_embeddings\n",
    "])\n",
    "\n",
    "# Sum scores for each SDG across all companies\n",
    "sdg_relevance_sums = np.sum(all_company_scores, axis=0)\n",
    "\n",
    "# Create a DataFrame for SDGs and their summed relevance scores\n",
    "sdg_relevance_df = pd.DataFrame({\n",
    "    'SDG': sdg_df['name'],  # or however you have the SDG names stored\n",
    "    'Total Relevance': sdg_relevance_sums\n",
    "})\n",
    "\n",
    "# Sort the DataFrame by the 'Total Relevance' column in descending order\n",
    "sorted_sdgs_by_relevance = sdg_relevance_df.sort_values(by='Total Relevance', ascending=False)\n",
    "\n",
    "# Reset the index to get a clean DataFrame\n",
    "sorted_sdgs_by_relevance.reset_index(drop=True, inplace=True)\n",
    "\n",
    "# Display the sorted DataFrame\n",
    "sorted_sdgs_by_relevance\n"
   ]
  },
  {
   "cell_type": "markdown",
   "id": "bfee2ac9",
   "metadata": {
    "papermill": {
     "duration": null,
     "end_time": null,
     "exception": null,
     "start_time": null,
     "status": "pending"
    },
    "tags": []
   },
   "source": [
    "The output appears to be a table that lists the Sustainable Development Goals (SDGs) in descending order of their relevance across the companies in the DAX index, based on a summation of the cosine similarity scores between company reports and SDG embeddings.\n",
    "\n",
    "Here's an interpretation of the output:\n",
    "\n",
    "1. **Affordable and Clean Energy (SDG 7)**: This is the most relevant SDG across the DAX companies, suggesting that these companies are placing a strong emphasis on energy-related issues and clean energy solutions in their operations and reporting.\n",
    "\n",
    "2. **Industry, Innovation and Infrastructure (SDG 9)**: As the second most relevant SDG, it indicates a significant focus on building resilient infrastructure, promoting inclusive and sustainable industrialization, and fostering innovation among the DAX companies.\n",
    "\n",
    "3. **Reduced Inequalities (SDG 10)**: Standing as the third, it shows a considerable commitment by the companies to address inequalities within and among countries.\n",
    "\n",
    "4. **Responsible Consumption and Production (SDG 12)**: This high ranking reflects an emphasis on sustainable management and efficient use of natural resources, as well as a push for more sustainable practices and consumption patterns.\n",
    "\n",
    "5. **Life Below Water (SDG 14)**: The companies are also paying substantial attention to conserving and sustainably using the oceans, seas, and marine resources, as indicated by its relevance score.\n",
    "\n",
    "6. **Partnerships for the Goals (SDG 17)**: This indicates the importance placed on multi-stakeholder partnerships that mobilize and share knowledge, expertise, technology, and financial resources to support the achievement of the SDGs in all countries.\n",
    "\n",
    "7. **Clean Water and Sanitation (SDG 6)** to **Gender Equality (SDG 5)**: The middle-ranked SDGs show moderate to high relevance, suggesting these areas are also recognized within corporate sustainability efforts but with varying degrees of focus.\n",
    "\n",
    "8. **Life On Land (SDG 15)** and **Peace, Justice and Strong Institutions (SDG 16)**: These SDGs have lower total relevance scores, indicating they are less emphasized across the DAX companies compared to other goals.\n",
    "\n",
    "9. **Gender Equality (SDG 5)**: As the SDG with the lowest total relevance score, this may suggest that gender equality is not as prominently addressed within the sustainability reports of the DAX companies or is not as aligned with their core business activities as other SDGs.\n",
    "\n",
    "This interpretation suggests that while there is some focus across the spectrum of SDGs, certain goals related to environmental sustainability, innovation, and infrastructure are given more emphasis in the corporate sustainability reports of DAX companies. Goals related to social issues like gender equality appear to receive less emphasis relative to others.\n",
    "\n",
    "To gain a more nuanced understanding of why some SDGs score higher than others, it would be beneficial to analyze the content of the reports qualitatively to understand the specific contexts, initiatives, and reporting practices of the DAX companies. Additionally, considering the sectors in which these companies operate could provide further insights into why certain SDGs are more relevant to them."
   ]
  },
  {
   "cell_type": "markdown",
   "id": "b2055c95",
   "metadata": {
    "papermill": {
     "duration": null,
     "end_time": null,
     "exception": null,
     "start_time": null,
     "status": "pending"
    },
    "tags": []
   },
   "source": [
    "\n",
    "Conclusion and Recommendations\n",
    "\n",
    "•\tSuggestions for companies, policymakers, and ESG rating providers on how to reduce greenwashing:\n",
    "\n",
    "To effectively mitigate the issue of greenwashing, companies should adopt a multi-faceted approach encompassing increased transparency, rigorous third-party audits, broad stakeholder engagement, and the strategic implementation of NLP tools. By enhancing the transparency of sustainability reports and providing detailed methodologies behind ESG claims, companies can foster greater accountability. \n",
    "Engaging independent third parties to audit these claims and involving a diverse range of stakeholders—such as NGOs, community representatives, and industry experts—in the reporting process further ensures a well-rounded representation of the company’s sustainability efforts. \n",
    "Crucially, developing internal NLP tools to continuously analyze and compare their ESG reporting with external media and reports can help companies identify discrepancies and better align their corporate reporting with external perceptions and facts. Policymakers can support these efforts by funding research focused on advanced NLP techniques for monitoring ESG disclosures and promoting regulatory frameworks that mandate the disclosure of both positive and negative sustainability impacts. Similarly, ESG rating providers should integrate these sophisticated NLP methodologies to enhance the analysis of qualitative data in ESG reports, enabling more accurate comparisons with quantitative data and third-party information, thereby ensuring a more reliable assessment of corporate sustainability practices.\n",
    "\n"
   ]
  }
 ],
 "metadata": {
  "colab": {
   "provenance": []
  },
  "kaggle": {
   "accelerator": "nvidiaTeslaT4",
   "dataSources": [
    {
     "datasetId": 3230335,
     "sourceId": 5626536,
     "sourceType": "datasetVersion"
    }
   ],
   "dockerImageVersionId": 30699,
   "isGpuEnabled": true,
   "isInternetEnabled": true,
   "language": "python",
   "sourceType": "notebook"
  },
  "kernelspec": {
   "display_name": "hackitba",
   "language": "python",
   "name": "python3"
  },
  "language_info": {
   "codemirror_mode": {
    "name": "ipython",
    "version": 3
   },
   "file_extension": ".py",
   "mimetype": "text/x-python",
   "name": "python",
   "nbconvert_exporter": "python",
   "pygments_lexer": "ipython3",
   "version": "3.13.2"
  },
  "papermill": {
   "default_parameters": {},
   "duration": 5.995912,
   "end_time": "2024-04-30T22:40:05.311044",
   "environment_variables": {},
   "exception": true,
   "input_path": "__notebook__.ipynb",
   "output_path": "__notebook__.ipynb",
   "parameters": {},
   "start_time": "2024-04-30T22:39:59.315132",
   "version": "2.5.0"
  }
 },
 "nbformat": 4,
 "nbformat_minor": 5
}
